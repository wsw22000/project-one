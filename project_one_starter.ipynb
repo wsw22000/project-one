{
 "cells": [
  {
   "cell_type": "code",
   "execution_count": 1,
   "metadata": {},
   "outputs": [
    {
     "name": "stderr",
     "output_type": "stream",
     "text": [
      "/Users/leishla/opt/anaconda3/lib/python3.7/site-packages/IPython/core/interactiveshell.py:3063: DtypeWarning: Columns (8) have mixed types.Specify dtype option on import or set low_memory=False.\n",
      "  interactivity=interactivity, compiler=compiler, result=result)\n"
     ]
    }
   ],
   "source": [
    "import pandas as pd\n",
    "\n",
    "# Note: 2011-2013 represent top 100 billed services. 2014-2017 represent all billed services\n",
    "data_2011= \"data_cms_gov/Medicare_Provider_Charge_Inpatient_DRG100_FY2011.csv\"\n",
    "data_2012= \"data_cms_gov/Medicare_Provider_Charge_Inpatient_DRG100_FY2012.csv\"\n",
    "data_2013= \"data_cms_gov/Medicare_Provider_Charge_Inpatient_DRG100_FY2013.csv\"\n",
    "data_2014= \"data_cms_gov/Medicare_Provider_Charge_Inpatient_DRGALL_FY2014.csv\"\n",
    "data_2015= \"data_cms_gov/Medicare_Provider_Charge_Inpatient_DRGALL_FY2015.csv\"\n",
    "data_2016= \"data_cms_gov/Medicare_Provider_Charge_Inpatient_DRGALL_FY2016.csv\"\n",
    "data_2017= \"data_cms_gov/Medicare_Provider_Charge_Inpatient_DRGALL_FY2017.csv\"\n",
    "\n",
    "# Read School and Student Data File and store into Pandas Data Frames\n",
    "data_2011_df = pd.read_csv(data_2011)\n",
    "data_2012_df = pd.read_csv(data_2012)\n",
    "data_2013_df = pd.read_csv(data_2013)\n",
    "data_2014_df = pd.read_csv(data_2014)\n",
    "data_2015_df = pd.read_csv(data_2015)\n",
    "data_2016_df = pd.read_csv(data_2016)\n",
    "data_2017_df = pd.read_csv(data_2017)"
   ]
  },
  {
   "cell_type": "code",
   "execution_count": 4,
   "metadata": {},
   "outputs": [
    {
     "data": {
      "text/plain": [
       "0         363\n",
       "1         363\n",
       "2         363\n",
       "3         363\n",
       "4         363\n",
       "         ... \n",
       "196320    799\n",
       "196321    799\n",
       "196322    799\n",
       "196323    773\n",
       "196324    773\n",
       "Name: Provider Zip Code, Length: 196325, dtype: int64"
      ]
     },
     "execution_count": 4,
     "metadata": {},
     "output_type": "execute_result"
    }
   ],
   "source": [
    "zip2011_df = data_2011_df[\"Provider Zip Code\"].floordiv(100)\n",
    "zip2012_df = data_2012_df[\"Provider Zip Code\"].floordiv(100)\n",
    "zip2014_df = data_2014_df[\"Provider Zip Code\"].floordiv(100)\n",
    "zip2015_df = data_2015_df[\"Provider Zip Code\"].floordiv(100)\n",
    "zip2016_df = data_2016_df[\"Provider Zip Code\"].floordiv(100)\n",
    "zip2017_df = data_2017_df[\"Provider Zip Code\"].floordiv(100)\n",
    "\n",
    "zip2017_df"
   ]
  },
  {
   "cell_type": "code",
   "execution_count": 3,
   "metadata": {},
   "outputs": [
    {
     "data": {
      "text/plain": [
       "0         363\n",
       "1         359\n",
       "2         356\n",
       "3         352\n",
       "4         350\n",
       "         ... \n",
       "153595    760\n",
       "153596    774\n",
       "153597    786\n",
       "153598    782\n",
       "153599    786\n",
       "Name: Provider Zip Code, Length: 153600, dtype: int64"
      ]
     },
     "execution_count": 3,
     "metadata": {},
     "output_type": "execute_result"
    }
   ],
   "source": [
    "zip13_df = data_2013_df[\"Provider Zip Code\"].floordiv(100)\n",
    "\n",
    "zipdrop_df = zip13_df.dropna(axis=0, how= \"any\")\n",
    "\n",
    "zip2013_df = zipdrop_df.astype(int)\n",
    "\n",
    "zip2013_df"
   ]
  }
 ],
 "metadata": {
  "anaconda-cloud": {},
  "kernel_info": {
   "name": "python3"
  },
  "kernelspec": {
   "display_name": "Python 3",
   "language": "python",
   "name": "python3"
  },
  "language_info": {
   "codemirror_mode": {
    "name": "ipython",
    "version": 3
   },
   "file_extension": ".py",
   "mimetype": "text/x-python",
   "name": "python",
   "nbconvert_exporter": "python",
   "pygments_lexer": "ipython3",
   "version": "3.7.6"
  },
  "latex_envs": {
   "LaTeX_envs_menu_present": true,
   "autoclose": false,
   "autocomplete": true,
   "bibliofile": "biblio.bib",
   "cite_by": "apalike",
   "current_citInitial": 1,
   "eqLabelWithNumbers": true,
   "eqNumInitial": 1,
   "hotkeys": {
    "equation": "Ctrl-E",
    "itemize": "Ctrl-I"
   },
   "labels_anchors": false,
   "latex_user_defs": false,
   "report_style_numbering": false,
   "user_envs_cfg": false
  },
  "nteract": {
   "version": "0.8.4"
  }
 },
 "nbformat": 4,
 "nbformat_minor": 1
}
