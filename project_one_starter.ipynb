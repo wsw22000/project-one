{
 "cells": [
  {
   "cell_type": "code",

   "execution_count": null,
   "metadata": {},
   "outputs": [],

   "source": [
    "import pandas as pd\n",
    "\n",
    "# Note: 2011-2013 represent top 100 billed services. 2014-2017 represent all billed services\n",
    "data_2011= \"data_cms_gov/Medicare_Provider_Charge_Inpatient_DRG100_FY2011.csv\"\n",
    "data_2012= \"data_cms_gov/Medicare_Provider_Charge_Inpatient_DRG100_FY2012.csv\"\n",
    "data_2013= \"data_cms_gov/Medicare_Provider_Charge_Inpatient_DRG100_FY2013.csv\"\n",
    "data_2014= \"data_cms_gov/Medicare_Provider_Charge_Inpatient_DRGALL_FY2014.csv\"\n",
    "data_2015= \"data_cms_gov/Medicare_Provider_Charge_Inpatient_DRGALL_FY2015.csv\"\n",
    "data_2016= \"data_cms_gov/Medicare_Provider_Charge_Inpatient_DRGALL_FY2016.csv\"\n",
    "data_2017= \"data_cms_gov/Medicare_Provider_Charge_Inpatient_DRGALL_FY2017.csv\"\n",
    "\n",
    "# Read School and Student Data File and store into Pandas Data Frames\n",
    "data_2011_df = pd.read_csv(data_2011)\n",
    "data_2012_df = pd.read_csv(data_2012)\n",
    "data_2013_df = pd.read_csv(data_2013)\n",
    "data_2014_df = pd.read_csv(data_2014)\n",
    "data_2015_df = pd.read_csv(data_2015)\n",
    "data_2016_df = pd.read_csv(data_2016)\n",
    "data_2017_df = pd.read_csv(data_2017)"
   ]
  },
  {
   "cell_type": "code",

   "execution_count": null,
   "metadata": {},
   "outputs": [],
   "source": [
    "# Renaming columns so relevant data for merge identified by year\n",
    "years_2011_df = data_2011_df.rename(columns = {\"Total Discharges\":\"2011 Total Discharges\",\n",
    "                                                \"Average Covered Charges\":\"2011 Average Covered Charges\"})\n",
    "years_2012_df = data_2012_df.rename(columns = {\"Total Discharges\":\"2012 Total Discharges\",\n",
    "                                                \"Average Covered Charges\":\"2012 Average Covered Charges\"})\n",
    "years_2013_df = data_2013_df.rename(columns = {\"Total Discharges\":\"2013 Total Discharges\",\n",
    "                                                \"Average Covered Charges\":\"2013 Average Covered Charges\"})\n",
    "years_2014_df = data_2014_df.rename(columns = {\"Total Discharges\":\"2014 Total Discharges\",\n",
    "                                                \"Average Covered Charges\":\"2014 Average Covered Charges\"})\n",
    "years_2015_df = data_2015_df.rename(columns = {\"Total Discharges\":\"2015 Total Discharges\",\n",
    "                                                \"Average Covered Charges\":\"2015 Average Covered Charges\"})\n",
    "years_2016_df = data_2016_df.rename(columns = {\"Total Discharges\":\"2016 Total Discharges\",\n",
    "                                                \"Average Covered Charges\":\"2016 Average Covered Charges\"})\n",
    "years_2017_df = data_2017_df.rename(columns = {\"Total Discharges\":\"2017 Total Discharges\",\n",
    "                                                \"Average Covered Charges\":\"2017 Average Covered Charges\"})"
   ]
  },
  {
   "cell_type": "code",
   "execution_count": null,
   "metadata": {},
   "outputs": [],
   "source": [
    "# Preparing for merge by maintaining only relevant columns - almost all for 2011 which becomes the base\n",
    "short_2011_df = years_2011_df.iloc[:,0:10]\n",
    "short_2012_df = years_2012_df[[\"DRG Definition\",\"Provider Id\",\"2012 Total Discharges\",\"2012 Average Covered Charges\"]]\n",
    "short_2013_df = years_2013_df[[\"DRG Definition\",\"Provider Id\",\"2013 Total Discharges\",\"2013 Average Covered Charges\"]]\n",
    "short_2014_df = years_2014_df[[\"DRG Definition\",\"Provider Id\",\"2014 Total Discharges\",\"2014 Average Covered Charges\"]]\n",
    "short_2015_df = years_2015_df[[\"DRG Definition\",\"Provider Id\",\"2015 Total Discharges\",\"2015 Average Covered Charges\"]]\n",
    "short_2016_df = years_2016_df[[\"DRG Definition\",\"Provider Id\",\"2016 Total Discharges\",\"2016 Average Covered Charges\"]]\n",
    "short_2017_df = years_2017_df[[\"DRG Definition\",\"Provider Id\",\"2017 Total Discharges\",\"2017 Average Covered Charges\"]]\n",
    "len(short_2011_df.index)"
   ]
  },
  {
   "cell_type": "code",
   "execution_count": null,
   "metadata": {},
   "outputs": [],
   "source": [
    "# Can someone please go through each short_df and check the data types for each dataframe. \n",
    "# The Total Discharges and Average Covered Charges need to be converted to numbers (int or float)\n",
    "# so they can be used in calculations later. 2016 definitely causes errors later. \n",
    "# I think some rows in 2016 may need to be dropped in order to accomplish this. Too tired to monkey with it.\n",
    "\n",
    "short_2016_df.dtypes"
   ]
  },
  {
   "cell_type": "code",
   "execution_count": null,
   "metadata": {},
   "outputs": [],
   "source": [
    "# merging 2011 and 2012 for rows with same procedure and provider\n",
    "master_df=pd.merge(short_2011_df,short_2012_df,how='inner',on=['DRG Definition','Provider Id'])\n",
    "master_df.head()"
   ]
  },
  {
   "cell_type": "code",
   "execution_count": null,
   "metadata": {},
   "outputs": [],
   "source": [
    "len(master_df.index)"
   ]
  },
  {
   "cell_type": "code",
   "execution_count": null,
   "metadata": {},
   "outputs": [],
   "source": [
    "# merging master and 2013 for rows with same procedure and provider\n",
    "master_df=pd.merge(master_df,short_2013_df,how='inner',on=['DRG Definition','Provider Id'])\n",
    "master_df.head()"
   ]
  },
  {
   "cell_type": "code",
   "execution_count": null,
   "metadata": {},
   "outputs": [],
   "source": [
    "len(master_df.index)"
   ]
  },
  {
   "cell_type": "code",
   "execution_count": null,
   "metadata": {},
   "outputs": [],
   "source": [
    "# merging master and 2014 for rows with same procedure and provider\n",
    "master_df=pd.merge(master_df,short_2014_df,how='inner',on=['DRG Definition','Provider Id'])\n",
    "master_df.head()"
   ]
  },
  {
   "cell_type": "code",
   "execution_count": null,
   "metadata": {},
   "outputs": [],
   "source": [
    "len(master_df.index)"
   ]
  },
  {
   "cell_type": "code",
   "execution_count": null,
   "metadata": {},
   "outputs": [],
   "source": [
    "# merging master and 2015 for rows with same procedure and provider\n",
    "master_df=pd.merge(master_df,short_2015_df,how='inner',on=['DRG Definition','Provider Id'])\n",
    "master_df.head()"
   ]
  },
  {
   "cell_type": "code",
   "execution_count": null,
   "metadata": {},
   "outputs": [],
   "source": [
    "len(master_df.index)"

   ]
  },
  {
   "cell_type": "code",
   "execution_count": 3,
   "metadata": {},

   "outputs": [],
   "source": [
    "# merging master and 2016 for rows with same procedure and provider\n",
    "master_df=pd.merge(master_df,short_2016_df,how='inner',on=['DRG Definition','Provider Id'])\n",
    "master_df.head()"
   ]
  },
  {
   "cell_type": "code",
   "execution_count": null,
   "metadata": {},
   "outputs": [],
   "source": [
    "len(master_df.index)"
   ]
  },
  {
   "cell_type": "code",
   "execution_count": null,
   "metadata": {},
   "outputs": [],
   "source": [
    "# merging master and 2017 for rows with same procedure and provider\n",
    "master_df=pd.merge(master_df,short_2017_df,how='inner',on=['DRG Definition','Provider Id'])\n",
    "master_df.head()"
   ]
  },
  {
   "cell_type": "code",
   "execution_count": null,
   "metadata": {},
   "outputs": [],
   "source": [
    "len(master_df.index)"
   ]
  },
  {
   "cell_type": "code",
   "execution_count": null,
   "metadata": {},
   "outputs": [],
   "source": [
    "# count of unique procedures\n",
    "procedure_count=len(master_df['DRG Definition'].unique())\n",
    "hospital_count=len(master_df['Provider Id'].unique())\n",
    "\n",
    "print(f'There are {procedure_count} unique procedures each performed by all {hospital_count} unique hospitals in the combined database across seven years')"
   ]
  },
  {
   "cell_type": "code",
   "execution_count": null,
   "metadata": {},
   "outputs": [],
   "source": [
    "# This won't work until 2016 data types are fixed above\n",
    "\n",
    "# Calculating tatal number for a procedure at a hospital over 7 years\n",
    "\n",
    "# total_discharges = master_df[\"2011 Total Discharges\"]+master_df[\"2012 Total Discharges\"]\\\n",
    "#                     +master_df[\"2013 Total Discharges\"]+master_df[\"2014 Total Discharges\"]\\\n",
    "#                     +master_df[\"2015 Total Discharges\"]+master_df[\"2016 Total Discharges\"]\\\n",
    "#                     +master_df[\"2017 Total Discharges\"]"
   ]
  },
  {
   "cell_type": "code",
   "execution_count": null,
   "metadata": {},
   "outputs": [],
   "source": [
    "# This won't work until 2016 data types are fixed above\n",
    "\n",
    "# Calculating total costs for a procedure at a hospital over 7 years\n",
    "\n",
    "# total_cost = master_df[\"2011 Total Discharges\"]*master_df[\"2011 Average Covered Charges\"]\\\n",
    "#             +master_df[\"2012 Total Discharges\"]*master_df[\"2012 Average Covered Charges\"]\\\n",
    "#             +master_df[\"2013 Total Discharges\"]*master_df[\"2013 Average Covered Charges\"]\\\n",
    "#             +master_df[\"2014 Total Discharges\"]*master_df[\"2014 Average Covered Charges\"]\\\n",
    "#             +master_df[\"2015 Total Discharges\"]*master_df[\"2015 Average Covered Charges\"]\\\n",
    "#             +master_df[\"2016 Total Discharges\"]*master_df[\"2016 Average Covered Charges\"]\\\n",
    "#             +master_df[\"2017 Total Discharges\"]*master_df[\"2017 Average Covered Charges\"]"
   ]
  },
  {
   "cell_type": "code",
   "execution_count": null,
   "metadata": {},
   "outputs": [],
   "source": [
    "# This won't work until 2016 data types are fixed above \n",
    "\n",
    "# Calculating tatal average cost per procedure for a specific procedure at a hospital over 7 years\n",
    "\n",
    "# total_avg_cost = total_cost / total_discharges"
   ]
  },
  {
   "cell_type": "code",
   "execution_count": null,
   "metadata": {},
   "outputs": [],
   "source": [
    "# This won't work until 2016 data types are fixed above\n",
    "\n",
    "# Inserting new columns into data frame\n",
    "\n",
    "# master_df[\"Total Discharges\"] = total_discharges\n",
    "# master_df[\"Total Cost\"] = total_cost\n",
    "# master_df[\"Seven-Year Average Cost per Procedure\"] = total_avg_cost\n",
    "\n",
    "# check to make sure columns are inserted at end of dataframe and are calculating correctly\n",
    "# master_df.head()\n"
   ]
  },
  {
   "cell_type": "code",
   "execution_count": null,
   "metadata": {},
   "outputs": [],
   "source": [
    "# Next steps \n",
    "# add a column with abreviated zip codes - first three digits of zip code\n",
    "# bring in census data for median income per 3 digit zip code\n",
    "# add column to the end with census data"

   ]
  }
 ],
 "metadata": {
  "anaconda-cloud": {},
  "kernel_info": {
   "name": "python3"
  },
  "kernelspec": {
   "display_name": "Python 3",
   "language": "python",
   "name": "python3"
  },
  "language_info": {
   "codemirror_mode": {
    "name": "ipython",
    "version": 3
   },
   "file_extension": ".py",
   "mimetype": "text/x-python",
   "name": "python",
   "nbconvert_exporter": "python",
   "pygments_lexer": "ipython3",
   "version": "3.7.6"
  },
  "latex_envs": {
   "LaTeX_envs_menu_present": true,
   "autoclose": false,
   "autocomplete": true,
   "bibliofile": "biblio.bib",
   "cite_by": "apalike",
   "current_citInitial": 1,
   "eqLabelWithNumbers": true,
   "eqNumInitial": 1,
   "hotkeys": {
    "equation": "Ctrl-E",
    "itemize": "Ctrl-I"
   },
   "labels_anchors": false,
   "latex_user_defs": false,
   "report_style_numbering": false,
   "user_envs_cfg": false
  },
  "nteract": {
   "version": "0.8.4"
  }
 },
 "nbformat": 4,
 "nbformat_minor": 1
}
