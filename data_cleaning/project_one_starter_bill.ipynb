{
 "cells": [
  {
   "cell_type": "code",
   "execution_count": 2,
   "metadata": {},
   "outputs": [],
   "source": [
    "import pandas as pd\n",
    "import numpy as np\n",
    "import matplotlib.pyplot as plt\n",
    "\n",
    "# Note: 2011-2013 represent top 100 billed services. 2014-2017 represent all billed services\n",
    "data_2011= \"../data_cms_gov/Medicare_Provider_Charge_Inpatient_DRG100_FY2011.csv\"\n",
    "data_2012= \"../data_cms_gov/Medicare_Provider_Charge_Inpatient_DRG100_FY2012.csv\"\n",
    "data_2013= \"../data_cms_gov/Medicare_Provider_Charge_Inpatient_DRG100_FY2013.csv\"\n",
    "data_2014= \"../data_cms_gov/Medicare_Provider_Charge_Inpatient_DRGALL_FY2014.csv\"\n",
    "data_2015= \"../data_cms_gov/Medicare_Provider_Charge_Inpatient_DRGALL_FY2015.csv\"\n",
    "data_2016= \"../data_cms_gov/Medicare_Provider_Charge_Inpatient_DRGALL_FY2016.csv\"\n",
    "data_2017= \"../data_cms_gov/Medicare_Provider_Charge_Inpatient_DRGALL_FY2017.csv\"\n",
    "\n",
    "# Read School and Student Data File and store into Pandas Data Frames\n",
    "data_2011_df = pd.read_csv(data_2011, low_memory = False)\n",
    "data_2012_df = pd.read_csv(data_2012, low_memory = False)\n",
    "data_2013_df = pd.read_csv(data_2013, low_memory = False)\n",
    "data_2014_df = pd.read_csv(data_2014, low_memory = False)\n",
    "data_2015_df = pd.read_csv(data_2015, low_memory = False)\n",
    "data_2016_df = pd.read_csv(data_2016, low_memory = False)\n",
    "data_2017_df = pd.read_csv(data_2017, low_memory = False)"
   ]
  },
  {
   "cell_type": "code",
   "execution_count": 3,
   "metadata": {},
   "outputs": [],
   "source": [
    "# Renaming columns so relevant data for merge identified by year\n",
    "years_2011_df = data_2011_df.rename(columns = {\"Total Discharges\":\"2011 Total Discharges\",\n",
    "                                                \"Average Covered Charges\":\"2011 Average Covered Charges\"})\n",
    "years_2012_df = data_2012_df.rename(columns = {\"Total Discharges\":\"2012 Total Discharges\",\n",
    "                                                \"Average Covered Charges\":\"2012 Average Covered Charges\"})\n",
    "years_2013_df = data_2013_df.rename(columns = {\"Total Discharges\":\"2013 Total Discharges\",\n",
    "                                                \"Average Covered Charges\":\"2013 Average Covered Charges\"})\n",
    "years_2014_df = data_2014_df.rename(columns = {\"Total Discharges\":\"2014 Total Discharges\",\n",
    "                                                \"Average Covered Charges\":\"2014 Average Covered Charges\"})\n",
    "years_2015_df = data_2015_df.rename(columns = {\"Total Discharges\":\"2015 Total Discharges\",\n",
    "                                                \"Average Covered Charges\":\"2015 Average Covered Charges\"})\n",
    "years_2016_df = data_2016_df.rename(columns = {\"Total Discharges\":\"2016 Total Discharges\",\n",
    "                                                \"Average Covered Charges\":\"2016 Average Covered Charges\"})\n",
    "years_2017_df = data_2017_df.rename(columns = {\"Total Discharges\":\"2017 Total Discharges\",\n",
    "                                                \"Average Covered Charges\":\"2017 Average Covered Charges\"})"
   ]
  },
  {
   "cell_type": "code",
   "execution_count": 4,
   "metadata": {},
   "outputs": [
    {
     "data": {
      "text/plain": [
       "194 - SIMPLE PNEUMONIA & PLEURISY W CC                                      3023\n",
       "690 - KIDNEY & URINARY TRACT INFECTIONS W/O MCC                             2989\n",
       "292 - HEART FAILURE & SHOCK W CC                                            2953\n",
       "392 - ESOPHAGITIS, GASTROENT & MISC DIGEST DISORDERS W/O MCC                2950\n",
       "641 - MISC DISORDERS OF NUTRITION,METABOLISM,FLUIDS/ELECTROLYTES W/O MCC    2899\n",
       "                                                                            ... \n",
       "315 - OTHER CIRCULATORY SYSTEM DIAGNOSES W CC                                859\n",
       "473 - CERVICAL SPINAL FUSION W/O CC/MCC                                      846\n",
       "917 - POISONING & TOXIC EFFECTS OF DRUGS W MCC                               843\n",
       "251 - PERC CARDIOVASC PROC W/O CORONARY ARTERY STENT W/O MCC                 727\n",
       "885 - PSYCHOSES                                                              613\n",
       "Name: DRG Definition, Length: 100, dtype: int64"
      ]
     },
     "execution_count": 4,
     "metadata": {},
     "output_type": "execute_result"
    }
   ],
   "source": [
    "years_2011_df['DRG Definition'].value_counts()"
   ]
  },
  {
   "cell_type": "code",
   "execution_count": 5,
   "metadata": {},
   "outputs": [
    {
     "data": {
      "text/plain": [
       "163065"
      ]
     },
     "execution_count": 5,
     "metadata": {},
     "output_type": "execute_result"
    }
   ],
   "source": [
    "# Preparing for merge by maintaining only relevant columns - almost all for 2011 which becomes the base\n",
    "short_2011_df = years_2011_df.iloc[:,0:10]\n",
    "short_2012_df = years_2012_df[[\"DRG Definition\",\"Provider Id\",\"2012 Total Discharges\",\"2012 Average Covered Charges\"]]\n",
    "short_2013_df = years_2013_df[[\"DRG Definition\",\"Provider Id\",\"2013 Total Discharges\",\"2013 Average Covered Charges\"]]\n",
    "short_2014_df = years_2014_df[[\"DRG Definition\",\"Provider Id\",\"2014 Total Discharges\",\"2014 Average Covered Charges\"]]\n",
    "short_2015_df = years_2015_df[[\"DRG Definition\",\"Provider Id\",\"2015 Total Discharges\",\"2015 Average Covered Charges\"]]\n",
    "short_2016_df = years_2016_df[[\"DRG Definition\",\"Provider Id\",\"2016 Total Discharges\",\"2016 Average Covered Charges\"]]\n",
    "short_2017_df = years_2017_df[[\"DRG Definition\",\"Provider Id\",\"2017 Total Discharges\",\"2017 Average Covered Charges\"]]\n",
    "short_2016_df = short_2016_df.replace(\n",
    "                        {'871 - SEPTICEMIA OR SEVERE SEPSIS W/O MV >96 HOURS W MCC'\\\n",
    "                         :'871 - SEPTICEMIA OR SEVERE SEPSIS W/O MV 96+ HOURS W MCC'})\n",
    "short_2017_df = short_2017_df.replace(\n",
    "                        {'871 - SEPTICEMIA OR SEVERE SEPSIS W/O MV >96 HOURS W MCC'\\\n",
    "                         :'871 - SEPTICEMIA OR SEVERE SEPSIS W/O MV 96+ HOURS W MCC'})\n",
    "len(short_2011_df.index)"
   ]
  },
  {
   "cell_type": "code",
   "execution_count": 6,
   "metadata": {},
   "outputs": [],
   "source": [
    "# merging 2011 and 2012 for rows with same procedure and provider\n",
    "master_df=pd.merge(short_2011_df,short_2012_df,how='inner',on=['DRG Definition','Provider Id'])"
   ]
  },
  {
   "cell_type": "code",
   "execution_count": 7,
   "metadata": {},
   "outputs": [],
   "source": [
    "# merging master and 2013 for rows with same procedure and provider\n",
    "master_df=pd.merge(master_df,short_2013_df,how='inner',on=['DRG Definition','Provider Id'])"
   ]
  },
  {
   "cell_type": "code",
   "execution_count": 8,
   "metadata": {},
   "outputs": [],
   "source": [
    "# merging master and 2014 for rows with same procedure and provider\n",
    "master_df=pd.merge(master_df,short_2014_df,how='inner',on=['DRG Definition','Provider Id'])"
   ]
  },
  {
   "cell_type": "code",
   "execution_count": 9,
   "metadata": {},
   "outputs": [],
   "source": [
    "# merging master and 2015 for rows with same procedure and provider\n",
    "master_df=pd.merge(master_df,short_2015_df,how='inner',on=['DRG Definition','Provider Id'])"
   ]
  },
  {
   "cell_type": "code",
   "execution_count": 10,
   "metadata": {},
   "outputs": [],
   "source": [
    "# merging master and 2016 for rows with same procedure and provider\n",
    "master_df=pd.merge(master_df,short_2016_df,how='inner',on=['DRG Definition','Provider Id'])"
   ]
  },
  {
   "cell_type": "code",
   "execution_count": 11,
   "metadata": {},
   "outputs": [
    {
     "data": {
      "text/html": [
       "<div>\n",
       "<style scoped>\n",
       "    .dataframe tbody tr th:only-of-type {\n",
       "        vertical-align: middle;\n",
       "    }\n",
       "\n",
       "    .dataframe tbody tr th {\n",
       "        vertical-align: top;\n",
       "    }\n",
       "\n",
       "    .dataframe thead th {\n",
       "        text-align: right;\n",
       "    }\n",
       "</style>\n",
       "<table border=\"1\" class=\"dataframe\">\n",
       "  <thead>\n",
       "    <tr style=\"text-align: right;\">\n",
       "      <th></th>\n",
       "      <th>DRG Definition</th>\n",
       "      <th>Provider Id</th>\n",
       "      <th>Provider Name</th>\n",
       "      <th>Provider Street Address</th>\n",
       "      <th>Provider City</th>\n",
       "      <th>Provider State</th>\n",
       "      <th>Provider Zip Code</th>\n",
       "      <th>Hospital Referral Region (HRR) Description</th>\n",
       "      <th>2011 Total Discharges</th>\n",
       "      <th>2011 Average Covered Charges</th>\n",
       "      <th>...</th>\n",
       "      <th>2013 Total Discharges</th>\n",
       "      <th>2013 Average Covered Charges</th>\n",
       "      <th>2014 Total Discharges</th>\n",
       "      <th>2014 Average Covered Charges</th>\n",
       "      <th>2015 Total Discharges</th>\n",
       "      <th>2015 Average Covered Charges</th>\n",
       "      <th>2016 Total Discharges</th>\n",
       "      <th>2016 Average Covered Charges</th>\n",
       "      <th>2017 Total Discharges</th>\n",
       "      <th>2017 Average Covered Charges</th>\n",
       "    </tr>\n",
       "  </thead>\n",
       "  <tbody>\n",
       "    <tr>\n",
       "      <th>0</th>\n",
       "      <td>039 - EXTRACRANIAL PROCEDURES W/O CC/MCC</td>\n",
       "      <td>10001</td>\n",
       "      <td>SOUTHEAST ALABAMA MEDICAL CENTER</td>\n",
       "      <td>1108 ROSS CLARK CIRCLE</td>\n",
       "      <td>DOTHAN</td>\n",
       "      <td>AL</td>\n",
       "      <td>36301</td>\n",
       "      <td>AL - Dothan</td>\n",
       "      <td>91</td>\n",
       "      <td>32963.07692</td>\n",
       "      <td>...</td>\n",
       "      <td>98.0</td>\n",
       "      <td>37988.97959</td>\n",
       "      <td>93</td>\n",
       "      <td>36003.63441</td>\n",
       "      <td>80</td>\n",
       "      <td>37027.24</td>\n",
       "      <td>60</td>\n",
       "      <td>$38,026.17</td>\n",
       "      <td>41</td>\n",
       "      <td>41130.56098</td>\n",
       "    </tr>\n",
       "    <tr>\n",
       "      <th>1</th>\n",
       "      <td>039 - EXTRACRANIAL PROCEDURES W/O CC/MCC</td>\n",
       "      <td>10005</td>\n",
       "      <td>MARSHALL MEDICAL CENTER SOUTH</td>\n",
       "      <td>2505 U S HIGHWAY 431 NORTH</td>\n",
       "      <td>BOAZ</td>\n",
       "      <td>AL</td>\n",
       "      <td>35957</td>\n",
       "      <td>AL - Birmingham</td>\n",
       "      <td>14</td>\n",
       "      <td>15131.85714</td>\n",
       "      <td>...</td>\n",
       "      <td>34.0</td>\n",
       "      <td>15554.88235</td>\n",
       "      <td>50</td>\n",
       "      <td>16531.14000</td>\n",
       "      <td>39</td>\n",
       "      <td>16225.77</td>\n",
       "      <td>37</td>\n",
       "      <td>$14,381.38</td>\n",
       "      <td>37</td>\n",
       "      <td>14450.08108</td>\n",
       "    </tr>\n",
       "    <tr>\n",
       "      <th>2</th>\n",
       "      <td>039 - EXTRACRANIAL PROCEDURES W/O CC/MCC</td>\n",
       "      <td>10006</td>\n",
       "      <td>ELIZA COFFEE MEMORIAL HOSPITAL</td>\n",
       "      <td>205 MARENGO STREET</td>\n",
       "      <td>FLORENCE</td>\n",
       "      <td>AL</td>\n",
       "      <td>35631</td>\n",
       "      <td>AL - Birmingham</td>\n",
       "      <td>24</td>\n",
       "      <td>37560.37500</td>\n",
       "      <td>...</td>\n",
       "      <td>30.0</td>\n",
       "      <td>40380.10000</td>\n",
       "      <td>43</td>\n",
       "      <td>42026.81395</td>\n",
       "      <td>26</td>\n",
       "      <td>40792.27</td>\n",
       "      <td>32</td>\n",
       "      <td>$42,484.94</td>\n",
       "      <td>19</td>\n",
       "      <td>35486.57895</td>\n",
       "    </tr>\n",
       "    <tr>\n",
       "      <th>3</th>\n",
       "      <td>039 - EXTRACRANIAL PROCEDURES W/O CC/MCC</td>\n",
       "      <td>10011</td>\n",
       "      <td>ST VINCENT'S EAST</td>\n",
       "      <td>50 MEDICAL PARK EAST DRIVE</td>\n",
       "      <td>BIRMINGHAM</td>\n",
       "      <td>AL</td>\n",
       "      <td>35235</td>\n",
       "      <td>AL - Birmingham</td>\n",
       "      <td>25</td>\n",
       "      <td>13998.28000</td>\n",
       "      <td>...</td>\n",
       "      <td>17.0</td>\n",
       "      <td>22026.23529</td>\n",
       "      <td>14</td>\n",
       "      <td>15765.35714</td>\n",
       "      <td>29</td>\n",
       "      <td>21320.93</td>\n",
       "      <td>26</td>\n",
       "      <td>$17,585.69</td>\n",
       "      <td>20</td>\n",
       "      <td>20318.20000</td>\n",
       "    </tr>\n",
       "    <tr>\n",
       "      <th>4</th>\n",
       "      <td>039 - EXTRACRANIAL PROCEDURES W/O CC/MCC</td>\n",
       "      <td>10016</td>\n",
       "      <td>SHELBY BAPTIST MEDICAL CENTER</td>\n",
       "      <td>1000 FIRST STREET NORTH</td>\n",
       "      <td>ALABASTER</td>\n",
       "      <td>AL</td>\n",
       "      <td>35007</td>\n",
       "      <td>AL - Birmingham</td>\n",
       "      <td>18</td>\n",
       "      <td>31633.27778</td>\n",
       "      <td>...</td>\n",
       "      <td>17.0</td>\n",
       "      <td>45663.05882</td>\n",
       "      <td>21</td>\n",
       "      <td>47583.61905</td>\n",
       "      <td>18</td>\n",
       "      <td>40520.17</td>\n",
       "      <td>14</td>\n",
       "      <td>$50,807.86</td>\n",
       "      <td>16</td>\n",
       "      <td>57239.62500</td>\n",
       "    </tr>\n",
       "  </tbody>\n",
       "</table>\n",
       "<p>5 rows × 22 columns</p>\n",
       "</div>"
      ],
      "text/plain": [
       "                             DRG Definition  Provider Id  \\\n",
       "0  039 - EXTRACRANIAL PROCEDURES W/O CC/MCC        10001   \n",
       "1  039 - EXTRACRANIAL PROCEDURES W/O CC/MCC        10005   \n",
       "2  039 - EXTRACRANIAL PROCEDURES W/O CC/MCC        10006   \n",
       "3  039 - EXTRACRANIAL PROCEDURES W/O CC/MCC        10011   \n",
       "4  039 - EXTRACRANIAL PROCEDURES W/O CC/MCC        10016   \n",
       "\n",
       "                      Provider Name     Provider Street Address Provider City  \\\n",
       "0  SOUTHEAST ALABAMA MEDICAL CENTER      1108 ROSS CLARK CIRCLE        DOTHAN   \n",
       "1     MARSHALL MEDICAL CENTER SOUTH  2505 U S HIGHWAY 431 NORTH          BOAZ   \n",
       "2    ELIZA COFFEE MEMORIAL HOSPITAL          205 MARENGO STREET      FLORENCE   \n",
       "3                 ST VINCENT'S EAST  50 MEDICAL PARK EAST DRIVE    BIRMINGHAM   \n",
       "4     SHELBY BAPTIST MEDICAL CENTER     1000 FIRST STREET NORTH     ALABASTER   \n",
       "\n",
       "  Provider State  Provider Zip Code  \\\n",
       "0             AL              36301   \n",
       "1             AL              35957   \n",
       "2             AL              35631   \n",
       "3             AL              35235   \n",
       "4             AL              35007   \n",
       "\n",
       "  Hospital Referral Region (HRR) Description  2011 Total Discharges  \\\n",
       "0                                AL - Dothan                     91   \n",
       "1                            AL - Birmingham                     14   \n",
       "2                            AL - Birmingham                     24   \n",
       "3                            AL - Birmingham                     25   \n",
       "4                            AL - Birmingham                     18   \n",
       "\n",
       "   2011 Average Covered Charges  ...  2013 Total Discharges  \\\n",
       "0                   32963.07692  ...                   98.0   \n",
       "1                   15131.85714  ...                   34.0   \n",
       "2                   37560.37500  ...                   30.0   \n",
       "3                   13998.28000  ...                   17.0   \n",
       "4                   31633.27778  ...                   17.0   \n",
       "\n",
       "   2013 Average Covered Charges  2014 Total Discharges  \\\n",
       "0                   37988.97959                     93   \n",
       "1                   15554.88235                     50   \n",
       "2                   40380.10000                     43   \n",
       "3                   22026.23529                     14   \n",
       "4                   45663.05882                     21   \n",
       "\n",
       "   2014 Average Covered Charges  2015 Total Discharges  \\\n",
       "0                   36003.63441                     80   \n",
       "1                   16531.14000                     39   \n",
       "2                   42026.81395                     26   \n",
       "3                   15765.35714                     29   \n",
       "4                   47583.61905                     18   \n",
       "\n",
       "   2015 Average Covered Charges  2016 Total Discharges  \\\n",
       "0                      37027.24                     60   \n",
       "1                      16225.77                     37   \n",
       "2                      40792.27                     32   \n",
       "3                      21320.93                     26   \n",
       "4                      40520.17                     14   \n",
       "\n",
       "   2016 Average Covered Charges 2017 Total Discharges  \\\n",
       "0                    $38,026.17                    41   \n",
       "1                    $14,381.38                    37   \n",
       "2                    $42,484.94                    19   \n",
       "3                    $17,585.69                    20   \n",
       "4                    $50,807.86                    16   \n",
       "\n",
       "  2017 Average Covered Charges  \n",
       "0                  41130.56098  \n",
       "1                  14450.08108  \n",
       "2                  35486.57895  \n",
       "3                  20318.20000  \n",
       "4                  57239.62500  \n",
       "\n",
       "[5 rows x 22 columns]"
      ]
     },
     "execution_count": 11,
     "metadata": {},
     "output_type": "execute_result"
    }
   ],
   "source": [
    "# merging master and 2017 for rows with same procedure and provider\n",
    "master_df=pd.merge(master_df,short_2017_df,how='inner',on=['DRG Definition','Provider Id'])\n",
    "master_df.head()"
   ]
  },
  {
   "cell_type": "code",
   "execution_count": 12,
   "metadata": {},
   "outputs": [
    {
     "data": {
      "text/plain": [
       "91105"
      ]
     },
     "execution_count": 12,
     "metadata": {},
     "output_type": "execute_result"
    }
   ],
   "source": [
    "len(master_df.index)"
   ]
  },
  {
   "cell_type": "code",
   "execution_count": 13,
   "metadata": {},
   "outputs": [],
   "source": [
    "# master_df['DRG Definition'].unique()"
   ]
  },
  {
   "cell_type": "code",
   "execution_count": 14,
   "metadata": {},
   "outputs": [
    {
     "name": "stdout",
     "output_type": "stream",
     "text": [
      "There are 87 unique procedures each performed by all 2965 unique hospitals in the combined database across seven years\n"
     ]
    }
   ],
   "source": [
    "# count of unique procedures\n",
    "procedure_count=len(master_df['DRG Definition'].unique())\n",
    "hospital_count=len(master_df['Provider Id'].unique())\n",
    "\n",
    "print(f'There are {procedure_count} unique procedures each performed by all \\\n",
    "{hospital_count} unique hospitals in the combined database across seven years')"
   ]
  },
  {
   "cell_type": "code",
   "execution_count": 17,
   "metadata": {},
   "outputs": [
    {
     "data": {
      "image/png": "[encoded data removed]",
      "text/plain": [
       "<Figure size 432x288 with 1 Axes>"
      ]
     },
     "metadata": {
      "needs_background": "light"
     },
     "output_type": "display_data"
    },
    {
     "data": {
      "image/png": "[encoded data removed]",
      "text/plain": [
       "<Figure size 432x288 with 1 Axes>"
      ]
     },
     "metadata": {
      "needs_background": "light"
     },
     "output_type": "display_data"
    },
    {
     "data": {
      "image/png": "[encoded data removed]",
      "text/plain": [
       "<Figure size 432x288 with 1 Axes>"
      ]
     },
     "metadata": {
      "needs_background": "light"
     },
     "output_type": "display_data"
    },
    {
     "data": {
      "image/png": "[encoded data removed]",
      "text/plain": [
       "<Figure size 432x288 with 1 Axes>"
      ]
     },
     "metadata": {
      "needs_background": "light"
     },
     "output_type": "display_data"
    },
    {
     "data": {
      "image/png": "[encoded data removed]",
      "text/plain": [
       "<Figure size 432x288 with 1 Axes>"
      ]
     },
     "metadata": {
      "needs_background": "light"
     },
     "output_type": "display_data"
    },
    {
     "name": "stdout",
     "output_type": "stream",
     "text": [
      "Average covered charge values above 103904.63397375 could be outliers for procedure 470.\n",
      "Average covered charge values above 100332.9253025 could be outliers for procedure 871.\n",
      "Average covered charge values above 39230.779355000006 could be outliers for procedure 392.\n",
      "Average covered charge values above 37574.110570000004 could be outliers for procedure 690.\n",
      "Average covered charge values above 50590.60669 could be outliers for procedure 194.\n",
      "Average covered charge values below -6592.348296249991 could be outliers for procedure 470.\n",
      "Average covered charge values below -17108.28857750001 could be outliers for procedure 871.\n",
      "Average covered charge values below -4105.308885000006 could be outliers for procedure 392.\n",
      "Average covered charge values below -4334.799670000002 could be outliers for procedure 690.\n",
      "Average covered charge values below -6382.537110000001 could be outliers for procedure 194.\n"
     ]
    }
   ],
   "source": [
    "# Creating Box Plots and Determing Range for Potential Outliers in 2011\n",
    "procedures = [470,871,392,690,194]\n",
    "procedure_names = [\n",
    "    '470 - MAJOR JOINT REPLACEMENT OR REATTACHMENT OF LOWER EXTREMITY W/O MCC',\\\n",
    "    '871 - SEPTICEMIA OR SEVERE SEPSIS W/O MV 96+ HOURS W MCC',\\\n",
    "    '392 - ESOPHAGITIS, GASTROENT & MISC DIGEST DISORDERS W/O MCC',\\\n",
    "    '690 - KIDNEY & URINARY TRACT INFECTIONS W/O MCC',\\\n",
    "    '194 - SIMPLE PNEUMONIA & PLEURISY W CC']\n",
    "short_procedure_names = [\n",
    "    'Major Joint Replacement',\n",
    "    'Septicemia',\n",
    "    'Esophagitis',\n",
    "    'Kidney & Urinary Tract Infections',\n",
    "    'Simple Pneumonia'\n",
    "]\n",
    "\n",
    "upper_bounds=[]\n",
    "lower_bounds=[]\n",
    "\n",
    "for x in range(len(procedures)):\n",
    "    average_charges_df = data_2011_df.loc[(data_2011_df['DRG Definition']==\\\n",
    "                        f'{procedure_names[x]}'),:]\n",
    "    average_charges = average_charges_df['Average Covered Charges']\n",
    "\n",
    "    fig1, ax1 = plt.subplots()\n",
    "    ax1.set_title(f'2011 Average Covered Charges for {short_procedure_names[x]}')\n",
    "    ax1.set_ylabel('Average Covered Charges ($)')\n",
    "    ax1.boxplot(average_charges)\n",
    "    plt.show()\n",
    "    \n",
    "    quartiles = average_charges_df['Average Covered Charges'].quantile([.25,.5,.75])\n",
    "    lowerq=quartiles[.25]\n",
    "    upperq=quartiles[.75]\n",
    "    iqr = upperq-lowerq\n",
    "    upper_bound = upperq+(1.5*iqr)\n",
    "    lower_bound = lowerq-(1.5*iqr)\n",
    "    upper_bounds.append(upper_bound)\n",
    "    lower_bounds.append(lower_bound)\n",
    "    \n",
    "for x in range(len(upper_bounds)):\n",
    "        print(f\"Average covered charge values above {upper_bounds[x]} could be outliers for procedure {procedures[x]}.\")\n",
    "    \n",
    "for x in range(len(lower_bounds)):\n",
    "        print(f\"Average covered charge values below {lower_bounds[x]} could be outliers for procedure {procedures[x]}.\")"
   ]
  },
  {
   "cell_type": "code",
   "execution_count": null,
   "metadata": {},
   "outputs": [],
   "source": []
  },
  {
   "cell_type": "code",
   "execution_count": null,
   "metadata": {},
   "outputs": [],
   "source": []
  },
  {
   "cell_type": "code",
   "execution_count": null,
   "metadata": {},
   "outputs": [],
   "source": []
  },
  {
   "cell_type": "code",
   "execution_count": null,
   "metadata": {},
   "outputs": [],
   "source": []
  },
  {
   "cell_type": "code",
   "execution_count": null,
   "metadata": {},
   "outputs": [],
   "source": []
  },
  {
   "cell_type": "code",
   "execution_count": null,
   "metadata": {},
   "outputs": [],
   "source": [
    "# This won't work until 2016 data types are fixed above\n",
    "\n",
    "# Calculating tatal number for a procedure at a hospital over 7 years\n",
    "\n",
    "# total_discharges = master_df[\"2011 Total Discharges\"]+master_df[\"2012 Total Discharges\"]\\\n",
    "#                     +master_df[\"2013 Total Discharges\"]+master_df[\"2014 Total Discharges\"]\\\n",
    "#                     +master_df[\"2015 Total Discharges\"]+master_df[\"2016 Total Discharges\"]\\\n",
    "#                     +master_df[\"2017 Total Discharges\"]"
   ]
  },
  {
   "cell_type": "code",
   "execution_count": null,
   "metadata": {},
   "outputs": [],
   "source": [
    "# This won't work until 2016 data types are fixed above\n",
    "\n",
    "# Calculating total costs for a procedure at a hospital over 7 years\n",
    "\n",
    "# total_cost = master_df[\"2011 Total Discharges\"]*master_df[\"2011 Average Covered Charges\"]\\\n",
    "#             +master_df[\"2012 Total Discharges\"]*master_df[\"2012 Average Covered Charges\"]\\\n",
    "#             +master_df[\"2013 Total Discharges\"]*master_df[\"2013 Average Covered Charges\"]\\\n",
    "#             +master_df[\"2014 Total Discharges\"]*master_df[\"2014 Average Covered Charges\"]\\\n",
    "#             +master_df[\"2015 Total Discharges\"]*master_df[\"2015 Average Covered Charges\"]\\\n",
    "#             +master_df[\"2016 Total Discharges\"]*master_df[\"2016 Average Covered Charges\"]\\\n",
    "#             +master_df[\"2017 Total Discharges\"]*master_df[\"2017 Average Covered Charges\"]"
   ]
  },
  {
   "cell_type": "code",
   "execution_count": null,
   "metadata": {},
   "outputs": [],
   "source": [
    "# This won't work until 2016 data types are fixed above \n",
    "\n",
    "# Calculating tatal average cost per procedure for a specific procedure at a hospital over 7 years\n",
    "\n",
    "# total_avg_cost = total_cost / total_discharges"
   ]
  },
  {
   "cell_type": "code",
   "execution_count": null,
   "metadata": {},
   "outputs": [],
   "source": [
    "# This won't work until 2016 data types are fixed above\n",
    "\n",
    "# Inserting new columns into data frame\n",
    "\n",
    "# master_df[\"Total Discharges\"] = total_discharges\n",
    "# master_df[\"Total Cost\"] = total_cost\n",
    "# master_df[\"Seven-Year Average Cost per Procedure\"] = total_avg_cost\n",
    "\n",
    "# check to make sure columns are inserted at end of dataframe and are calculating correctly\n",
    "# master_df.head()\n"
   ]
  },
  {
   "cell_type": "code",
   "execution_count": null,
   "metadata": {},
   "outputs": [],
   "source": [
    "# Next steps \n",
    "# add a column with abreviated zip codes - first three digits of zip code\n",
    "# bring in census data for median income per 3 digit zip code\n",
    "# add column to the end with census data"
   ]
  }
 ],
 "metadata": {
  "anaconda-cloud": {},
  "kernel_info": {
   "name": "python3"
  },
  "kernelspec": {
   "display_name": "Python 3",
   "language": "python",
   "name": "python3"
  },
  "language_info": {
   "codemirror_mode": {
    "name": "ipython",
    "version": 3
   },
   "file_extension": ".py",
   "mimetype": "text/x-python",
   "name": "python",
   "nbconvert_exporter": "python",
   "pygments_lexer": "ipython3",
   "version": "3.6.10"
  },
  "latex_envs": {
   "LaTeX_envs_menu_present": true,
   "autoclose": false,
   "autocomplete": true,
   "bibliofile": "biblio.bib",
   "cite_by": "apalike",
   "current_citInitial": 1,
   "eqLabelWithNumbers": true,
   "eqNumInitial": 1,
   "hotkeys": {
    "equation": "Ctrl-E",
    "itemize": "Ctrl-I"
   },
   "labels_anchors": false,
   "latex_user_defs": false,
   "report_style_numbering": false,
   "user_envs_cfg": false
  },
  "nteract": {
   "version": "0.8.4"
  }
 },
 "nbformat": 4,
 "nbformat_minor": 1
}
