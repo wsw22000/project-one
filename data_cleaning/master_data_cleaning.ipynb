{
 "cells": [
  {
   "cell_type": "code",
   "execution_count": 1,
   "metadata": {},
   "outputs": [],
   "source": [
    "#Import dependencies\n",
    "import warnings\n",
    "warnings.filterwarnings('ignore')\n",
    "\n",
    "import pandas as pd\n",
    "import matplotlib.pyplot as plt\n",
    "import numpy as np\n",
    "import scipy.stats as stats"
   ]
  },
  {
   "cell_type": "markdown",
   "metadata": {},
   "source": [
    "# Data Cleanup and Exploration\n",
    "\n",
    "1. Import and cleaning of data files\n",
    "2. Analysis of the most performed procedures per year\n",
    "3. Creation of final data frame for analysis with 5 of the most common procedures\n",
    "4. Utilization of a) histograms and b) boxplots to look at variability of hospital charges for the same procedure across zip codes in the US."
   ]
  },
  {
   "cell_type": "markdown",
   "metadata": {},
   "source": [
    "## 1. Import and Cleaning of Data Files"
   ]
  },
  {
   "cell_type": "code",
   "execution_count": 2,
   "metadata": {},
   "outputs": [],
   "source": [
    "# Note: 2011-2013 represent top 100 billed services. 2014-2017 represent all billed services\n",
    "data_2011= \"../data_cms_gov/Medicare_Provider_Charge_Inpatient_DRG100_FY2011.csv\"\n",
    "data_2012= \"../data_cms_gov/Medicare_Provider_Charge_Inpatient_DRG100_FY2012.csv\"\n",
    "data_2013= \"../data_cms_gov/Medicare_Provider_Charge_Inpatient_DRG100_FY2013.csv\"\n",
    "data_2014= \"../data_cms_gov/Medicare_Provider_Charge_Inpatient_DRGALL_FY2014.csv\"\n",
    "data_2015= \"../data_cms_gov/Medicare_Provider_Charge_Inpatient_DRGALL_FY2015.csv\"\n",
    "data_2016= \"../data_cms_gov/Medicare_Provider_Charge_Inpatient_DRGALL_FY2016.csv\"\n",
    "data_2017= \"../data_cms_gov/Medicare_Provider_Charge_Inpatient_DRGALL_FY2017.csv\"\n",
    "\n",
    "# Read School and Student Data File and store into Pandas Data Frames\n",
    "data_2011_df = pd.read_csv(data_2011, low_memory=False)\n",
    "data_2012_df = pd.read_csv(data_2012, low_memory=False)\n",
    "data_2013_df = pd.read_csv(data_2013, low_memory=False)\n",
    "data_2014_df = pd.read_csv(data_2014, low_memory=False)\n",
    "data_2015_df = pd.read_csv(data_2015, low_memory=False)\n",
    "data_2016_df = pd.read_csv(data_2016, low_memory=False)\n",
    "data_2017_df = pd.read_csv(data_2017, low_memory=False)\n",
    "\n",
    "data_2016_df = data_2016_df.replace(\n",
    "                        {'871 - SEPTICEMIA OR SEVERE SEPSIS W/O MV >96 HOURS W MCC'\\\n",
    "                         :'871 - SEPTICEMIA OR SEVERE SEPSIS W/O MV 96+ HOURS W MCC'})\n",
    "data_2017_df = data_2017_df.replace(\n",
    "                        {'871 - SEPTICEMIA OR SEVERE SEPSIS W/O MV >96 HOURS W MCC'\\\n",
    "                         :'871 - SEPTICEMIA OR SEVERE SEPSIS W/O MV 96+ HOURS W MCC'})"
   ]
  },
  {
   "cell_type": "code",
   "execution_count": 3,
   "metadata": {},
   "outputs": [],
   "source": [
    "data_2016_df[\"Total Discharges\"] = pd.to_numeric(data_2016_df[\"Total Discharges\"], errors='coerce')\n",
    "data_2016_df = data_2016_df.dropna()\n",
    "data_2016_df[\"Average Covered Charges\"] = data_2016_df[\"Average Covered Charges\"].replace({'\\$': '', ',': ''}, regex=True).astype(float)"
   ]
  },
  {
   "cell_type": "code",
   "execution_count": 4,
   "metadata": {},
   "outputs": [
    {
     "name": "stdout",
     "output_type": "stream",
     "text": [
      "2017\n"
     ]
    }
   ],
   "source": [
    "#add year column\n",
    "data_2011_year_df = data_2011_df['Payment Year'] = 2011\n",
    "data_2012_year_df = data_2012_df['Payment Year'] = 2012\n",
    "data_2013_year_df = data_2013_df['Payment Year'] = 2013\n",
    "data_2014_year_df = data_2014_df['Payment Year'] = 2014\n",
    "data_2015_year_df = data_2015_df['Payment Year'] = 2015\n",
    "data_2016_year_df = data_2016_df['Payment Year'] = 2016\n",
    "data_2017_year_df = data_2017_df['Payment Year'] = 2017\n",
    "print(data_2017_year_df)\n"
   ]
  },
  {
   "cell_type": "code",
   "execution_count": 5,
   "metadata": {},
   "outputs": [],
   "source": [
    "# Concat separate year data frames into one data frame (final_hospital_df)\n",
    "\n",
    "final_hospital_df = data_2011_year_df\n",
    "frames = [data_2011_df, data_2012_df,data_2013_df,data_2014_df,data_2015_df,data_2016_df,data_2017_df]\n",
    "final_hospital_df = pd.concat(frames)"
   ]
  },
  {
   "cell_type": "code",
   "execution_count": 6,
   "metadata": {},
   "outputs": [],
   "source": [
    "# Read in Each Year's Median Income data and merge into one data frame (all_income_df)\n",
    "\n",
    "income_2011 = \"../data_median_income/final_2011_median_income.csv\"\n",
    "income_2012 = \"../data_median_income/final_2012_median_income.csv\"\n",
    "income_2013 = \"../data_median_income/final_2013_median_income.csv\"\n",
    "income_2014 = \"../data_median_income/final_2014_median_income.csv\"\n",
    "income_2015 = \"../data_median_income/final_2015_median_income.csv\"\n",
    "income_2016 = \"../data_median_income/final_2016_median_income.csv\"\n",
    "income_2017 = \"../data_median_income/final_2017_median_income.csv\"\n",
    "\n",
    "income_2011_df = pd.read_csv(income_2011, low_memory=False)\n",
    "income_2012_df = pd.read_csv(income_2012, low_memory=False)\n",
    "income_2013_df = pd.read_csv(income_2013, low_memory=False)\n",
    "income_2014_df = pd.read_csv(income_2014, low_memory=False)\n",
    "income_2015_df = pd.read_csv(income_2015, low_memory=False)\n",
    "income_2016_df = pd.read_csv(income_2016, low_memory=False)\n",
    "income_2017_df = pd.read_csv(income_2017, low_memory=False)\n",
    "\n",
    "all_income_df = income_2011_df\n",
    "income_frames = [income_2011_df, income_2012_df, income_2013_df, income_2014_df, income_2015_df, income_2016_df, income_2017_df]\n",
    "all_income_df = pd.concat(income_frames)"
   ]
  },
  {
   "cell_type": "code",
   "execution_count": 7,
   "metadata": {},
   "outputs": [],
   "source": [
    "# Merge hospital charge data (final_hospital_df) with median income data fram (all_income_df)\n",
    "\n",
    "all_income_df = all_income_df.rename(columns = {\"Zip Code\":\"Provider Zip Code\", \"Year\":\"Payment Year\"})\n",
    "\n",
    "final_data_df = pd.merge(final_hospital_df, all_income_df, on=[\"Provider Zip Code\", \"Payment Year\"])\n"
   ]
  },
  {
   "cell_type": "code",
   "execution_count": 8,
   "metadata": {},
   "outputs": [],
   "source": [
    "# Convert strings to floats in 'Provider Id' and 'Provider Zip Code' columns\n",
    "final_data_df['Provider Id'] = final_data_df['Provider Id'].astype(str).replace('\\.0', '', regex=True)\n",
    "final_data_df['Provider Zip Code'] = final_data_df['Provider Zip Code'].astype(str).replace('\\.0', '', regex=True)"
   ]
  },
  {
   "cell_type": "markdown",
   "metadata": {},
   "source": [
    "## 2. Analysis - Most Performed Procedures by Year\n",
    "#### Purpose - To choose final study groups"
   ]
  },
  {
   "cell_type": "code",
   "execution_count": 9,
   "metadata": {},
   "outputs": [
    {
     "data": {
      "text/html": [
       "<div>\n",
       "<style scoped>\n",
       "    .dataframe tbody tr th:only-of-type {\n",
       "        vertical-align: middle;\n",
       "    }\n",
       "\n",
       "    .dataframe tbody tr th {\n",
       "        vertical-align: top;\n",
       "    }\n",
       "\n",
       "    .dataframe thead th {\n",
       "        text-align: right;\n",
       "    }\n",
       "</style>\n",
       "<table border=\"1\" class=\"dataframe\">\n",
       "  <thead>\n",
       "    <tr style=\"text-align: right;\">\n",
       "      <th></th>\n",
       "      <th>Total Discharges</th>\n",
       "    </tr>\n",
       "    <tr>\n",
       "      <th>DRG Definition</th>\n",
       "      <th></th>\n",
       "    </tr>\n",
       "  </thead>\n",
       "  <tbody>\n",
       "    <tr>\n",
       "      <th>470 - MAJOR JOINT REPLACEMENT OR REATTACHMENT OF LOWER EXTREMITY W/O MCC</th>\n",
       "      <td>427207</td>\n",
       "    </tr>\n",
       "    <tr>\n",
       "      <th>871 - SEPTICEMIA OR SEVERE SEPSIS W/O MV 96+ HOURS W MCC</th>\n",
       "      <td>319072</td>\n",
       "    </tr>\n",
       "    <tr>\n",
       "      <th>392 - ESOPHAGITIS, GASTROENT &amp; MISC DIGEST DISORDERS W/O MCC</th>\n",
       "      <td>244854</td>\n",
       "    </tr>\n",
       "    <tr>\n",
       "      <th>292 - HEART FAILURE &amp; SHOCK W CC</th>\n",
       "      <td>222038</td>\n",
       "    </tr>\n",
       "    <tr>\n",
       "      <th>690 - KIDNEY &amp; URINARY TRACT INFECTIONS W/O MCC</th>\n",
       "      <td>206695</td>\n",
       "    </tr>\n",
       "    <tr>\n",
       "      <th>194 - SIMPLE PNEUMONIA &amp; PLEURISY W CC</th>\n",
       "      <td>198390</td>\n",
       "    </tr>\n",
       "    <tr>\n",
       "      <th>291 - HEART FAILURE &amp; SHOCK W MCC</th>\n",
       "      <td>185599</td>\n",
       "    </tr>\n",
       "    <tr>\n",
       "      <th>641 - MISC DISORDERS OF NUTRITION,METABOLISM,FLUIDS/ELECTROLYTES W/O MCC</th>\n",
       "      <td>153660</td>\n",
       "    </tr>\n",
       "  </tbody>\n",
       "</table>\n",
       "</div>"
      ],
      "text/plain": [
       "                                                    Total Discharges\n",
       "DRG Definition                                                      \n",
       "470 - MAJOR JOINT REPLACEMENT OR REATTACHMENT O...            427207\n",
       "871 - SEPTICEMIA OR SEVERE SEPSIS W/O MV 96+ HO...            319072\n",
       "392 - ESOPHAGITIS, GASTROENT & MISC DIGEST DISO...            244854\n",
       "292 - HEART FAILURE & SHOCK W CC                              222038\n",
       "690 - KIDNEY & URINARY TRACT INFECTIONS W/O MCC               206695\n",
       "194 - SIMPLE PNEUMONIA & PLEURISY W CC                        198390\n",
       "291 - HEART FAILURE & SHOCK W MCC                             185599\n",
       "641 - MISC DISORDERS OF NUTRITION,METABOLISM,FL...            153660"
      ]
     },
     "execution_count": 9,
     "metadata": {},
     "output_type": "execute_result"
    }
   ],
   "source": [
    "# 2011 top procedures performed\n",
    "grouped_2011_df=data_2011_df.groupby(['DRG Definition'])\n",
    "grouped_2011_counts_df=pd.DataFrame(grouped_2011_df[('Total Discharges')].sum())\n",
    "grouped_2011_counts_df.sort_values(\"Total Discharges\", ascending=False).head(8)"
   ]
  },
  {
   "cell_type": "code",
   "execution_count": 10,
   "metadata": {},
   "outputs": [
    {
     "data": {
      "text/html": [
       "<div>\n",
       "<style scoped>\n",
       "    .dataframe tbody tr th:only-of-type {\n",
       "        vertical-align: middle;\n",
       "    }\n",
       "\n",
       "    .dataframe tbody tr th {\n",
       "        vertical-align: top;\n",
       "    }\n",
       "\n",
       "    .dataframe thead th {\n",
       "        text-align: right;\n",
       "    }\n",
       "</style>\n",
       "<table border=\"1\" class=\"dataframe\">\n",
       "  <thead>\n",
       "    <tr style=\"text-align: right;\">\n",
       "      <th></th>\n",
       "      <th>Total Discharges</th>\n",
       "    </tr>\n",
       "    <tr>\n",
       "      <th>DRG Definition</th>\n",
       "      <th></th>\n",
       "    </tr>\n",
       "  </thead>\n",
       "  <tbody>\n",
       "    <tr>\n",
       "      <th>470 - MAJOR JOINT REPLACEMENT OR REATTACHMENT OF LOWER EXTREMITY W/O MCC</th>\n",
       "      <td>430717</td>\n",
       "    </tr>\n",
       "    <tr>\n",
       "      <th>871 - SEPTICEMIA OR SEVERE SEPSIS W/O MV 96+ HOURS W MCC</th>\n",
       "      <td>345343</td>\n",
       "    </tr>\n",
       "    <tr>\n",
       "      <th>392 - ESOPHAGITIS, GASTROENT &amp; MISC DIGEST DISORDERS W/O MCC</th>\n",
       "      <td>215483</td>\n",
       "    </tr>\n",
       "    <tr>\n",
       "      <th>292 - HEART FAILURE &amp; SHOCK W CC</th>\n",
       "      <td>204069</td>\n",
       "    </tr>\n",
       "    <tr>\n",
       "      <th>690 - KIDNEY &amp; URINARY TRACT INFECTIONS W/O MCC</th>\n",
       "      <td>195346</td>\n",
       "    </tr>\n",
       "    <tr>\n",
       "      <th>291 - HEART FAILURE &amp; SHOCK W MCC</th>\n",
       "      <td>182445</td>\n",
       "    </tr>\n",
       "    <tr>\n",
       "      <th>194 - SIMPLE PNEUMONIA &amp; PLEURISY W CC</th>\n",
       "      <td>180262</td>\n",
       "    </tr>\n",
       "    <tr>\n",
       "      <th>683 - RENAL FAILURE W CC</th>\n",
       "      <td>153170</td>\n",
       "    </tr>\n",
       "  </tbody>\n",
       "</table>\n",
       "</div>"
      ],
      "text/plain": [
       "                                                    Total Discharges\n",
       "DRG Definition                                                      \n",
       "470 - MAJOR JOINT REPLACEMENT OR REATTACHMENT O...            430717\n",
       "871 - SEPTICEMIA OR SEVERE SEPSIS W/O MV 96+ HO...            345343\n",
       "392 - ESOPHAGITIS, GASTROENT & MISC DIGEST DISO...            215483\n",
       "292 - HEART FAILURE & SHOCK W CC                              204069\n",
       "690 - KIDNEY & URINARY TRACT INFECTIONS W/O MCC               195346\n",
       "291 - HEART FAILURE & SHOCK W MCC                             182445\n",
       "194 - SIMPLE PNEUMONIA & PLEURISY W CC                        180262\n",
       "683 - RENAL FAILURE W CC                                      153170"
      ]
     },
     "execution_count": 10,
     "metadata": {},
     "output_type": "execute_result"
    }
   ],
   "source": [
    "# 2012 top procedures performed\n",
    "grouped_2012_df=data_2012_df.groupby(['DRG Definition'])\n",
    "grouped_2012_counts_df=pd.DataFrame(grouped_2012_df[('Total Discharges')].sum())\n",
    "grouped_2012_counts_df.sort_values(\"Total Discharges\", ascending=False).head(8)"
   ]
  },
  {
   "cell_type": "code",
   "execution_count": 11,
   "metadata": {},
   "outputs": [
    {
     "data": {
      "text/html": [
       "<div>\n",
       "<style scoped>\n",
       "    .dataframe tbody tr th:only-of-type {\n",
       "        vertical-align: middle;\n",
       "    }\n",
       "\n",
       "    .dataframe tbody tr th {\n",
       "        vertical-align: top;\n",
       "    }\n",
       "\n",
       "    .dataframe thead th {\n",
       "        text-align: right;\n",
       "    }\n",
       "</style>\n",
       "<table border=\"1\" class=\"dataframe\">\n",
       "  <thead>\n",
       "    <tr style=\"text-align: right;\">\n",
       "      <th></th>\n",
       "      <th>Total Discharges</th>\n",
       "    </tr>\n",
       "    <tr>\n",
       "      <th>DRG Definition</th>\n",
       "      <th></th>\n",
       "    </tr>\n",
       "  </thead>\n",
       "  <tbody>\n",
       "    <tr>\n",
       "      <th>470 - MAJOR JOINT REPLACEMENT OR REATTACHMENT OF LOWER EXTREMITY W/O MCC</th>\n",
       "      <td>444816.0</td>\n",
       "    </tr>\n",
       "    <tr>\n",
       "      <th>871 - SEPTICEMIA OR SEVERE SEPSIS W/O MV 96+ HOURS W MCC</th>\n",
       "      <td>396451.0</td>\n",
       "    </tr>\n",
       "    <tr>\n",
       "      <th>392 - ESOPHAGITIS, GASTROENT &amp; MISC DIGEST DISORDERS W/O MCC</th>\n",
       "      <td>197086.0</td>\n",
       "    </tr>\n",
       "    <tr>\n",
       "      <th>292 - HEART FAILURE &amp; SHOCK W CC</th>\n",
       "      <td>196318.0</td>\n",
       "    </tr>\n",
       "    <tr>\n",
       "      <th>291 - HEART FAILURE &amp; SHOCK W MCC</th>\n",
       "      <td>192040.0</td>\n",
       "    </tr>\n",
       "    <tr>\n",
       "      <th>194 - SIMPLE PNEUMONIA &amp; PLEURISY W CC</th>\n",
       "      <td>181006.0</td>\n",
       "    </tr>\n",
       "    <tr>\n",
       "      <th>690 - KIDNEY &amp; URINARY TRACT INFECTIONS W/O MCC</th>\n",
       "      <td>173271.0</td>\n",
       "    </tr>\n",
       "    <tr>\n",
       "      <th>683 - RENAL FAILURE W CC</th>\n",
       "      <td>150966.0</td>\n",
       "    </tr>\n",
       "  </tbody>\n",
       "</table>\n",
       "</div>"
      ],
      "text/plain": [
       "                                                    Total Discharges\n",
       "DRG Definition                                                      \n",
       "470 - MAJOR JOINT REPLACEMENT OR REATTACHMENT O...          444816.0\n",
       "871 - SEPTICEMIA OR SEVERE SEPSIS W/O MV 96+ HO...          396451.0\n",
       "392 - ESOPHAGITIS, GASTROENT & MISC DIGEST DISO...          197086.0\n",
       "292 - HEART FAILURE & SHOCK W CC                            196318.0\n",
       "291 - HEART FAILURE & SHOCK W MCC                           192040.0\n",
       "194 - SIMPLE PNEUMONIA & PLEURISY W CC                      181006.0\n",
       "690 - KIDNEY & URINARY TRACT INFECTIONS W/O MCC             173271.0\n",
       "683 - RENAL FAILURE W CC                                    150966.0"
      ]
     },
     "execution_count": 11,
     "metadata": {},
     "output_type": "execute_result"
    }
   ],
   "source": [
    "# 2013 top procedures performed\n",
    "grouped_2013_df=data_2013_df.groupby(['DRG Definition'])\n",
    "grouped_2013_counts_df=pd.DataFrame(grouped_2013_df[('Total Discharges')].sum())\n",
    "grouped_2013_counts_df.sort_values(\"Total Discharges\", ascending=False).head(8)"
   ]
  },
  {
   "cell_type": "code",
   "execution_count": 12,
   "metadata": {},
   "outputs": [
    {
     "data": {
      "text/html": [
       "<div>\n",
       "<style scoped>\n",
       "    .dataframe tbody tr th:only-of-type {\n",
       "        vertical-align: middle;\n",
       "    }\n",
       "\n",
       "    .dataframe tbody tr th {\n",
       "        vertical-align: top;\n",
       "    }\n",
       "\n",
       "    .dataframe thead th {\n",
       "        text-align: right;\n",
       "    }\n",
       "</style>\n",
       "<table border=\"1\" class=\"dataframe\">\n",
       "  <thead>\n",
       "    <tr style=\"text-align: right;\">\n",
       "      <th></th>\n",
       "      <th>Total Discharges</th>\n",
       "    </tr>\n",
       "    <tr>\n",
       "      <th>DRG Definition</th>\n",
       "      <th></th>\n",
       "    </tr>\n",
       "  </thead>\n",
       "  <tbody>\n",
       "    <tr>\n",
       "      <th>470 - MAJOR JOINT REPLACEMENT OR REATTACHMENT OF LOWER EXTREMITY W/O MCC</th>\n",
       "      <td>458259</td>\n",
       "    </tr>\n",
       "    <tr>\n",
       "      <th>871 - SEPTICEMIA OR SEVERE SEPSIS W/O MV 96+ HOURS W MCC</th>\n",
       "      <td>438597</td>\n",
       "    </tr>\n",
       "    <tr>\n",
       "      <th>291 - HEART FAILURE &amp; SHOCK W MCC</th>\n",
       "      <td>198889</td>\n",
       "    </tr>\n",
       "    <tr>\n",
       "      <th>292 - HEART FAILURE &amp; SHOCK W CC</th>\n",
       "      <td>192918</td>\n",
       "    </tr>\n",
       "    <tr>\n",
       "      <th>392 - ESOPHAGITIS, GASTROENT &amp; MISC DIGEST DISORDERS W/O MCC</th>\n",
       "      <td>190375</td>\n",
       "    </tr>\n",
       "    <tr>\n",
       "      <th>690 - KIDNEY &amp; URINARY TRACT INFECTIONS W/O MCC</th>\n",
       "      <td>159823</td>\n",
       "    </tr>\n",
       "    <tr>\n",
       "      <th>194 - SIMPLE PNEUMONIA &amp; PLEURISY W CC</th>\n",
       "      <td>148808</td>\n",
       "    </tr>\n",
       "    <tr>\n",
       "      <th>683 - RENAL FAILURE W CC</th>\n",
       "      <td>144145</td>\n",
       "    </tr>\n",
       "  </tbody>\n",
       "</table>\n",
       "</div>"
      ],
      "text/plain": [
       "                                                    Total Discharges\n",
       "DRG Definition                                                      \n",
       "470 - MAJOR JOINT REPLACEMENT OR REATTACHMENT O...            458259\n",
       "871 - SEPTICEMIA OR SEVERE SEPSIS W/O MV 96+ HO...            438597\n",
       "291 - HEART FAILURE & SHOCK W MCC                             198889\n",
       "292 - HEART FAILURE & SHOCK W CC                              192918\n",
       "392 - ESOPHAGITIS, GASTROENT & MISC DIGEST DISO...            190375\n",
       "690 - KIDNEY & URINARY TRACT INFECTIONS W/O MCC               159823\n",
       "194 - SIMPLE PNEUMONIA & PLEURISY W CC                        148808\n",
       "683 - RENAL FAILURE W CC                                      144145"
      ]
     },
     "execution_count": 12,
     "metadata": {},
     "output_type": "execute_result"
    }
   ],
   "source": [
    "# 2014 top procedures performed\n",
    "grouped_2014_df=data_2014_df.groupby(['DRG Definition'])\n",
    "grouped_2014_counts_df=pd.DataFrame(grouped_2014_df[('Total Discharges')].sum())\n",
    "grouped_2014_counts_df.sort_values(\"Total Discharges\", ascending=False).head(8)"
   ]
  },
  {
   "cell_type": "code",
   "execution_count": 13,
   "metadata": {},
   "outputs": [
    {
     "data": {
      "text/html": [
       "<div>\n",
       "<style scoped>\n",
       "    .dataframe tbody tr th:only-of-type {\n",
       "        vertical-align: middle;\n",
       "    }\n",
       "\n",
       "    .dataframe tbody tr th {\n",
       "        vertical-align: top;\n",
       "    }\n",
       "\n",
       "    .dataframe thead th {\n",
       "        text-align: right;\n",
       "    }\n",
       "</style>\n",
       "<table border=\"1\" class=\"dataframe\">\n",
       "  <thead>\n",
       "    <tr style=\"text-align: right;\">\n",
       "      <th></th>\n",
       "      <th>Total Discharges</th>\n",
       "    </tr>\n",
       "    <tr>\n",
       "      <th>DRG Definition</th>\n",
       "      <th></th>\n",
       "    </tr>\n",
       "  </thead>\n",
       "  <tbody>\n",
       "    <tr>\n",
       "      <th>871 - SEPTICEMIA OR SEVERE SEPSIS W/O MV 96+ HOURS W MCC</th>\n",
       "      <td>521358</td>\n",
       "    </tr>\n",
       "    <tr>\n",
       "      <th>470 - MAJOR JOINT REPLACEMENT OR REATTACHMENT OF LOWER EXTREMITY W/O MCC</th>\n",
       "      <td>463930</td>\n",
       "    </tr>\n",
       "    <tr>\n",
       "      <th>291 - HEART FAILURE &amp; SHOCK W MCC</th>\n",
       "      <td>221654</td>\n",
       "    </tr>\n",
       "    <tr>\n",
       "      <th>292 - HEART FAILURE &amp; SHOCK W CC</th>\n",
       "      <td>192975</td>\n",
       "    </tr>\n",
       "    <tr>\n",
       "      <th>392 - ESOPHAGITIS, GASTROENT &amp; MISC DIGEST DISORDERS W/O MCC</th>\n",
       "      <td>182443</td>\n",
       "    </tr>\n",
       "    <tr>\n",
       "      <th>690 - KIDNEY &amp; URINARY TRACT INFECTIONS W/O MCC</th>\n",
       "      <td>150680</td>\n",
       "    </tr>\n",
       "    <tr>\n",
       "      <th>872 - SEPTICEMIA OR SEVERE SEPSIS W/O MV &gt;96 HOURS W/O MCC</th>\n",
       "      <td>150151</td>\n",
       "    </tr>\n",
       "    <tr>\n",
       "      <th>194 - SIMPLE PNEUMONIA &amp; PLEURISY W CC</th>\n",
       "      <td>148886</td>\n",
       "    </tr>\n",
       "  </tbody>\n",
       "</table>\n",
       "</div>"
      ],
      "text/plain": [
       "                                                    Total Discharges\n",
       "DRG Definition                                                      \n",
       "871 - SEPTICEMIA OR SEVERE SEPSIS W/O MV 96+ HO...            521358\n",
       "470 - MAJOR JOINT REPLACEMENT OR REATTACHMENT O...            463930\n",
       "291 - HEART FAILURE & SHOCK W MCC                             221654\n",
       "292 - HEART FAILURE & SHOCK W CC                              192975\n",
       "392 - ESOPHAGITIS, GASTROENT & MISC DIGEST DISO...            182443\n",
       "690 - KIDNEY & URINARY TRACT INFECTIONS W/O MCC               150680\n",
       "872 - SEPTICEMIA OR SEVERE SEPSIS W/O MV >96 HO...            150151\n",
       "194 - SIMPLE PNEUMONIA & PLEURISY W CC                        148886"
      ]
     },
     "execution_count": 13,
     "metadata": {},
     "output_type": "execute_result"
    }
   ],
   "source": [
    "# 2015 top procedures performed\n",
    "grouped_2015_df=data_2015_df.groupby(['DRG Definition'])\n",
    "grouped_2015_counts_df=pd.DataFrame(grouped_2015_df[('Total Discharges')].sum())\n",
    "grouped_2015_counts_df.sort_values(\"Total Discharges\", ascending=False).head(8)"
   ]
  },
  {
   "cell_type": "code",
   "execution_count": 14,
   "metadata": {},
   "outputs": [
    {
     "data": {
      "text/html": [
       "<div>\n",
       "<style scoped>\n",
       "    .dataframe tbody tr th:only-of-type {\n",
       "        vertical-align: middle;\n",
       "    }\n",
       "\n",
       "    .dataframe tbody tr th {\n",
       "        vertical-align: top;\n",
       "    }\n",
       "\n",
       "    .dataframe thead th {\n",
       "        text-align: right;\n",
       "    }\n",
       "</style>\n",
       "<table border=\"1\" class=\"dataframe\">\n",
       "  <thead>\n",
       "    <tr style=\"text-align: right;\">\n",
       "      <th></th>\n",
       "      <th>Total Discharges</th>\n",
       "    </tr>\n",
       "    <tr>\n",
       "      <th>DRG Definition</th>\n",
       "      <th></th>\n",
       "    </tr>\n",
       "  </thead>\n",
       "  <tbody>\n",
       "    <tr>\n",
       "      <th>871 - SEPTICEMIA OR SEVERE SEPSIS W/O MV 96+ HOURS W MCC</th>\n",
       "      <td>530042.0</td>\n",
       "    </tr>\n",
       "    <tr>\n",
       "      <th>470 - MAJOR JOINT REPLACEMENT OR REATTACHMENT OF LOWER EXTREMITY W/O MCC</th>\n",
       "      <td>462826.0</td>\n",
       "    </tr>\n",
       "    <tr>\n",
       "      <th>291 - HEART FAILURE &amp; SHOCK W MCC</th>\n",
       "      <td>233015.0</td>\n",
       "    </tr>\n",
       "    <tr>\n",
       "      <th>292 - HEART FAILURE &amp; SHOCK W CC</th>\n",
       "      <td>181587.0</td>\n",
       "    </tr>\n",
       "    <tr>\n",
       "      <th>392 - ESOPHAGITIS, GASTROENT &amp; MISC DIGEST DISORDERS W/O MCC</th>\n",
       "      <td>165908.0</td>\n",
       "    </tr>\n",
       "    <tr>\n",
       "      <th>872 - SEPTICEMIA OR SEVERE SEPSIS W/O MV &gt;96 HOURS W/O MCC</th>\n",
       "      <td>151092.0</td>\n",
       "    </tr>\n",
       "    <tr>\n",
       "      <th>690 - KIDNEY &amp; URINARY TRACT INFECTIONS W/O MCC</th>\n",
       "      <td>144212.0</td>\n",
       "    </tr>\n",
       "    <tr>\n",
       "      <th>189 - PULMONARY EDEMA &amp; RESPIRATORY FAILURE</th>\n",
       "      <td>142982.0</td>\n",
       "    </tr>\n",
       "  </tbody>\n",
       "</table>\n",
       "</div>"
      ],
      "text/plain": [
       "                                                    Total Discharges\n",
       "DRG Definition                                                      \n",
       "871 - SEPTICEMIA OR SEVERE SEPSIS W/O MV 96+ HO...          530042.0\n",
       "470 - MAJOR JOINT REPLACEMENT OR REATTACHMENT O...          462826.0\n",
       "291 - HEART FAILURE & SHOCK W MCC                           233015.0\n",
       "292 - HEART FAILURE & SHOCK W CC                            181587.0\n",
       "392 - ESOPHAGITIS, GASTROENT & MISC DIGEST DISO...          165908.0\n",
       "872 - SEPTICEMIA OR SEVERE SEPSIS W/O MV >96 HO...          151092.0\n",
       "690 - KIDNEY & URINARY TRACT INFECTIONS W/O MCC             144212.0\n",
       "189 - PULMONARY EDEMA & RESPIRATORY FAILURE                 142982.0"
      ]
     },
     "execution_count": 14,
     "metadata": {},
     "output_type": "execute_result"
    }
   ],
   "source": [
    "# 2016 top procedures performed\n",
    "grouped_2016_df=data_2016_df.groupby(['DRG Definition'])\n",
    "grouped_2016_counts_df=pd.DataFrame(grouped_2016_df[('Total Discharges')].sum())\n",
    "grouped_2016_counts_df.sort_values(\"Total Discharges\", ascending=False).head(8)"
   ]
  },
  {
   "cell_type": "code",
   "execution_count": 15,
   "metadata": {},
   "outputs": [
    {
     "data": {
      "text/html": [
       "<div>\n",
       "<style scoped>\n",
       "    .dataframe tbody tr th:only-of-type {\n",
       "        vertical-align: middle;\n",
       "    }\n",
       "\n",
       "    .dataframe tbody tr th {\n",
       "        vertical-align: top;\n",
       "    }\n",
       "\n",
       "    .dataframe thead th {\n",
       "        text-align: right;\n",
       "    }\n",
       "</style>\n",
       "<table border=\"1\" class=\"dataframe\">\n",
       "  <thead>\n",
       "    <tr style=\"text-align: right;\">\n",
       "      <th></th>\n",
       "      <th>Total Discharges</th>\n",
       "    </tr>\n",
       "    <tr>\n",
       "      <th>DRG Definition</th>\n",
       "      <th></th>\n",
       "    </tr>\n",
       "  </thead>\n",
       "  <tbody>\n",
       "    <tr>\n",
       "      <th>871 - SEPTICEMIA OR SEVERE SEPSIS W/O MV 96+ HOURS W MCC</th>\n",
       "      <td>597736</td>\n",
       "    </tr>\n",
       "    <tr>\n",
       "      <th>470 - MAJOR JOINT REPLACEMENT OR REATTACHMENT OF LOWER EXTREMITY W/O MCC</th>\n",
       "      <td>510632</td>\n",
       "    </tr>\n",
       "    <tr>\n",
       "      <th>291 - HEART FAILURE &amp; SHOCK W MCC</th>\n",
       "      <td>359442</td>\n",
       "    </tr>\n",
       "    <tr>\n",
       "      <th>190 - CHRONIC OBSTRUCTIVE PULMONARY DISEASE W MCC</th>\n",
       "      <td>215525</td>\n",
       "    </tr>\n",
       "    <tr>\n",
       "      <th>189 - PULMONARY EDEMA &amp; RESPIRATORY FAILURE</th>\n",
       "      <td>165613</td>\n",
       "    </tr>\n",
       "    <tr>\n",
       "      <th>872 - SEPTICEMIA OR SEVERE SEPSIS W/O MV &gt;96 HOURS W/O MCC</th>\n",
       "      <td>157851</td>\n",
       "    </tr>\n",
       "    <tr>\n",
       "      <th>392 - ESOPHAGITIS, GASTROENT &amp; MISC DIGEST DISORDERS W/O MCC</th>\n",
       "      <td>155843</td>\n",
       "    </tr>\n",
       "    <tr>\n",
       "      <th>690 - KIDNEY &amp; URINARY TRACT INFECTIONS W/O MCC</th>\n",
       "      <td>138497</td>\n",
       "    </tr>\n",
       "    <tr>\n",
       "      <th>683 - RENAL FAILURE W CC</th>\n",
       "      <td>134011</td>\n",
       "    </tr>\n",
       "    <tr>\n",
       "      <th>378 - G.I. HEMORRHAGE W CC</th>\n",
       "      <td>131163</td>\n",
       "    </tr>\n",
       "    <tr>\n",
       "      <th>682 - RENAL FAILURE W MCC</th>\n",
       "      <td>109187</td>\n",
       "    </tr>\n",
       "    <tr>\n",
       "      <th>065 - INTRACRANIAL HEMORRHAGE OR CEREBRAL INFARCTION W CC OR TPA IN 24 HRS</th>\n",
       "      <td>108453</td>\n",
       "    </tr>\n",
       "    <tr>\n",
       "      <th>603 - CELLULITIS W/O MCC</th>\n",
       "      <td>106510</td>\n",
       "    </tr>\n",
       "    <tr>\n",
       "      <th>292 - HEART FAILURE &amp; SHOCK W CC</th>\n",
       "      <td>105424</td>\n",
       "    </tr>\n",
       "    <tr>\n",
       "      <th>193 - SIMPLE PNEUMONIA &amp; PLEURISY W MCC</th>\n",
       "      <td>104672</td>\n",
       "    </tr>\n",
       "  </tbody>\n",
       "</table>\n",
       "</div>"
      ],
      "text/plain": [
       "                                                    Total Discharges\n",
       "DRG Definition                                                      \n",
       "871 - SEPTICEMIA OR SEVERE SEPSIS W/O MV 96+ HO...            597736\n",
       "470 - MAJOR JOINT REPLACEMENT OR REATTACHMENT O...            510632\n",
       "291 - HEART FAILURE & SHOCK W MCC                             359442\n",
       "190 - CHRONIC OBSTRUCTIVE PULMONARY DISEASE W MCC             215525\n",
       "189 - PULMONARY EDEMA & RESPIRATORY FAILURE                   165613\n",
       "872 - SEPTICEMIA OR SEVERE SEPSIS W/O MV >96 HO...            157851\n",
       "392 - ESOPHAGITIS, GASTROENT & MISC DIGEST DISO...            155843\n",
       "690 - KIDNEY & URINARY TRACT INFECTIONS W/O MCC               138497\n",
       "683 - RENAL FAILURE W CC                                      134011\n",
       "378 - G.I. HEMORRHAGE W CC                                    131163\n",
       "682 - RENAL FAILURE W MCC                                     109187\n",
       "065 - INTRACRANIAL HEMORRHAGE OR CEREBRAL INFAR...            108453\n",
       "603 - CELLULITIS W/O MCC                                      106510\n",
       "292 - HEART FAILURE & SHOCK W CC                              105424\n",
       "193 - SIMPLE PNEUMONIA & PLEURISY W MCC                       104672"
      ]
     },
     "execution_count": 15,
     "metadata": {},
     "output_type": "execute_result"
    }
   ],
   "source": [
    "# 2017 top procedures performed\n",
    "grouped_2017_df=data_2017_df.groupby(['DRG Definition'])\n",
    "grouped_2017_counts_df=pd.DataFrame(grouped_2017_df[('Total Discharges')].sum())\n",
    "grouped_2017_counts_df.sort_values(\"Total Discharges\", ascending=False).head(15)"
   ]
  },
  {
   "cell_type": "markdown",
   "metadata": {},
   "source": [
    "## 3. Create filtered dataframe with only the five procedures chosen: \n",
    "\n",
    "470 - MAJOR JOINT REPLACEMENT OR REATTACHMENT OF LOWER EXTREMITY W/O MCC,  \n",
    "871 - SEPTICEMIA OR SEVERE SEPSIS W/O MV 96+ HOURS W MCC,  \n",
    "392 - ESOPHAGITIS, GASTROENT & MISC DIGEST DISORDERS W/O MCC,  \n",
    "690 - KIDNEY & URINARY TRACT INFECTIONS W/O MCC,  \n",
    "194 - SIMPLE PNEUMONIA & PLEURISY W CC  "
   ]
  },
  {
   "cell_type": "code",
   "execution_count": 16,
   "metadata": {},
   "outputs": [],
   "source": [
    "# Create dataframe (limit_df) with only the five procedures chosen\n",
    "idx = np.where((final_data_df['DRG Definition']=='470 - MAJOR JOINT REPLACEMENT OR REATTACHMENT OF LOWER EXTREMITY W/O MCC') | \\\n",
    "               (final_data_df['DRG Definition']=='871 - SEPTICEMIA OR SEVERE SEPSIS W/O MV 96+ HOURS W MCC') | \\\n",
    "               (final_data_df['DRG Definition']=='392 - ESOPHAGITIS, GASTROENT & MISC DIGEST DISORDERS W/O MCC') | \\\n",
    "               (final_data_df['DRG Definition']=='690 - KIDNEY & URINARY TRACT INFECTIONS W/O MCC') | \\\n",
    "               (final_data_df['DRG Definition']=='194 - SIMPLE PNEUMONIA & PLEURISY W CC') )\n",
    "limit_df = final_data_df.loc[idx]\n"
   ]
  },
  {
   "cell_type": "code",
   "execution_count": 17,
   "metadata": {},
   "outputs": [],
   "source": [
    "# Output limit_df to .csv (final_limit_data.csv) \n",
    "limit_df.to_csv('../final_limit_data.csv', index=False)"
   ]
  },
  {
   "cell_type": "markdown",
   "metadata": {},
   "source": [
    "## 4a) Histograms - Number of Cases Based on Average Costs of Procedure in 2011\n",
    "\n",
    "Allows us to visualize the distribution of costs for the same procedure "
   ]
  },
  {
   "cell_type": "code",
   "execution_count": 18,
   "metadata": {},
   "outputs": [],
   "source": [
    "# Creating data for each procedure alone\n",
    "\n",
    "data_2011_only_DRG470_df = data_2011_df.loc[data_2011_df['DRG Definition'] ==\\\n",
    "                                         \"470 - MAJOR JOINT REPLACEMENT OR REATTACHMENT OF LOWER EXTREMITY W/O MCC\",:]\n",
    "data_2011_only_DRG871_df = data_2011_df.loc[data_2011_df['DRG Definition'] ==\\\n",
    "                                         \"871 - SEPTICEMIA OR SEVERE SEPSIS W/O MV 96+ HOURS W MCC\",:]\n",
    "data_2011_only_DRG392_df = data_2011_df.loc[data_2011_df['DRG Definition'] ==\\\n",
    "                                         \"392 - ESOPHAGITIS, GASTROENT & MISC DIGEST DISORDERS W/O MCC\",:]\n",
    "data_2011_only_DRG690_df = data_2011_df.loc[data_2011_df['DRG Definition'] ==\\\n",
    "                                         \"690 - KIDNEY & URINARY TRACT INFECTIONS W/O MCC\",:]\n",
    "data_2011_only_DRG194_df = data_2011_df.loc[data_2011_df['DRG Definition'] ==\\\n",
    "                                         \"194 - SIMPLE PNEUMONIA & PLEURISY W CC\",:]"
   ]
  },
  {
   "cell_type": "code",
   "execution_count": 19,
   "metadata": {},
   "outputs": [
    {
     "data": {
      "image/png": "[encoded data removed]",
      "text/plain": [
       "<Figure size 432x288 with 1 Axes>"
      ]
     },
     "metadata": {
      "needs_background": "light"
     },
     "output_type": "display_data"
    }
   ],
   "source": [
    "# Plot histogram for number of cases based on cost of procedure\n",
    "\n",
    "plt.hist(data_2011_only_DRG470_df['Average Covered Charges'])\n",
    "plt.xlabel('Cost of Procedure')\n",
    "plt.ylabel('Counts')\n",
    "plt.title('Number of Major Joint Replacement or Reattachment of Lower Extremity Cases by Cost')\n",
    "plt.show()"
   ]
  },
  {
   "cell_type": "code",
   "execution_count": 20,
   "metadata": {},
   "outputs": [
    {
     "data": {
      "image/png": "[encoded data removed]",
      "text/plain": [
       "<Figure size 432x288 with 1 Axes>"
      ]
     },
     "metadata": {
      "needs_background": "light"
     },
     "output_type": "display_data"
    }
   ],
   "source": [
    "# Plot histogram for number of cases based on cost of procedure\n",
    "\n",
    "plt.hist(data_2011_only_DRG871_df['Average Covered Charges'])\n",
    "plt.xlabel('Cost of Procedure')\n",
    "plt.ylabel('Counts')\n",
    "plt.title('Number of Septicemia or Severe Sepsis by Cost')\n",
    "plt.show()"
   ]
  },
  {
   "cell_type": "code",
   "execution_count": 21,
   "metadata": {},
   "outputs": [
    {
     "data": {
      "image/png": "[encoded data removed]",
      "text/plain": [
       "<Figure size 432x288 with 1 Axes>"
      ]
     },
     "metadata": {
      "needs_background": "light"
     },
     "output_type": "display_data"
    }
   ],
   "source": [
    "# Plot histogram for number of cases based on cost of procedure\n",
    "\n",
    "plt.hist(data_2011_only_DRG392_df['Average Covered Charges'])\n",
    "plt.xlabel('Cost of Procedure')\n",
    "plt.ylabel('Counts')\n",
    "plt.title('Number of Esophagitis, Gastroent & Misc Digest Disorders by Cost')\n",
    "plt.show()"
   ]
  },
  {
   "cell_type": "code",
   "execution_count": 22,
   "metadata": {},
   "outputs": [
    {
     "data": {
      "image/png": "[encoded data removed]",
      "text/plain": [
       "<Figure size 432x288 with 1 Axes>"
      ]
     },
     "metadata": {
      "needs_background": "light"
     },
     "output_type": "display_data"
    }
   ],
   "source": [
    "# Plot histogram for number of cases based on cost of procedure\n",
    "\n",
    "plt.hist(data_2011_only_DRG690_df['Average Covered Charges'])\n",
    "plt.xlabel('Cost of Procedure')\n",
    "plt.ylabel('Counts')\n",
    "plt.title('Number of Kidney & Urinary Tract Infections by Cost')\n",
    "plt.show()"
   ]
  },
  {
   "cell_type": "code",
   "execution_count": 23,
   "metadata": {},
   "outputs": [
    {
     "data": {
      "image/png": "[encoded data removed]",
      "text/plain": [
       "<Figure size 432x288 with 1 Axes>"
      ]
     },
     "metadata": {
      "needs_background": "light"
     },
     "output_type": "display_data"
    }
   ],
   "source": [
    "# Plot histogram for number of cases based on cost of procedure\n",
    "\n",
    "plt.hist(data_2011_only_DRG194_df['Average Covered Charges'])\n",
    "plt.xlabel('Cost of Procedure')\n",
    "plt.ylabel('Counts')\n",
    "plt.title('Number of Simple Pneumonia and Pleurisy Cases by Cost')\n",
    "plt.show()"
   ]
  },
  {
   "cell_type": "markdown",
   "metadata": {},
   "source": [
    "## 4b) Boxplots - 2011-2017 Average Costs Per Procedure"
   ]
  },
  {
   "cell_type": "code",
   "execution_count": 24,
   "metadata": {},
   "outputs": [
    {
     "data": {
      "image/png": "[encoded data removed]",
      "text/plain": [
       "<Figure size 432x288 with 1 Axes>"
      ]
     },
     "metadata": {
      "needs_background": "light"
     },
     "output_type": "display_data"
    },
    {
     "data": {
      "image/png": "[encoded data removed]",
      "text/plain": [
       "<Figure size 432x288 with 1 Axes>"
      ]
     },
     "metadata": {
      "needs_background": "light"
     },
     "output_type": "display_data"
    },
    {
     "data": {
      "image/png": "[encoded data removed]",
      "text/plain": [
       "<Figure size 432x288 with 1 Axes>"
      ]
     },
     "metadata": {
      "needs_background": "light"
     },
     "output_type": "display_data"
    },
    {
     "data": {
      "image/png": "[encoded data removed]",
      "text/plain": [
       "<Figure size 432x288 with 1 Axes>"
      ]
     },
     "metadata": {
      "needs_background": "light"
     },
     "output_type": "display_data"
    },
    {
     "data": {
      "image/png": "[encoded data removed]",
      "text/plain": [
       "<Figure size 432x288 with 1 Axes>"
      ]
     },
     "metadata": {
      "needs_background": "light"
     },
     "output_type": "display_data"
    },
    {
     "name": "stdout",
     "output_type": "stream",
     "text": [
      "Average covered charge values above $121,088 could be outliers for procedure Major Joint Replacement.\n",
      "Average covered charge values above $112,040 could be outliers for procedure Septicemia.\n",
      "Average covered charge values above $48,770 could be outliers for procedure Esophagitis.\n",
      "Average covered charge values above $46,095 could be outliers for procedure Kidney & Urinary Tract Infections.\n",
      "Average covered charge values above $58,452 could be outliers for procedure Simple Pneumonia.\n"
     ]
    }
   ],
   "source": [
    "# Creating Box Plots and Determing Range for Potential Outliers in 2011\n",
    "procedures = [470,871,392,690,194]\n",
    "procedure_names = [\n",
    "    '470 - MAJOR JOINT REPLACEMENT OR REATTACHMENT OF LOWER EXTREMITY W/O MCC',\\\n",
    "    '871 - SEPTICEMIA OR SEVERE SEPSIS W/O MV 96+ HOURS W MCC',\\\n",
    "    '392 - ESOPHAGITIS, GASTROENT & MISC DIGEST DISORDERS W/O MCC',\\\n",
    "    '690 - KIDNEY & URINARY TRACT INFECTIONS W/O MCC',\\\n",
    "    '194 - SIMPLE PNEUMONIA & PLEURISY W CC']\n",
    "short_procedure_names = [\n",
    "    'Major Joint Replacement',\n",
    "    'Septicemia',\n",
    "    'Esophagitis',\n",
    "    'Kidney & Urinary Tract Infections',\n",
    "    'Simple Pneumonia'\n",
    "]\n",
    "\n",
    "upper_bounds=[]\n",
    "lower_bounds=[]\n",
    "\n",
    "for x in range(len(procedures)):\n",
    "    average_charges_df = limit_df.loc[(limit_df['DRG Definition']==\\\n",
    "                        f'{procedure_names[x]}'),:]\n",
    "    average_charges = average_charges_df['Average Covered Charges']\n",
    "\n",
    "    fig1, ax1 = plt.subplots()\n",
    "    ax1.set_title(f'2011-17 Average Procedure Cost for {short_procedure_names[x]}')\n",
    "    ax1.set_ylabel('Average Procedure Cost ($)')\n",
    "    ax1.boxplot(average_charges)\n",
    "    plt.show()\n",
    "    \n",
    "    quartiles = average_charges_df['Average Covered Charges'].quantile([.25,.5,.75])\n",
    "    lowerq=quartiles[.25]\n",
    "    upperq=quartiles[.75]\n",
    "    iqr = upperq-lowerq\n",
    "    upper_bound = upperq+(1.5*iqr)\n",
    "    lower_bound = lowerq-(1.5*iqr)\n",
    "    upper_bounds.append(upper_bound)\n",
    "    lower_bounds.append(lower_bound)\n",
    "    #'${:,.2f}'.format(1234.5)\n",
    "for x in range(len(upper_bounds)):\n",
    "    print(f\"Average covered charge values above ${upper_bounds[x]:,.0f} could be outliers for procedure {short_procedure_names[x]}.\")"
   ]
  },
  {
   "cell_type": "code",
   "execution_count": null,
   "metadata": {},
   "outputs": [],
   "source": []
  }
 ],
 "metadata": {
  "anaconda-cloud": {},
  "kernel_info": {
   "name": "python3"
  },
  "kernelspec": {
   "display_name": "Python 3",
   "language": "python",
   "name": "python3"
  },
  "language_info": {
   "codemirror_mode": {
    "name": "ipython",
    "version": 3
   },
   "file_extension": ".py",
   "mimetype": "text/x-python",
   "name": "python",
   "nbconvert_exporter": "python",
   "pygments_lexer": "ipython3",
   "version": "3.7.6"
  },
  "latex_envs": {
   "LaTeX_envs_menu_present": true,
   "autoclose": false,
   "autocomplete": true,
   "bibliofile": "biblio.bib",
   "cite_by": "apalike",
   "current_citInitial": 1,
   "eqLabelWithNumbers": true,
   "eqNumInitial": 1,
   "hotkeys": {
    "equation": "Ctrl-E",
    "itemize": "Ctrl-I"
   },
   "labels_anchors": false,
   "latex_user_defs": false,
   "report_style_numbering": false,
   "user_envs_cfg": false
  },
  "nteract": {
   "version": "0.8.4"
  }
 },
 "nbformat": 4,
 "nbformat_minor": 4
}
