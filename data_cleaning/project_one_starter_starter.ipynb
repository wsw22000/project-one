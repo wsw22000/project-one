{
 "cells": [
  {
   "cell_type": "code",
   "execution_count": 1,
   "metadata": {},
   "outputs": [],
   "source": [
    "import pandas as pd\n",
    "import matplotlib.pyplot as plt\n",
    "\n",
    "import warnings\n",
    "warnings.filterwarnings('ignore')\n",
    "\n",
    "# Note: 2011-2013 represent top 100 billed services. 2014-2017 represent all billed services\n",
    "data_2011= \"../data_cms_gov/Medicare_Provider_Charge_Inpatient_DRG100_FY2011.csv\"\n",
    "data_2012= \"../data_cms_gov/Medicare_Provider_Charge_Inpatient_DRG100_FY2012.csv\"\n",
    "data_2013= \"../data_cms_gov/Medicare_Provider_Charge_Inpatient_DRG100_FY2013.csv\"\n",
    "data_2014= \"../data_cms_gov/Medicare_Provider_Charge_Inpatient_DRGALL_FY2014.csv\"\n",
    "data_2015= \"../data_cms_gov/Medicare_Provider_Charge_Inpatient_DRGALL_FY2015.csv\"\n",
    "data_2016= \"../data_cms_gov/Medicare_Provider_Charge_Inpatient_DRGALL_FY2016.csv\"\n",
    "data_2017= \"../data_cms_gov/Medicare_Provider_Charge_Inpatient_DRGALL_FY2017.csv\"\n",
    "\n",
    "# Read School and Student Data File and store into Pandas Data Frames\n",
    "data_2011_df = pd.read_csv(data_2011, low_memory=False)\n",
    "data_2012_df = pd.read_csv(data_2012, low_memory=False)\n",
    "data_2013_df = pd.read_csv(data_2013, low_memory=False)\n",
    "data_2014_df = pd.read_csv(data_2014, low_memory=False)\n",
    "data_2015_df = pd.read_csv(data_2015, low_memory=False)\n",
    "data_2016_df = pd.read_csv(data_2016, low_memory=False)\n",
    "data_2017_df = pd.read_csv(data_2017, low_memory=False)\n",
    "\n",
    "data_2016_df = data_2016_df.replace(\n",
    "                        {'871 - SEPTICEMIA OR SEVERE SEPSIS W/O MV >96 HOURS W MCC'\\\n",
    "                         :'871 - SEPTICEMIA OR SEVERE SEPSIS W/O MV 96+ HOURS W MCC'})\n",
    "data_2017_df = data_2017_df.replace(\n",
    "                        {'871 - SEPTICEMIA OR SEVERE SEPSIS W/O MV >96 HOURS W MCC'\\\n",
    "                         :'871 - SEPTICEMIA OR SEVERE SEPSIS W/O MV 96+ HOURS W MCC'})"
   ]
  },
  {
   "cell_type": "code",
   "execution_count": 2,
   "metadata": {},
   "outputs": [],
   "source": [
    "data_2016_df[\"Total Discharges\"] = pd.to_numeric(data_2016_df[\"Total Discharges\"], errors='coerce')\n",
    "data_2016_df = data_2016_df.dropna()"
   ]
  },
  {
   "cell_type": "code",
   "execution_count": 3,
   "metadata": {},
   "outputs": [
    {
     "name": "stdout",
     "output_type": "stream",
     "text": [
      "2017\n"
     ]
    }
   ],
   "source": [
    "#add year\n",
    "data_2011_year_df = data_2011_df['Payment Year'] = 2011\n",
    "data_2012_year_df = data_2012_df['Payment Year'] = 2012\n",
    "data_2013_year_df = data_2013_df['Payment Year'] = 2013\n",
    "data_2014_year_df = data_2014_df['Payment Year'] = 2014\n",
    "data_2015_year_df = data_2015_df['Payment Year'] = 2015\n",
    "data_2016_year_df = data_2016_df['Payment Year'] = 2016\n",
    "data_2017_year_df = data_2017_df['Payment Year'] = 2017\n",
    "print(data_2017_year_df)\n"
   ]
  },
  {
   "cell_type": "code",
   "execution_count": 4,
   "metadata": {},
   "outputs": [],
   "source": [
    "income_2011 = \"../data_median_income/final_2011_median_income.csv\"\n",
    "income_2012 = \"../data_median_income/final_2012_median_income.csv\"\n",
    "income_2013 = \"../data_median_income/final_2013_median_income.csv\"\n",
    "income_2014 = \"../data_median_income/final_2014_median_income.csv\"\n",
    "income_2015 = \"../data_median_income/final_2015_median_income.csv\"\n",
    "income_2016 = \"../data_median_income/final_2016_median_income.csv\"\n",
    "income_2017 = \"../data_median_income/final_2017_median_income.csv\"\n",
    "\n",
    "income_2011_df = pd.read_csv(income_2011, low_memory=False)\n",
    "income_2012_df = pd.read_csv(income_2012, low_memory=False)\n",
    "income_2013_df = pd.read_csv(income_2013, low_memory=False)\n",
    "income_2014_df = pd.read_csv(income_2014, low_memory=False)\n",
    "income_2015_df = pd.read_csv(income_2015, low_memory=False)\n",
    "income_2016_df = pd.read_csv(income_2016, low_memory=False)\n",
    "income_2017_df = pd.read_csv(income_2017, low_memory=False)\n"
   ]
  },
  {
   "cell_type": "code",
   "execution_count": 5,
   "metadata": {},
   "outputs": [],
   "source": [
    "final_data_df = data_2011_year_df\n",
    "frames = [data_2011_df, data_2012_df,data_2013_df,data_2014_df,data_2015_df,data_2016_df,data_2017_df]\n",
    "final_data_df = pd.concat(frames)"
   ]
  },
  {
   "cell_type": "code",
   "execution_count": 6,
   "metadata": {},
   "outputs": [],
   "source": [
    "all_income_df = income_2011_df\n",
    "income_frames = [income_2011_df, income_2012_df, income_2013_df, income_2014_df, income_2015_df, income_2016_df, income_2017_df]\n",
    "all_income_df = pd.concat(income_frames)\n",
    "all_income_df = all_income_df.rename(columns = {\"Zip Code\":\"Provider Zip Code\", \"Year\":\"Payment Year\"})\n",
    "\n",
    "final_data_df = pd.merge(final_data_df, all_income_df, on=[\"Provider Zip Code\", \"Payment Year\"])\n"
   ]
  },
  {
   "cell_type": "code",
   "execution_count": 7,
   "metadata": {},
   "outputs": [],
   "source": [
    "# cleanup up floats\n",
    "final_data_df['Provider Id'] = final_data_df['Provider Id'].astype(str).replace('\\.0', '', regex=True)\n",
    "final_data_df['Provider Zip Code'] = final_data_df['Provider Zip Code'].astype(str).replace('\\.0', '', regex=True)"
   ]
  },
  {
   "cell_type": "code",
   "execution_count": 8,
   "metadata": {},
   "outputs": [],
   "source": [
    "final_data_df.to_csv('../final_data.csv', index=False)\n",
    "\n"
   ]
  },
  {
   "cell_type": "code",
   "execution_count": 9,
   "metadata": {},
   "outputs": [
    {
     "data": {
      "text/html": [
       "<div>\n",
       "<style scoped>\n",
       "    .dataframe tbody tr th:only-of-type {\n",
       "        vertical-align: middle;\n",
       "    }\n",
       "\n",
       "    .dataframe tbody tr th {\n",
       "        vertical-align: top;\n",
       "    }\n",
       "\n",
       "    .dataframe thead th {\n",
       "        text-align: right;\n",
       "    }\n",
       "</style>\n",
       "<table border=\"1\" class=\"dataframe\">\n",
       "  <thead>\n",
       "    <tr style=\"text-align: right;\">\n",
       "      <th></th>\n",
       "      <th>Total Discharges</th>\n",
       "    </tr>\n",
       "    <tr>\n",
       "      <th>DRG Definition</th>\n",
       "      <th></th>\n",
       "    </tr>\n",
       "  </thead>\n",
       "  <tbody>\n",
       "    <tr>\n",
       "      <th>470 - MAJOR JOINT REPLACEMENT OR REATTACHMENT OF LOWER EXTREMITY W/O MCC</th>\n",
       "      <td>427207</td>\n",
       "    </tr>\n",
       "    <tr>\n",
       "      <th>871 - SEPTICEMIA OR SEVERE SEPSIS W/O MV 96+ HOURS W MCC</th>\n",
       "      <td>319072</td>\n",
       "    </tr>\n",
       "    <tr>\n",
       "      <th>392 - ESOPHAGITIS, GASTROENT &amp; MISC DIGEST DISORDERS W/O MCC</th>\n",
       "      <td>244854</td>\n",
       "    </tr>\n",
       "    <tr>\n",
       "      <th>292 - HEART FAILURE &amp; SHOCK W CC</th>\n",
       "      <td>222038</td>\n",
       "    </tr>\n",
       "    <tr>\n",
       "      <th>690 - KIDNEY &amp; URINARY TRACT INFECTIONS W/O MCC</th>\n",
       "      <td>206695</td>\n",
       "    </tr>\n",
       "    <tr>\n",
       "      <th>194 - SIMPLE PNEUMONIA &amp; PLEURISY W CC</th>\n",
       "      <td>198390</td>\n",
       "    </tr>\n",
       "    <tr>\n",
       "      <th>291 - HEART FAILURE &amp; SHOCK W MCC</th>\n",
       "      <td>185599</td>\n",
       "    </tr>\n",
       "    <tr>\n",
       "      <th>641 - MISC DISORDERS OF NUTRITION,METABOLISM,FLUIDS/ELECTROLYTES W/O MCC</th>\n",
       "      <td>153660</td>\n",
       "    </tr>\n",
       "  </tbody>\n",
       "</table>\n",
       "</div>"
      ],
      "text/plain": [
       "                                                    Total Discharges\n",
       "DRG Definition                                                      \n",
       "470 - MAJOR JOINT REPLACEMENT OR REATTACHMENT O...            427207\n",
       "871 - SEPTICEMIA OR SEVERE SEPSIS W/O MV 96+ HO...            319072\n",
       "392 - ESOPHAGITIS, GASTROENT & MISC DIGEST DISO...            244854\n",
       "292 - HEART FAILURE & SHOCK W CC                              222038\n",
       "690 - KIDNEY & URINARY TRACT INFECTIONS W/O MCC               206695\n",
       "194 - SIMPLE PNEUMONIA & PLEURISY W CC                        198390\n",
       "291 - HEART FAILURE & SHOCK W MCC                             185599\n",
       "641 - MISC DISORDERS OF NUTRITION,METABOLISM,FL...            153660"
      ]
     },
     "execution_count": 9,
     "metadata": {},
     "output_type": "execute_result"
    }
   ],
   "source": [
    "# 2011 top procedures performed\n",
    "grouped_2011_df=data_2011_df.groupby(['DRG Definition'])\n",
    "grouped_2011_counts_df=pd.DataFrame(grouped_2011_df[('Total Discharges')].sum())\n",
    "grouped_2011_counts_df.sort_values(\"Total Discharges\", ascending=False).head(8)"
   ]
  },
  {
   "cell_type": "code",
   "execution_count": 10,
   "metadata": {},
   "outputs": [
    {
     "data": {
      "text/html": [
       "<div>\n",
       "<style scoped>\n",
       "    .dataframe tbody tr th:only-of-type {\n",
       "        vertical-align: middle;\n",
       "    }\n",
       "\n",
       "    .dataframe tbody tr th {\n",
       "        vertical-align: top;\n",
       "    }\n",
       "\n",
       "    .dataframe thead th {\n",
       "        text-align: right;\n",
       "    }\n",
       "</style>\n",
       "<table border=\"1\" class=\"dataframe\">\n",
       "  <thead>\n",
       "    <tr style=\"text-align: right;\">\n",
       "      <th></th>\n",
       "      <th>Total Discharges</th>\n",
       "    </tr>\n",
       "    <tr>\n",
       "      <th>DRG Definition</th>\n",
       "      <th></th>\n",
       "    </tr>\n",
       "  </thead>\n",
       "  <tbody>\n",
       "    <tr>\n",
       "      <th>470 - MAJOR JOINT REPLACEMENT OR REATTACHMENT OF LOWER EXTREMITY W/O MCC</th>\n",
       "      <td>430717</td>\n",
       "    </tr>\n",
       "    <tr>\n",
       "      <th>871 - SEPTICEMIA OR SEVERE SEPSIS W/O MV 96+ HOURS W MCC</th>\n",
       "      <td>345343</td>\n",
       "    </tr>\n",
       "    <tr>\n",
       "      <th>392 - ESOPHAGITIS, GASTROENT &amp; MISC DIGEST DISORDERS W/O MCC</th>\n",
       "      <td>215483</td>\n",
       "    </tr>\n",
       "    <tr>\n",
       "      <th>292 - HEART FAILURE &amp; SHOCK W CC</th>\n",
       "      <td>204069</td>\n",
       "    </tr>\n",
       "    <tr>\n",
       "      <th>690 - KIDNEY &amp; URINARY TRACT INFECTIONS W/O MCC</th>\n",
       "      <td>195346</td>\n",
       "    </tr>\n",
       "    <tr>\n",
       "      <th>291 - HEART FAILURE &amp; SHOCK W MCC</th>\n",
       "      <td>182445</td>\n",
       "    </tr>\n",
       "    <tr>\n",
       "      <th>194 - SIMPLE PNEUMONIA &amp; PLEURISY W CC</th>\n",
       "      <td>180262</td>\n",
       "    </tr>\n",
       "    <tr>\n",
       "      <th>683 - RENAL FAILURE W CC</th>\n",
       "      <td>153170</td>\n",
       "    </tr>\n",
       "  </tbody>\n",
       "</table>\n",
       "</div>"
      ],
      "text/plain": [
       "                                                    Total Discharges\n",
       "DRG Definition                                                      \n",
       "470 - MAJOR JOINT REPLACEMENT OR REATTACHMENT O...            430717\n",
       "871 - SEPTICEMIA OR SEVERE SEPSIS W/O MV 96+ HO...            345343\n",
       "392 - ESOPHAGITIS, GASTROENT & MISC DIGEST DISO...            215483\n",
       "292 - HEART FAILURE & SHOCK W CC                              204069\n",
       "690 - KIDNEY & URINARY TRACT INFECTIONS W/O MCC               195346\n",
       "291 - HEART FAILURE & SHOCK W MCC                             182445\n",
       "194 - SIMPLE PNEUMONIA & PLEURISY W CC                        180262\n",
       "683 - RENAL FAILURE W CC                                      153170"
      ]
     },
     "execution_count": 10,
     "metadata": {},
     "output_type": "execute_result"
    }
   ],
   "source": [
    "# 2012 top procedures performed\n",
    "grouped_2012_df=data_2012_df.groupby(['DRG Definition'])\n",
    "grouped_2012_counts_df=pd.DataFrame(grouped_2012_df[('Total Discharges')].sum())\n",
    "grouped_2012_counts_df.sort_values(\"Total Discharges\", ascending=False).head(8)"
   ]
  },
  {
   "cell_type": "code",
   "execution_count": 11,
   "metadata": {},
   "outputs": [
    {
     "data": {
      "text/html": [
       "<div>\n",
       "<style scoped>\n",
       "    .dataframe tbody tr th:only-of-type {\n",
       "        vertical-align: middle;\n",
       "    }\n",
       "\n",
       "    .dataframe tbody tr th {\n",
       "        vertical-align: top;\n",
       "    }\n",
       "\n",
       "    .dataframe thead th {\n",
       "        text-align: right;\n",
       "    }\n",
       "</style>\n",
       "<table border=\"1\" class=\"dataframe\">\n",
       "  <thead>\n",
       "    <tr style=\"text-align: right;\">\n",
       "      <th></th>\n",
       "      <th>Total Discharges</th>\n",
       "    </tr>\n",
       "    <tr>\n",
       "      <th>DRG Definition</th>\n",
       "      <th></th>\n",
       "    </tr>\n",
       "  </thead>\n",
       "  <tbody>\n",
       "    <tr>\n",
       "      <th>470 - MAJOR JOINT REPLACEMENT OR REATTACHMENT OF LOWER EXTREMITY W/O MCC</th>\n",
       "      <td>444816.0</td>\n",
       "    </tr>\n",
       "    <tr>\n",
       "      <th>871 - SEPTICEMIA OR SEVERE SEPSIS W/O MV 96+ HOURS W MCC</th>\n",
       "      <td>396451.0</td>\n",
       "    </tr>\n",
       "    <tr>\n",
       "      <th>392 - ESOPHAGITIS, GASTROENT &amp; MISC DIGEST DISORDERS W/O MCC</th>\n",
       "      <td>197086.0</td>\n",
       "    </tr>\n",
       "    <tr>\n",
       "      <th>292 - HEART FAILURE &amp; SHOCK W CC</th>\n",
       "      <td>196318.0</td>\n",
       "    </tr>\n",
       "    <tr>\n",
       "      <th>291 - HEART FAILURE &amp; SHOCK W MCC</th>\n",
       "      <td>192040.0</td>\n",
       "    </tr>\n",
       "    <tr>\n",
       "      <th>194 - SIMPLE PNEUMONIA &amp; PLEURISY W CC</th>\n",
       "      <td>181006.0</td>\n",
       "    </tr>\n",
       "    <tr>\n",
       "      <th>690 - KIDNEY &amp; URINARY TRACT INFECTIONS W/O MCC</th>\n",
       "      <td>173271.0</td>\n",
       "    </tr>\n",
       "    <tr>\n",
       "      <th>683 - RENAL FAILURE W CC</th>\n",
       "      <td>150966.0</td>\n",
       "    </tr>\n",
       "  </tbody>\n",
       "</table>\n",
       "</div>"
      ],
      "text/plain": [
       "                                                    Total Discharges\n",
       "DRG Definition                                                      \n",
       "470 - MAJOR JOINT REPLACEMENT OR REATTACHMENT O...          444816.0\n",
       "871 - SEPTICEMIA OR SEVERE SEPSIS W/O MV 96+ HO...          396451.0\n",
       "392 - ESOPHAGITIS, GASTROENT & MISC DIGEST DISO...          197086.0\n",
       "292 - HEART FAILURE & SHOCK W CC                            196318.0\n",
       "291 - HEART FAILURE & SHOCK W MCC                           192040.0\n",
       "194 - SIMPLE PNEUMONIA & PLEURISY W CC                      181006.0\n",
       "690 - KIDNEY & URINARY TRACT INFECTIONS W/O MCC             173271.0\n",
       "683 - RENAL FAILURE W CC                                    150966.0"
      ]
     },
     "execution_count": 11,
     "metadata": {},
     "output_type": "execute_result"
    }
   ],
   "source": [
    "# 2013 top procedures performed\n",
    "grouped_2013_df=data_2013_df.groupby(['DRG Definition'])\n",
    "grouped_2013_counts_df=pd.DataFrame(grouped_2013_df[('Total Discharges')].sum())\n",
    "grouped_2013_counts_df.sort_values(\"Total Discharges\", ascending=False).head(8)"
   ]
  },
  {
   "cell_type": "code",
   "execution_count": 12,
   "metadata": {},
   "outputs": [
    {
     "data": {
      "text/html": [
       "<div>\n",
       "<style scoped>\n",
       "    .dataframe tbody tr th:only-of-type {\n",
       "        vertical-align: middle;\n",
       "    }\n",
       "\n",
       "    .dataframe tbody tr th {\n",
       "        vertical-align: top;\n",
       "    }\n",
       "\n",
       "    .dataframe thead th {\n",
       "        text-align: right;\n",
       "    }\n",
       "</style>\n",
       "<table border=\"1\" class=\"dataframe\">\n",
       "  <thead>\n",
       "    <tr style=\"text-align: right;\">\n",
       "      <th></th>\n",
       "      <th>Total Discharges</th>\n",
       "    </tr>\n",
       "    <tr>\n",
       "      <th>DRG Definition</th>\n",
       "      <th></th>\n",
       "    </tr>\n",
       "  </thead>\n",
       "  <tbody>\n",
       "    <tr>\n",
       "      <th>470 - MAJOR JOINT REPLACEMENT OR REATTACHMENT OF LOWER EXTREMITY W/O MCC</th>\n",
       "      <td>458259</td>\n",
       "    </tr>\n",
       "    <tr>\n",
       "      <th>871 - SEPTICEMIA OR SEVERE SEPSIS W/O MV 96+ HOURS W MCC</th>\n",
       "      <td>438597</td>\n",
       "    </tr>\n",
       "    <tr>\n",
       "      <th>291 - HEART FAILURE &amp; SHOCK W MCC</th>\n",
       "      <td>198889</td>\n",
       "    </tr>\n",
       "    <tr>\n",
       "      <th>292 - HEART FAILURE &amp; SHOCK W CC</th>\n",
       "      <td>192918</td>\n",
       "    </tr>\n",
       "    <tr>\n",
       "      <th>392 - ESOPHAGITIS, GASTROENT &amp; MISC DIGEST DISORDERS W/O MCC</th>\n",
       "      <td>190375</td>\n",
       "    </tr>\n",
       "    <tr>\n",
       "      <th>690 - KIDNEY &amp; URINARY TRACT INFECTIONS W/O MCC</th>\n",
       "      <td>159823</td>\n",
       "    </tr>\n",
       "    <tr>\n",
       "      <th>194 - SIMPLE PNEUMONIA &amp; PLEURISY W CC</th>\n",
       "      <td>148808</td>\n",
       "    </tr>\n",
       "    <tr>\n",
       "      <th>683 - RENAL FAILURE W CC</th>\n",
       "      <td>144145</td>\n",
       "    </tr>\n",
       "  </tbody>\n",
       "</table>\n",
       "</div>"
      ],
      "text/plain": [
       "                                                    Total Discharges\n",
       "DRG Definition                                                      \n",
       "470 - MAJOR JOINT REPLACEMENT OR REATTACHMENT O...            458259\n",
       "871 - SEPTICEMIA OR SEVERE SEPSIS W/O MV 96+ HO...            438597\n",
       "291 - HEART FAILURE & SHOCK W MCC                             198889\n",
       "292 - HEART FAILURE & SHOCK W CC                              192918\n",
       "392 - ESOPHAGITIS, GASTROENT & MISC DIGEST DISO...            190375\n",
       "690 - KIDNEY & URINARY TRACT INFECTIONS W/O MCC               159823\n",
       "194 - SIMPLE PNEUMONIA & PLEURISY W CC                        148808\n",
       "683 - RENAL FAILURE W CC                                      144145"
      ]
     },
     "execution_count": 12,
     "metadata": {},
     "output_type": "execute_result"
    }
   ],
   "source": [
    "# 2014 top procedures performed\n",
    "grouped_2014_df=data_2014_df.groupby(['DRG Definition'])\n",
    "grouped_2014_counts_df=pd.DataFrame(grouped_2014_df[('Total Discharges')].sum())\n",
    "grouped_2014_counts_df.sort_values(\"Total Discharges\", ascending=False).head(8)"
   ]
  },
  {
   "cell_type": "code",
   "execution_count": 13,
   "metadata": {},
   "outputs": [
    {
     "data": {
      "text/html": [
       "<div>\n",
       "<style scoped>\n",
       "    .dataframe tbody tr th:only-of-type {\n",
       "        vertical-align: middle;\n",
       "    }\n",
       "\n",
       "    .dataframe tbody tr th {\n",
       "        vertical-align: top;\n",
       "    }\n",
       "\n",
       "    .dataframe thead th {\n",
       "        text-align: right;\n",
       "    }\n",
       "</style>\n",
       "<table border=\"1\" class=\"dataframe\">\n",
       "  <thead>\n",
       "    <tr style=\"text-align: right;\">\n",
       "      <th></th>\n",
       "      <th>Total Discharges</th>\n",
       "    </tr>\n",
       "    <tr>\n",
       "      <th>DRG Definition</th>\n",
       "      <th></th>\n",
       "    </tr>\n",
       "  </thead>\n",
       "  <tbody>\n",
       "    <tr>\n",
       "      <th>871 - SEPTICEMIA OR SEVERE SEPSIS W/O MV 96+ HOURS W MCC</th>\n",
       "      <td>521358</td>\n",
       "    </tr>\n",
       "    <tr>\n",
       "      <th>470 - MAJOR JOINT REPLACEMENT OR REATTACHMENT OF LOWER EXTREMITY W/O MCC</th>\n",
       "      <td>463930</td>\n",
       "    </tr>\n",
       "    <tr>\n",
       "      <th>291 - HEART FAILURE &amp; SHOCK W MCC</th>\n",
       "      <td>221654</td>\n",
       "    </tr>\n",
       "    <tr>\n",
       "      <th>292 - HEART FAILURE &amp; SHOCK W CC</th>\n",
       "      <td>192975</td>\n",
       "    </tr>\n",
       "    <tr>\n",
       "      <th>392 - ESOPHAGITIS, GASTROENT &amp; MISC DIGEST DISORDERS W/O MCC</th>\n",
       "      <td>182443</td>\n",
       "    </tr>\n",
       "    <tr>\n",
       "      <th>690 - KIDNEY &amp; URINARY TRACT INFECTIONS W/O MCC</th>\n",
       "      <td>150680</td>\n",
       "    </tr>\n",
       "    <tr>\n",
       "      <th>872 - SEPTICEMIA OR SEVERE SEPSIS W/O MV &gt;96 HOURS W/O MCC</th>\n",
       "      <td>150151</td>\n",
       "    </tr>\n",
       "    <tr>\n",
       "      <th>194 - SIMPLE PNEUMONIA &amp; PLEURISY W CC</th>\n",
       "      <td>148886</td>\n",
       "    </tr>\n",
       "  </tbody>\n",
       "</table>\n",
       "</div>"
      ],
      "text/plain": [
       "                                                    Total Discharges\n",
       "DRG Definition                                                      \n",
       "871 - SEPTICEMIA OR SEVERE SEPSIS W/O MV 96+ HO...            521358\n",
       "470 - MAJOR JOINT REPLACEMENT OR REATTACHMENT O...            463930\n",
       "291 - HEART FAILURE & SHOCK W MCC                             221654\n",
       "292 - HEART FAILURE & SHOCK W CC                              192975\n",
       "392 - ESOPHAGITIS, GASTROENT & MISC DIGEST DISO...            182443\n",
       "690 - KIDNEY & URINARY TRACT INFECTIONS W/O MCC               150680\n",
       "872 - SEPTICEMIA OR SEVERE SEPSIS W/O MV >96 HO...            150151\n",
       "194 - SIMPLE PNEUMONIA & PLEURISY W CC                        148886"
      ]
     },
     "execution_count": 13,
     "metadata": {},
     "output_type": "execute_result"
    }
   ],
   "source": [
    "# 2015 top procedures performed\n",
    "grouped_2015_df=data_2015_df.groupby(['DRG Definition'])\n",
    "grouped_2015_counts_df=pd.DataFrame(grouped_2015_df[('Total Discharges')].sum())\n",
    "grouped_2015_counts_df.sort_values(\"Total Discharges\", ascending=False).head(8)"
   ]
  },
  {
   "cell_type": "code",
   "execution_count": 14,
   "metadata": {},
   "outputs": [
    {
     "data": {
      "text/html": [
       "<div>\n",
       "<style scoped>\n",
       "    .dataframe tbody tr th:only-of-type {\n",
       "        vertical-align: middle;\n",
       "    }\n",
       "\n",
       "    .dataframe tbody tr th {\n",
       "        vertical-align: top;\n",
       "    }\n",
       "\n",
       "    .dataframe thead th {\n",
       "        text-align: right;\n",
       "    }\n",
       "</style>\n",
       "<table border=\"1\" class=\"dataframe\">\n",
       "  <thead>\n",
       "    <tr style=\"text-align: right;\">\n",
       "      <th></th>\n",
       "      <th>Total Discharges</th>\n",
       "    </tr>\n",
       "    <tr>\n",
       "      <th>DRG Definition</th>\n",
       "      <th></th>\n",
       "    </tr>\n",
       "  </thead>\n",
       "  <tbody>\n",
       "    <tr>\n",
       "      <th>871 - SEPTICEMIA OR SEVERE SEPSIS W/O MV 96+ HOURS W MCC</th>\n",
       "      <td>530042.0</td>\n",
       "    </tr>\n",
       "    <tr>\n",
       "      <th>470 - MAJOR JOINT REPLACEMENT OR REATTACHMENT OF LOWER EXTREMITY W/O MCC</th>\n",
       "      <td>462826.0</td>\n",
       "    </tr>\n",
       "    <tr>\n",
       "      <th>291 - HEART FAILURE &amp; SHOCK W MCC</th>\n",
       "      <td>233015.0</td>\n",
       "    </tr>\n",
       "    <tr>\n",
       "      <th>292 - HEART FAILURE &amp; SHOCK W CC</th>\n",
       "      <td>181587.0</td>\n",
       "    </tr>\n",
       "    <tr>\n",
       "      <th>392 - ESOPHAGITIS, GASTROENT &amp; MISC DIGEST DISORDERS W/O MCC</th>\n",
       "      <td>165908.0</td>\n",
       "    </tr>\n",
       "    <tr>\n",
       "      <th>872 - SEPTICEMIA OR SEVERE SEPSIS W/O MV &gt;96 HOURS W/O MCC</th>\n",
       "      <td>151092.0</td>\n",
       "    </tr>\n",
       "    <tr>\n",
       "      <th>690 - KIDNEY &amp; URINARY TRACT INFECTIONS W/O MCC</th>\n",
       "      <td>144212.0</td>\n",
       "    </tr>\n",
       "    <tr>\n",
       "      <th>189 - PULMONARY EDEMA &amp; RESPIRATORY FAILURE</th>\n",
       "      <td>142982.0</td>\n",
       "    </tr>\n",
       "  </tbody>\n",
       "</table>\n",
       "</div>"
      ],
      "text/plain": [
       "                                                    Total Discharges\n",
       "DRG Definition                                                      \n",
       "871 - SEPTICEMIA OR SEVERE SEPSIS W/O MV 96+ HO...          530042.0\n",
       "470 - MAJOR JOINT REPLACEMENT OR REATTACHMENT O...          462826.0\n",
       "291 - HEART FAILURE & SHOCK W MCC                           233015.0\n",
       "292 - HEART FAILURE & SHOCK W CC                            181587.0\n",
       "392 - ESOPHAGITIS, GASTROENT & MISC DIGEST DISO...          165908.0\n",
       "872 - SEPTICEMIA OR SEVERE SEPSIS W/O MV >96 HO...          151092.0\n",
       "690 - KIDNEY & URINARY TRACT INFECTIONS W/O MCC             144212.0\n",
       "189 - PULMONARY EDEMA & RESPIRATORY FAILURE                 142982.0"
      ]
     },
     "execution_count": 14,
     "metadata": {},
     "output_type": "execute_result"
    }
   ],
   "source": [
    "# 2016 top procedures performed\n",
    "grouped_2016_df=data_2016_df.groupby(['DRG Definition'])\n",
    "grouped_2016_counts_df=pd.DataFrame(grouped_2016_df[('Total Discharges')].sum())\n",
    "grouped_2016_counts_df.sort_values(\"Total Discharges\", ascending=False).head(8)"
   ]
  },
  {
   "cell_type": "code",
   "execution_count": 15,
   "metadata": {},
   "outputs": [
    {
     "data": {
      "text/html": [
       "<div>\n",
       "<style scoped>\n",
       "    .dataframe tbody tr th:only-of-type {\n",
       "        vertical-align: middle;\n",
       "    }\n",
       "\n",
       "    .dataframe tbody tr th {\n",
       "        vertical-align: top;\n",
       "    }\n",
       "\n",
       "    .dataframe thead th {\n",
       "        text-align: right;\n",
       "    }\n",
       "</style>\n",
       "<table border=\"1\" class=\"dataframe\">\n",
       "  <thead>\n",
       "    <tr style=\"text-align: right;\">\n",
       "      <th></th>\n",
       "      <th>Total Discharges</th>\n",
       "    </tr>\n",
       "    <tr>\n",
       "      <th>DRG Definition</th>\n",
       "      <th></th>\n",
       "    </tr>\n",
       "  </thead>\n",
       "  <tbody>\n",
       "    <tr>\n",
       "      <th>871 - SEPTICEMIA OR SEVERE SEPSIS W/O MV 96+ HOURS W MCC</th>\n",
       "      <td>597736</td>\n",
       "    </tr>\n",
       "    <tr>\n",
       "      <th>470 - MAJOR JOINT REPLACEMENT OR REATTACHMENT OF LOWER EXTREMITY W/O MCC</th>\n",
       "      <td>510632</td>\n",
       "    </tr>\n",
       "    <tr>\n",
       "      <th>291 - HEART FAILURE &amp; SHOCK W MCC</th>\n",
       "      <td>359442</td>\n",
       "    </tr>\n",
       "    <tr>\n",
       "      <th>190 - CHRONIC OBSTRUCTIVE PULMONARY DISEASE W MCC</th>\n",
       "      <td>215525</td>\n",
       "    </tr>\n",
       "    <tr>\n",
       "      <th>189 - PULMONARY EDEMA &amp; RESPIRATORY FAILURE</th>\n",
       "      <td>165613</td>\n",
       "    </tr>\n",
       "    <tr>\n",
       "      <th>872 - SEPTICEMIA OR SEVERE SEPSIS W/O MV &gt;96 HOURS W/O MCC</th>\n",
       "      <td>157851</td>\n",
       "    </tr>\n",
       "    <tr>\n",
       "      <th>392 - ESOPHAGITIS, GASTROENT &amp; MISC DIGEST DISORDERS W/O MCC</th>\n",
       "      <td>155843</td>\n",
       "    </tr>\n",
       "    <tr>\n",
       "      <th>690 - KIDNEY &amp; URINARY TRACT INFECTIONS W/O MCC</th>\n",
       "      <td>138497</td>\n",
       "    </tr>\n",
       "    <tr>\n",
       "      <th>683 - RENAL FAILURE W CC</th>\n",
       "      <td>134011</td>\n",
       "    </tr>\n",
       "    <tr>\n",
       "      <th>378 - G.I. HEMORRHAGE W CC</th>\n",
       "      <td>131163</td>\n",
       "    </tr>\n",
       "    <tr>\n",
       "      <th>682 - RENAL FAILURE W MCC</th>\n",
       "      <td>109187</td>\n",
       "    </tr>\n",
       "    <tr>\n",
       "      <th>065 - INTRACRANIAL HEMORRHAGE OR CEREBRAL INFARCTION W CC OR TPA IN 24 HRS</th>\n",
       "      <td>108453</td>\n",
       "    </tr>\n",
       "    <tr>\n",
       "      <th>603 - CELLULITIS W/O MCC</th>\n",
       "      <td>106510</td>\n",
       "    </tr>\n",
       "    <tr>\n",
       "      <th>292 - HEART FAILURE &amp; SHOCK W CC</th>\n",
       "      <td>105424</td>\n",
       "    </tr>\n",
       "    <tr>\n",
       "      <th>193 - SIMPLE PNEUMONIA &amp; PLEURISY W MCC</th>\n",
       "      <td>104672</td>\n",
       "    </tr>\n",
       "  </tbody>\n",
       "</table>\n",
       "</div>"
      ],
      "text/plain": [
       "                                                    Total Discharges\n",
       "DRG Definition                                                      \n",
       "871 - SEPTICEMIA OR SEVERE SEPSIS W/O MV 96+ HO...            597736\n",
       "470 - MAJOR JOINT REPLACEMENT OR REATTACHMENT O...            510632\n",
       "291 - HEART FAILURE & SHOCK W MCC                             359442\n",
       "190 - CHRONIC OBSTRUCTIVE PULMONARY DISEASE W MCC             215525\n",
       "189 - PULMONARY EDEMA & RESPIRATORY FAILURE                   165613\n",
       "872 - SEPTICEMIA OR SEVERE SEPSIS W/O MV >96 HO...            157851\n",
       "392 - ESOPHAGITIS, GASTROENT & MISC DIGEST DISO...            155843\n",
       "690 - KIDNEY & URINARY TRACT INFECTIONS W/O MCC               138497\n",
       "683 - RENAL FAILURE W CC                                      134011\n",
       "378 - G.I. HEMORRHAGE W CC                                    131163\n",
       "682 - RENAL FAILURE W MCC                                     109187\n",
       "065 - INTRACRANIAL HEMORRHAGE OR CEREBRAL INFAR...            108453\n",
       "603 - CELLULITIS W/O MCC                                      106510\n",
       "292 - HEART FAILURE & SHOCK W CC                              105424\n",
       "193 - SIMPLE PNEUMONIA & PLEURISY W MCC                       104672"
      ]
     },
     "execution_count": 15,
     "metadata": {},
     "output_type": "execute_result"
    }
   ],
   "source": [
    "# 2017 top procedures performed\n",
    "grouped_2017_df=data_2017_df.groupby(['DRG Definition'])\n",
    "grouped_2017_counts_df=pd.DataFrame(grouped_2017_df[('Total Discharges')].sum())\n",
    "grouped_2017_counts_df.sort_values(\"Total Discharges\", ascending=False).head(15)"
   ]
  },
  {
   "cell_type": "markdown",
   "metadata": {},
   "source": [
    "Determining number of procedures by price point within categories"
   ]
  },
  {
   "cell_type": "code",
   "execution_count": 16,
   "metadata": {},
   "outputs": [
    {
     "data": {
      "text/plain": [
       "223373.0667"
      ]
     },
     "execution_count": 16,
     "metadata": {},
     "output_type": "execute_result"
    }
   ],
   "source": [
    "# determining bins for 2011 DRG470 histogram\n",
    "data_2011_only_DRG470_df = data_2011_df.loc[data_2011_df['DRG Definition'] ==\\\n",
    "                                         \"470 - MAJOR JOINT REPLACEMENT OR REATTACHMENT OF LOWER EXTREMITY W/O MCC\",:]\n",
    "data_2011_only_DRG470_df[\"Average Covered Charges\"].max()"
   ]
  },
  {
   "cell_type": "code",
   "execution_count": 17,
   "metadata": {},
   "outputs": [
    {
     "data": {
      "text/plain": [
       "Text(0.5, 0, 'Cost of Procedure')"
      ]
     },
     "execution_count": 17,
     "metadata": {},
     "output_type": "execute_result"
    },
    {
     "data": {
      "image/png": "[encoded data removed]",
      "text/plain": [
       "<Figure size 1440x504 with 1 Axes>"
      ]
     },
     "metadata": {
      "needs_background": "light"
     },
     "output_type": "display_data"
    }
   ],
   "source": [
    "# binning 2011 DRG470 \n",
    "bins_2011_DRG470 = [0,24999,49999,74999,99999,124999, 149999, 174999,199999,224999,]\n",
    "DRG470_2011_group_labels = [\"0 to 25k\",\"25k to 50k\",\"50k to 75k\",\"75k to 100k\",\"100k to 125k\",\\\n",
    "                            \"125 to 150k\",\"150k to 175k\",\"175k to 200k\",\"200k to $225K\"]\n",
    "data_2011_only_DRG470_df[\"DRG 470 Cost Group\"]=pd.cut(data_2011_only_DRG470_df[\"Average Covered Charges\"]\\\n",
    "                                              ,bins_2011_DRG470,labels=DRG470_2011_group_labels)\n",
    "data_2011_only_DRG470_cost_group=data_2011_only_DRG470_df.groupby(\"DRG 470 Cost Group\")\n",
    "\n",
    "cost_breakdown_DRG470_2011 = data_2011_only_DRG470_cost_group['DRG Definition'].count()\n",
    "cost_breakdown_DRG470_2011.plot(kind=\"bar\",figsize=(20,7))\n",
    "plt.title(\"Number of Major Joint Replacement or Reattachment of Lower Extremity Cases by Cost\")\n",
    "plt.ylabel(\"Number of Procedures\")\n",
    "plt.xlabel(\"Cost of Procedure\")"
   ]
  },
  {
   "cell_type": "code",
   "execution_count": 18,
   "metadata": {},
   "outputs": [
    {
     "data": {
      "text/plain": [
       "216438.2857"
      ]
     },
     "execution_count": 18,
     "metadata": {},
     "output_type": "execute_result"
    }
   ],
   "source": [
    "# determining bins for 2011 DRG871 histogram\n",
    "data_2011_only_DRG871_df = data_2011_df.loc[data_2011_df['DRG Definition'] ==\\\n",
    "                                         \"871 - SEPTICEMIA OR SEVERE SEPSIS W/O MV 96+ HOURS W MCC\",:]\n",
    "data_2011_only_DRG871_df[\"Average Covered Charges\"].max()"
   ]
  },
  {
   "cell_type": "code",
   "execution_count": 19,
   "metadata": {},
   "outputs": [
    {
     "data": {
      "text/plain": [
       "Text(0.5, 0, 'Cost of Procedure')"
      ]
     },
     "execution_count": 19,
     "metadata": {},
     "output_type": "execute_result"
    },
    {
     "data": {
      "image/png": "[encoded data removed]",
      "text/plain": [
       "<Figure size 1440x504 with 1 Axes>"
      ]
     },
     "metadata": {
      "needs_background": "light"
     },
     "output_type": "display_data"
    }
   ],
   "source": [
    "# binning 2011 DRG871\n",
    "bins_2011_DRG871 = [0,24999,49999,74999,99999,124999, 149999, 174999,199999,224999]\n",
    "DRG871_2011_group_labels = [\"0 to 25k\",\"25k to 50k\",\"50k to 75k\",\"75k to 100k\",\"100k to 125k\",\\\n",
    "                            \"125 to 150k\",\"150k to 175k\",\"175k to 200k\",\"200k to $225K\"]\n",
    "data_2011_only_DRG871_df[\"DRG 871 Cost Group\"]=pd.cut(data_2011_only_DRG871_df[\"Average Covered Charges\"]\\\n",
    "                                              ,bins_2011_DRG871,labels=DRG871_2011_group_labels)\n",
    "data_2011_only_DRG871_cost_group=data_2011_only_DRG871_df.groupby(\"DRG 871 Cost Group\")\n",
    "cost_breakdown_DRG871_2011 = data_2011_only_DRG871_cost_group['DRG Definition'].count()\n",
    "\n",
    "cost_breakdown_DRG871_2011.plot(kind=\"bar\",figsize=(20,7))\n",
    "plt.title(\"Number of Septicemia or Severe Sepsis by Cost\")\n",
    "plt.ylabel(\"Number of Procedures\")\n",
    "plt.xlabel(\"Cost of Procedure\")"
   ]
  },
  {
   "cell_type": "code",
   "execution_count": 20,
   "metadata": {},
   "outputs": [
    {
     "data": {
      "text/plain": [
       "96216.73077000001"
      ]
     },
     "execution_count": 20,
     "metadata": {},
     "output_type": "execute_result"
    }
   ],
   "source": [
    "# determining bins for 2011 DRG392 histogram\n",
    "data_2011_only_DRG392_df = data_2011_df.loc[data_2011_df['DRG Definition'] ==\\\n",
    "                                         \"392 - ESOPHAGITIS, GASTROENT & MISC DIGEST DISORDERS W/O MCC\",:]\n",
    "data_2011_only_DRG392_df[\"Average Covered Charges\"].max()"
   ]
  },
  {
   "cell_type": "code",
   "execution_count": 21,
   "metadata": {},
   "outputs": [
    {
     "data": {
      "text/plain": [
       "Text(0.5, 0, 'Cost of Procedure')"
      ]
     },
     "execution_count": 21,
     "metadata": {},
     "output_type": "execute_result"
    },
    {
     "data": {
      "image/png": "[encoded data removed]",
      "text/plain": [
       "<Figure size 1440x504 with 1 Axes>"
      ]
     },
     "metadata": {
      "needs_background": "light"
     },
     "output_type": "display_data"
    }
   ],
   "source": [
    "# binning 2011 DRG392\n",
    "bins_2011_DRG392 = [0,9999,19999,29999,39999,49999, 59999, 69999,79999,89999,99999]\n",
    "DRG392_2011_group_labels = [\"0 to 10k\",\"10k to 20k\",\"20k to 30k\",\"30k to 40k\",\"40k to 50k\",\\\n",
    "                            \"50 to 60k\",\"60k to 70k\",\"70k to 80k\",\"80k to $90K\",\"90k to 100k\"]\n",
    "data_2011_only_DRG392_df[\"DRG 392 Cost Group\"]=pd.cut(data_2011_only_DRG392_df[\"Average Covered Charges\"]\\\n",
    "                                              ,bins_2011_DRG392,labels=DRG392_2011_group_labels)\n",
    "data_2011_only_DRG392_cost_group=data_2011_only_DRG392_df.groupby(\"DRG 392 Cost Group\")\n",
    "\n",
    "cost_breakdown_DRG392_2011 = data_2011_only_DRG392_cost_group['DRG Definition'].count()\n",
    "\n",
    "cost_breakdown_DRG392_2011.plot(kind=\"bar\",figsize=(20,7))\n",
    "plt.title(\"Number of Esophagitis, Gastroent & Misc Digest Disorders by Cost\")\n",
    "plt.ylabel(\"Number of Procedures\")\n",
    "plt.xlabel(\"Cost of Procedure\")"
   ]
  },
  {
   "cell_type": "code",
   "execution_count": 22,
   "metadata": {},
   "outputs": [
    {
     "data": {
      "text/plain": [
       "91695.0"
      ]
     },
     "execution_count": 22,
     "metadata": {},
     "output_type": "execute_result"
    }
   ],
   "source": [
    "# determining bins for 2011 DRG690 histogram\n",
    "data_2011_only_DRG690_df = data_2011_df.loc[data_2011_df['DRG Definition'] ==\\\n",
    "                                         \"690 - KIDNEY & URINARY TRACT INFECTIONS W/O MCC\",:]\n",
    "data_2011_only_DRG690_df[\"Average Covered Charges\"].max()"
   ]
  },
  {
   "cell_type": "code",
   "execution_count": 23,
   "metadata": {},
   "outputs": [
    {
     "data": {
      "text/plain": [
       "Text(0.5, 0, 'Cost of Procedure')"
      ]
     },
     "execution_count": 23,
     "metadata": {},
     "output_type": "execute_result"
    },
    {
     "data": {
      "image/png": "[encoded data removed]",
      "text/plain": [
       "<Figure size 1440x504 with 1 Axes>"
      ]
     },
     "metadata": {
      "needs_background": "light"
     },
     "output_type": "display_data"
    }
   ],
   "source": [
    "# binning 2011 DRG690\n",
    "bins_2011_DRG690 = [0,9999,19999,29999,39999,49999, 59999, 69999,79999,89999,99999]\n",
    "DRG690_2011_group_labels = [\"0 to 10k\",\"10k to 20k\",\"20k to 30k\",\"30k to 40k\",\"40k to 50k\",\\\n",
    "                            \"50 to 60k\",\"60k to 70k\",\"70k to 80k\",\"80k to $90K\",\"90k to 100k\"]\n",
    "data_2011_only_DRG690_df[\"DRG 690 Cost Group\"]=pd.cut(data_2011_only_DRG690_df[\"Average Covered Charges\"]\\\n",
    "                                              ,bins_2011_DRG690,labels=DRG690_2011_group_labels)\n",
    "data_2011_only_DRG690_cost_group=data_2011_only_DRG690_df.groupby(\"DRG 690 Cost Group\")\n",
    "\n",
    "cost_breakdown_DRG690_2011 = data_2011_only_DRG690_cost_group['DRG Definition'].count()\n",
    "\n",
    "cost_breakdown_DRG690_2011.plot(kind=\"bar\",figsize=(20,7))\n",
    "plt.title(\"Number of Kidney & Urinary Tract Infections Cost\")\n",
    "plt.ylabel(\"Number of Procedures\")\n",
    "plt.xlabel(\"Cost of Procedure\")"
   ]
  },
  {
   "cell_type": "code",
   "execution_count": 24,
   "metadata": {},
   "outputs": [
    {
     "data": {
      "text/plain": [
       "124050.6835"
      ]
     },
     "execution_count": 24,
     "metadata": {},
     "output_type": "execute_result"
    }
   ],
   "source": [
    "# determining bins for 2011 DRG194 histogram\n",
    "data_2011_only_DRG194_df = data_2011_df.loc[data_2011_df['DRG Definition'] ==\\\n",
    "                                         \"194 - SIMPLE PNEUMONIA & PLEURISY W CC\",:]\n",
    "data_2011_only_DRG194_df[\"Average Covered Charges\"].max()"
   ]
  },
  {
   "cell_type": "code",
   "execution_count": 25,
   "metadata": {},
   "outputs": [
    {
     "data": {
      "text/plain": [
       "Text(0.5, 0, 'Cost of Procedure')"
      ]
     },
     "execution_count": 25,
     "metadata": {},
     "output_type": "execute_result"
    },
    {
     "data": {
      "image/png": "[encoded data removed]",
      "text/plain": [
       "<Figure size 1440x504 with 1 Axes>"
      ]
     },
     "metadata": {
      "needs_background": "light"
     },
     "output_type": "display_data"
    }
   ],
   "source": [
    "# binning 2011 DRG194\n",
    "bins_2011_DRG194 = [0,9999,19999,29999,39999,49999, 59999, 69999,79999,89999,99999,109999,119999]\n",
    "DRG194_2011_group_labels = [\"0 to 10k\",\"10k to 20k\",\"20k to 30k\",\"30k to 40k\",\"40k to 50k\",\\\n",
    "                            \"50 to 60k\",\"60k to 70k\",\"70k to 80k\",\"80k to $90K\",\"90k to 100k\",\"100k to 110k\",\"110k to 120k\"]\n",
    "data_2011_only_DRG194_df[\"DRG 194 Cost Group\"]=pd.cut(data_2011_only_DRG194_df[\"Average Covered Charges\"]\\\n",
    "                                              ,bins_2011_DRG194,labels=DRG194_2011_group_labels)\n",
    "data_2011_only_DRG194_cost_group=data_2011_only_DRG194_df.groupby(\"DRG 194 Cost Group\")\n",
    "\n",
    "cost_breakdown_DRG194_2011 = data_2011_only_DRG194_cost_group['DRG Definition'].count()\n",
    "\n",
    "cost_breakdown_DRG194_2011.plot(kind=\"bar\",figsize=(20,7))\n",
    "plt.title(\"Number of Simple Pneumonia and Pleurisy Cases by Cost\")\n",
    "plt.ylabel(\"Number of Procedures\")\n",
    "plt.xlabel(\"Cost of Procedure\")"
   ]
  },
  {
   "cell_type": "code",
   "execution_count": 26,
   "metadata": {},
   "outputs": [],
   "source": [
    "# # determining bins for 2011 DRG641 histogram\n",
    "# data_2011_only_DRG641_df = data_2011_df.loc[data_2011_df['DRG Definition'] ==\\\n",
    "#                                          \"641 - MISC DISORDERS OF NUTRITION,METABOLISM,FLUIDS/ELECTROLYTES W/O MCC\",:]\n",
    "# data_2011_only_DRG641_df[\"Average Covered Charges\"].max()"
   ]
  },
  {
   "cell_type": "code",
   "execution_count": null,
   "metadata": {},
   "outputs": [],
   "source": [
    "# # binning 2011 DRG641\n",
    "# bins_2011_DRG641 = [0,9999,19999,29999,39999,49999, 59999, 69999,79999,89999,99999]\n",
    "# DRG641_2011_group_labels = [\"0 to 10k\",\"10k to 20k\",\"20k to 30k\",\"30k to 40k\",\"40k to 50k\",\\\n",
    "#                             \"50 to 60k\",\"60k to 70k\",\"70k to 80k\",\"80k to $90K\",\"90k to 100k\"]\n",
    "# data_2011_only_DRG641_df[\"DRG 641 Cost Group\"]=pd.cut(data_2011_only_DRG641_df[\"Average Covered Charges\"]\\\n",
    "#                                               ,bins_2011_DRG641,labels=DRG641_2011_group_labels)\n",
    "# data_2011_only_DRG641_cost_group=data_2011_only_DRG641_df.groupby(\"DRG 641 Cost Group\")\n",
    "\n",
    "# cost_breakdown_DRG641_2011 = data_2011_only_DRG641_cost_group['DRG Definition'].count()\n",
    "\n",
    "# cost_breakdown_DRG641_2011.plot(kind=\"bar\",figsize=(20,7))\n",
    "# plt.title(\"Number of Cases by Cost\")\n",
    "# plt.ylabel(\"Number of Procedures\")\n",
    "# plt.xlabel(\"Cost of Procedure\")"
   ]
  },
  {
   "cell_type": "code",
   "execution_count": null,
   "metadata": {},
   "outputs": [],
   "source": [
    "\n"
   ]
  },
  {
   "cell_type": "code",
   "execution_count": null,
   "metadata": {},
   "outputs": [],
   "source": []
  }
 ],
 "metadata": {
  "anaconda-cloud": {},
  "kernel_info": {
   "name": "python3"
  },
  "kernelspec": {
   "display_name": "Python 3",
   "language": "python",
   "name": "python3"
  },
  "language_info": {
   "codemirror_mode": {
    "name": "ipython",
    "version": 3
   },
   "file_extension": ".py",
   "mimetype": "text/x-python",
   "name": "python",
   "nbconvert_exporter": "python",
   "pygments_lexer": "ipython3",
   "version": "3.6.10"
  },
  "latex_envs": {
   "LaTeX_envs_menu_present": true,
   "autoclose": false,
   "autocomplete": true,
   "bibliofile": "biblio.bib",
   "cite_by": "apalike",
   "current_citInitial": 1,
   "eqLabelWithNumbers": true,
   "eqNumInitial": 1,
   "hotkeys": {
    "equation": "Ctrl-E",
    "itemize": "Ctrl-I"
   },
   "labels_anchors": false,
   "latex_user_defs": false,
   "report_style_numbering": false,
   "user_envs_cfg": false
  },
  "nteract": {
   "version": "0.8.4"
  }
 },
 "nbformat": 4,
 "nbformat_minor": 4
}
