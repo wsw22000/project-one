{
 "cells": [
  {
   "cell_type": "markdown",
   "metadata": {},
   "source": [
    "# Median Income Data Cleaner\n",
    "##### This is the notebook used to create data frames with median income of every zip code for years 2011-17\n",
    "##### Raw data imported from data source imported and cleaned\n",
    "\n",
    "Data Source: \n",
    "US Census Bureau [http://data.census.gov],\n",
    "\"MEDIAN INCOME IN THE PAST 12 MONTHS\"\n",
    "Survey/Program: American Community Survey\n",
    "TableID: S1903\n",
    "Product:\n",
    "2011: ACS 1-Year Estimates Subject Tables\n",
    "2012: ACS 1-Year Estimates Subject Tables\n",
    "2013: ACS 1-Year Estimates Subject Tables\n",
    "2014: ACS 1-Year Estimates Subject Tables\n",
    "2015: ACS 1-Year Estimates Subject Tables\n",
    "2016: ACS 1-Year Estimates Subject Tables\n",
    "2017: ACS 1-Year Estimates Subject Tables"
   ]
  },
  {
   "cell_type": "code",
   "execution_count": 3,
   "metadata": {},
   "outputs": [],
   "source": [
    "#import dependencies\n",
    "import pandas as pd\n"
   ]
  },
  {
   "cell_type": "code",
   "execution_count": 4,
   "metadata": {},
   "outputs": [],
   "source": [
    "# Set paths to Income data .csv's\n",
    "income_2011= \"../data_median_income/income2011.csv\"\n",
    "income_2012= \"../data_median_income/income2012.csv\"\n",
    "income_2013= \"../data_median_income/income2013.csv\"\n",
    "income_2014= \"../data_median_income/income2014.csv\"\n",
    "income_2015= \"../data_median_income/income2015.csv\"\n",
    "income_2016= \"../data_median_income/income2016.csv\"\n",
    "income_2017= \"../data_median_income/income2017.csv\"\n"
   ]
  },
  {
   "cell_type": "code",
   "execution_count": 6,
   "metadata": {},
   "outputs": [],
   "source": [
    "# Read Income Data File and store into DataFrames\n",
    "\n",
    "income_2011_df = pd.read_csv(income_2011, delimiter=',')\n",
    "income_2012_df = pd.read_csv(income_2012, delimiter=',')\n",
    "income_2013_df = pd.read_csv(income_2013, delimiter=',')\n",
    "income_2014_df = pd.read_csv(income_2014, delimiter=',')\n",
    "income_2015_df = pd.read_csv(income_2015, delimiter=',')\n",
    "income_2016_df = pd.read_csv(income_2016, delimiter=',')\n",
    "income_2017_df = pd.read_csv(income_2017, delimiter=',')"
   ]
  },
  {
   "cell_type": "code",
   "execution_count": 7,
   "metadata": {},
   "outputs": [],
   "source": [
    "#Sort DataFrames by Zip Code (lowest to highest)\n",
    "\n",
    "income_2011_df.sort_values(by='id', ascending = True).reset_index(inplace=True, drop=True)\n",
    "income_2012_df.sort_values(by='id', ascending = True).reset_index(inplace=True, drop=True)\n",
    "income_2013_df.sort_values(by='id', ascending = True).reset_index(inplace=True, drop=True)\n",
    "income_2014_df.sort_values(by='id', ascending = True).reset_index(inplace=True, drop=True)\n",
    "income_2015_df.sort_values(by='id', ascending = True).reset_index(inplace=True, drop=True)\n",
    "income_2016_df.sort_values(by='id', ascending = True).reset_index(inplace=True, drop=True)\n",
    "income_2017_df.sort_values(by='id', ascending = True).reset_index(inplace=True, drop=True)\n"
   ]
  },
  {
   "cell_type": "code",
   "execution_count": 8,
   "metadata": {},
   "outputs": [],
   "source": [
    "#Create new dataFrame with just ID, Geographic Area Name, and Median Income columns\n",
    "\n",
    "cleaned_2011 = income_2011_df[['Geographic Area Name','Median income (dollars)!!Estimate!!Households']]\n",
    "cleaned_2012 = income_2012_df[['Geographic Area Name','Median income (dollars)!!Estimate!!Households']]\n",
    "cleaned_2013 = income_2013_df[['Geographic Area Name','Median income (dollars)!!Estimate!!Households']]\n",
    "cleaned_2014 = income_2014_df[['Geographic Area Name','Median income (dollars)!!Estimate!!Households']]\n",
    "cleaned_2015 = income_2015_df[['Geographic Area Name','Median income (dollars)!!Estimate!!Households']]\n",
    "cleaned_2016 = income_2016_df[['Geographic Area Name','Median income (dollars)!!Estimate!!Households']]\n",
    "cleaned_2017 = income_2017_df[['Geographic Area Name','Estimate!!Median income (dollars)!!HOUSEHOLD INCOME BY RACE AND HISPANIC OR LATINO ORIGIN OF HOUSEHOLDER!!Households']]\n",
    "\n",
    "#Rename Median Income Column\n",
    "\n",
    "cleaned_2011 = cleaned_2011.rename(columns = {\"Geographic Area Name\":\"Zip Code\", \"Median income (dollars)!!Estimate!!Households\":\"Median Income\"})\n",
    "cleaned_2012 = cleaned_2012.rename(columns = {\"Geographic Area Name\":\"Zip Code\",\"Median income (dollars)!!Estimate!!Households\":\"Median Income\"})\n",
    "cleaned_2013 = cleaned_2013.rename(columns = {\"Geographic Area Name\":\"Zip Code\",\"Median income (dollars)!!Estimate!!Households\":\"Median Income\"})\n",
    "cleaned_2014 = cleaned_2014.rename(columns = {\"Geographic Area Name\":\"Zip Code\",\"Median income (dollars)!!Estimate!!Households\":\"Median Income\"})\n",
    "cleaned_2015 = cleaned_2015.rename(columns = {\"Geographic Area Name\":\"Zip Code\",\"Median income (dollars)!!Estimate!!Households\":\"Median Income\"})\n",
    "cleaned_2016 = cleaned_2016.rename(columns = {\"Geographic Area Name\":\"Zip Code\",\"Median income (dollars)!!Estimate!!Households\":\"Median Income\"})\n",
    "cleaned_2017 = cleaned_2017.rename(columns = {\"Geographic Area Name\":\"Zip Code\",\"Estimate!!Median income (dollars)!!HOUSEHOLD INCOME BY RACE AND HISPANIC OR LATINO ORIGIN OF HOUSEHOLDER!!Households\":\"Median Income\"})\n"
   ]
  },
  {
   "cell_type": "code",
   "execution_count": 9,
   "metadata": {},
   "outputs": [],
   "source": [
    "#convert 'Median Income' data column to floats, dropping NAs\n",
    "\n",
    "cleaned_2011['Median Income'] = pd.to_numeric(cleaned_2011['Median Income'], errors='coerce')\n",
    "cleaned_2012['Median Income'] = pd.to_numeric(cleaned_2012['Median Income'], errors='coerce')\n",
    "cleaned_2013['Median Income'] = pd.to_numeric(cleaned_2013['Median Income'], errors='coerce')\n",
    "cleaned_2014['Median Income'] = pd.to_numeric(cleaned_2014['Median Income'], errors='coerce')\n",
    "cleaned_2015['Median Income'] = pd.to_numeric(cleaned_2015['Median Income'], errors='coerce')\n",
    "cleaned_2016['Median Income'] = pd.to_numeric(cleaned_2016['Median Income'], errors='coerce')\n",
    "cleaned_2017['Median Income'] = pd.to_numeric(cleaned_2017['Median Income'], errors='coerce')\n",
    "cleaned_2011 = cleaned_2011.dropna()\n",
    "cleaned_2012 = cleaned_2012.dropna()\n",
    "cleaned_2013 = cleaned_2013.dropna()\n",
    "cleaned_2014 = cleaned_2014.dropna()\n",
    "cleaned_2015 = cleaned_2015.dropna()\n",
    "cleaned_2016 = cleaned_2016.dropna()\n",
    "cleaned_2017 = cleaned_2017.dropna()\n",
    "\n",
    "#Add year column and convert zip code to string\n",
    "\n",
    "cleaned_2011['Year']=2011\n",
    "cleaned_2012['Year']=2012\n",
    "cleaned_2013['Year']=2013\n",
    "cleaned_2014['Year']=2014\n",
    "cleaned_2015['Year']=2015\n",
    "cleaned_2016['Year']=2016\n",
    "cleaned_2017['Year']=2017\n",
    "cleaned_2011['Zip Code']= cleaned_2011['Zip Code'].str[-5:]\n",
    "cleaned_2012['Zip Code']= cleaned_2012['Zip Code'].str[-5:]\n",
    "cleaned_2013['Zip Code']= cleaned_2013['Zip Code'].str[-5:]\n",
    "cleaned_2014['Zip Code']= cleaned_2014['Zip Code'].str[-5:]\n",
    "cleaned_2015['Zip Code']= cleaned_2015['Zip Code'].str[-5:]\n",
    "cleaned_2016['Zip Code']= cleaned_2016['Zip Code'].str[-5:]\n",
    "cleaned_2017['Zip Code']= cleaned_2017['Zip Code'].str[-5:]\n"
   ]
  },
  {
   "cell_type": "code",
   "execution_count": 10,
   "metadata": {},
   "outputs": [
    {
     "name": "stdout",
     "output_type": "stream",
     "text": [
      "51276.917301651476\n",
      "51729.2115474158\n",
      "51943.436049058255\n",
      "52533.439738701\n",
      "53373.789758454106\n",
      "54630.373649343965\n",
      "56693.98626284828\n"
     ]
    }
   ],
   "source": [
    "# Sanity check to make sure average Median Household Income across all ZCTAs make sense\n",
    "\n",
    "print(cleaned_2011['Median Income'].mean())\n",
    "print(cleaned_2012['Median Income'].mean())\n",
    "print(cleaned_2013['Median Income'].mean())\n",
    "print(cleaned_2014['Median Income'].mean())\n",
    "print(cleaned_2015['Median Income'].mean())\n",
    "print(cleaned_2016['Median Income'].mean())\n",
    "print(cleaned_2017['Median Income'].mean())"
   ]
  },
  {
   "cell_type": "code",
   "execution_count": 11,
   "metadata": {},
   "outputs": [],
   "source": [
    "# Output cleaned data frames by year to .csv's (final_YYYY_median_income.csv) \n",
    "\n",
    "cleaned_2011.to_csv('../data_median_income/final_2011_median_income.csv', index=False)\n",
    "cleaned_2012.to_csv('../data_median_income/final_2012_median_income.csv', index=False)\n",
    "cleaned_2013.to_csv('../data_median_income/final_2013_median_income.csv', index=False)\n",
    "cleaned_2014.to_csv('../data_median_income/final_2014_median_income.csv', index=False)\n",
    "cleaned_2015.to_csv('../data_median_income/final_2015_median_income.csv', index=False)\n",
    "cleaned_2016.to_csv('../data_median_income/final_2016_median_income.csv', index=False)\n",
    "cleaned_2017.to_csv('../data_median_income/final_2017_median_income.csv', index=False)"
   ]
  },
  {
   "cell_type": "code",
   "execution_count": 9,
   "metadata": {},
   "outputs": [
    {
     "name": "stdout",
     "output_type": "stream",
     "text": [
      "2011 Median income: $51,277\n",
      "2012 Median income: $51,729\n",
      "2013 Median income: $51,943\n",
      "2014 Median income: $52,533\n",
      "2015 Median income: $53,374\n",
      "2016 Median income: $54,630\n",
      "2017 Median income: $56,694\n"
     ]
    }
   ],
   "source": [
    "# Sanity check: Print out the median income for years 2011 to 2017 from the data frames\n",
    "\n",
    "print(f\"2011 Median income: ${cleaned_2011['Median Income'].mean():,.0f}\")\n",
    "print(f\"2012 Median income: ${cleaned_2012['Median Income'].mean():,.0f}\")\n",
    "print(f\"2013 Median income: ${cleaned_2013['Median Income'].mean():,.0f}\")\n",
    "print(f\"2014 Median income: ${cleaned_2014['Median Income'].mean():,.0f}\")\n",
    "print(f\"2015 Median income: ${cleaned_2015['Median Income'].mean():,.0f}\")\n",
    "print(f\"2016 Median income: ${cleaned_2016['Median Income'].mean():,.0f}\")\n",
    "print(f\"2017 Median income: ${cleaned_2017['Median Income'].mean():,.0f}\")"
   ]
  },
  {
   "cell_type": "code",
   "execution_count": null,
   "metadata": {},
   "outputs": [],
   "source": []
  }
 ],
 "metadata": {
  "anaconda-cloud": {},
  "kernel_info": {
   "name": "python3"
  },
  "kernelspec": {
   "display_name": "Python 3",
   "language": "python",
   "name": "python3"
  },
  "language_info": {
   "codemirror_mode": {
    "name": "ipython",
    "version": 3
   },
   "file_extension": ".py",
   "mimetype": "text/x-python",
   "name": "python",
   "nbconvert_exporter": "python",
   "pygments_lexer": "ipython3",
   "version": "3.7.6"
  },
  "latex_envs": {
   "LaTeX_envs_menu_present": true,
   "autoclose": false,
   "autocomplete": true,
   "bibliofile": "biblio.bib",
   "cite_by": "apalike",
   "current_citInitial": 1,
   "eqLabelWithNumbers": true,
   "eqNumInitial": 1,
   "hotkeys": {
    "equation": "Ctrl-E",
    "itemize": "Ctrl-I"
   },
   "labels_anchors": false,
   "latex_user_defs": false,
   "report_style_numbering": false,
   "user_envs_cfg": false
  },
  "nteract": {
   "version": "0.8.4"
  }
 },
 "nbformat": 4,
 "nbformat_minor": 1
}
