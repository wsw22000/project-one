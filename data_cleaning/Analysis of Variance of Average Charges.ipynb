{
 "cells": [
  {
   "cell_type": "code",
   "execution_count": 73,
   "metadata": {},
   "outputs": [],
   "source": [
    "import pandas as pd\n",
    "import numpy as np\n",
    "import matplotlib.pyplot as plt\n"
   ]
  },
  {
   "cell_type": "code",
   "execution_count": 74,
   "metadata": {},
   "outputs": [],
   "source": [
    "final_data = \"../final_data.csv\"\n",
    "final_data_df = pd.read_csv(final_data, low_memory=False)"
   ]
  },
  {
   "cell_type": "code",
   "execution_count": 100,
   "metadata": {},
   "outputs": [
    {
     "data": {
      "text/html": [
       "<div>\n",
       "<style scoped>\n",
       "    .dataframe tbody tr th:only-of-type {\n",
       "        vertical-align: middle;\n",
       "    }\n",
       "\n",
       "    .dataframe tbody tr th {\n",
       "        vertical-align: top;\n",
       "    }\n",
       "\n",
       "    .dataframe thead th {\n",
       "        text-align: right;\n",
       "    }\n",
       "</style>\n",
       "<table border=\"1\" class=\"dataframe\">\n",
       "  <thead>\n",
       "    <tr style=\"text-align: right;\">\n",
       "      <th></th>\n",
       "      <th>Payment Year</th>\n",
       "      <th>DRG Definition</th>\n",
       "      <th>Total Discharges</th>\n",
       "    </tr>\n",
       "  </thead>\n",
       "  <tbody>\n",
       "    <tr>\n",
       "      <th>0</th>\n",
       "      <td>2017</td>\n",
       "      <td>871 - SEPTICEMIA OR SEVERE SEPSIS W/O MV &gt;96 H...</td>\n",
       "      <td>545558.0</td>\n",
       "    </tr>\n",
       "    <tr>\n",
       "      <th>1</th>\n",
       "      <td>2017</td>\n",
       "      <td>470 - MAJOR JOINT REPLACEMENT OR REATTACHMENT ...</td>\n",
       "      <td>466419.0</td>\n",
       "    </tr>\n",
       "    <tr>\n",
       "      <th>2</th>\n",
       "      <td>2017</td>\n",
       "      <td>291 - HEART FAILURE &amp; SHOCK W MCC</td>\n",
       "      <td>326178.0</td>\n",
       "    </tr>\n",
       "    <tr>\n",
       "      <th>3</th>\n",
       "      <td>2017</td>\n",
       "      <td>190 - CHRONIC OBSTRUCTIVE PULMONARY DISEASE W MCC</td>\n",
       "      <td>199165.0</td>\n",
       "    </tr>\n",
       "    <tr>\n",
       "      <th>4</th>\n",
       "      <td>2017</td>\n",
       "      <td>189 - PULMONARY EDEMA &amp; RESPIRATORY FAILURE</td>\n",
       "      <td>151550.0</td>\n",
       "    </tr>\n",
       "    <tr>\n",
       "      <th>5</th>\n",
       "      <td>2017</td>\n",
       "      <td>872 - SEPTICEMIA OR SEVERE SEPSIS W/O MV &gt;96 H...</td>\n",
       "      <td>144580.0</td>\n",
       "    </tr>\n",
       "    <tr>\n",
       "      <th>6</th>\n",
       "      <td>2017</td>\n",
       "      <td>392 - ESOPHAGITIS, GASTROENT &amp; MISC DIGEST DIS...</td>\n",
       "      <td>141967.0</td>\n",
       "    </tr>\n",
       "    <tr>\n",
       "      <th>7</th>\n",
       "      <td>2017</td>\n",
       "      <td>690 - KIDNEY &amp; URINARY TRACT INFECTIONS W/O MCC</td>\n",
       "      <td>127150.0</td>\n",
       "    </tr>\n",
       "  </tbody>\n",
       "</table>\n",
       "</div>"
      ],
      "text/plain": [
       "   Payment Year                                     DRG Definition  \\\n",
       "0          2017  871 - SEPTICEMIA OR SEVERE SEPSIS W/O MV >96 H...   \n",
       "1          2017  470 - MAJOR JOINT REPLACEMENT OR REATTACHMENT ...   \n",
       "2          2017                  291 - HEART FAILURE & SHOCK W MCC   \n",
       "3          2017  190 - CHRONIC OBSTRUCTIVE PULMONARY DISEASE W MCC   \n",
       "4          2017        189 - PULMONARY EDEMA & RESPIRATORY FAILURE   \n",
       "5          2017  872 - SEPTICEMIA OR SEVERE SEPSIS W/O MV >96 H...   \n",
       "6          2017  392 - ESOPHAGITIS, GASTROENT & MISC DIGEST DIS...   \n",
       "7          2017    690 - KIDNEY & URINARY TRACT INFECTIONS W/O MCC   \n",
       "\n",
       "   Total Discharges  \n",
       "0          545558.0  \n",
       "1          466419.0  \n",
       "2          326178.0  \n",
       "3          199165.0  \n",
       "4          151550.0  \n",
       "5          144580.0  \n",
       "6          141967.0  \n",
       "7          127150.0  "
      ]
     },
     "execution_count": 100,
     "metadata": {},
     "output_type": "execute_result"
    }
   ],
   "source": [
    "grouped_data_df = final_data_df.groupby(['Payment Year','DRG Definition'])\n",
    "\n",
    "discharge_count = pd.DataFrame(grouped_data_df[('Total Discharges')].sum().sort_values(ascending=False))\n",
    "discharge_count = discharge_count.sort_values(by=['Payment Year','Total Discharges'], ascending=False)\n",
    "discharge_count = discharge_count.reset_index()\n",
    "only_2017 = discharge_count.loc[(discharge_count['Payment Year']==2017),:]\n",
    "only_2017.head(8)"
   ]
  },
  {
   "cell_type": "code",
   "execution_count": 47,
   "metadata": {},
   "outputs": [
    {
     "ename": "NameError",
     "evalue": "name 'data_2011_df' is not defined",
     "output_type": "error",
     "traceback": [
      "\u001b[0;31m---------------------------------------------------------------------------\u001b[0m",
      "\u001b[0;31mNameError\u001b[0m                                 Traceback (most recent call last)",
      "\u001b[0;32m<ipython-input-47-48903f271225>\u001b[0m in \u001b[0;36m<module>\u001b[0;34m\u001b[0m\n\u001b[1;32m      1\u001b[0m \u001b[0;31m# 2011 top procedures performed\u001b[0m\u001b[0;34m\u001b[0m\u001b[0;34m\u001b[0m\u001b[0;34m\u001b[0m\u001b[0m\n\u001b[0;32m----> 2\u001b[0;31m \u001b[0mgrouped_2011_df\u001b[0m\u001b[0;34m=\u001b[0m\u001b[0mdata_2011_df\u001b[0m\u001b[0;34m.\u001b[0m\u001b[0mgroupby\u001b[0m\u001b[0;34m(\u001b[0m\u001b[0;34m[\u001b[0m\u001b[0;34m'DRG Definition'\u001b[0m\u001b[0;34m]\u001b[0m\u001b[0;34m)\u001b[0m\u001b[0;34m\u001b[0m\u001b[0;34m\u001b[0m\u001b[0m\n\u001b[0m\u001b[1;32m      3\u001b[0m \u001b[0mgrouped_2011_counts_df\u001b[0m\u001b[0;34m=\u001b[0m\u001b[0mpd\u001b[0m\u001b[0;34m.\u001b[0m\u001b[0mDataFrame\u001b[0m\u001b[0;34m(\u001b[0m\u001b[0mgrouped_2011_df\u001b[0m\u001b[0;34m[\u001b[0m\u001b[0;34m(\u001b[0m\u001b[0;34m'Total Discharges'\u001b[0m\u001b[0;34m)\u001b[0m\u001b[0;34m]\u001b[0m\u001b[0;34m.\u001b[0m\u001b[0msum\u001b[0m\u001b[0;34m(\u001b[0m\u001b[0;34m)\u001b[0m\u001b[0;34m)\u001b[0m\u001b[0;34m\u001b[0m\u001b[0;34m\u001b[0m\u001b[0m\n\u001b[1;32m      4\u001b[0m \u001b[0mgrouped_2011_counts_df\u001b[0m\u001b[0;34m.\u001b[0m\u001b[0msort_values\u001b[0m\u001b[0;34m(\u001b[0m\u001b[0;34m\"Total Discharges\"\u001b[0m\u001b[0;34m,\u001b[0m \u001b[0mascending\u001b[0m\u001b[0;34m=\u001b[0m\u001b[0;32mFalse\u001b[0m\u001b[0;34m)\u001b[0m\u001b[0;34m.\u001b[0m\u001b[0mhead\u001b[0m\u001b[0;34m(\u001b[0m\u001b[0;36m8\u001b[0m\u001b[0;34m)\u001b[0m\u001b[0;34m\u001b[0m\u001b[0;34m\u001b[0m\u001b[0m\n",
      "\u001b[0;31mNameError\u001b[0m: name 'data_2011_df' is not defined"
     ]
    }
   ],
   "source": [
    "# 2011 top procedures performed\n",
    "grouped_2011_df=data_2011_df.groupby(['DRG Definition'])\n",
    "grouped_2011_counts_df=pd.DataFrame(grouped_2011_df[('Total Discharges')].sum())\n",
    "grouped_2011_counts_df.sort_values(\"Total Discharges\", ascending=False).head(8)"
   ]
  },
  {
   "cell_type": "code",
   "execution_count": null,
   "metadata": {},
   "outputs": [],
   "source": []
  }
 ],
 "metadata": {
  "kernelspec": {
   "display_name": "Python 3",
   "language": "python",
   "name": "python3"
  },
  "language_info": {
   "codemirror_mode": {
    "name": "ipython",
    "version": 3
   },
   "file_extension": ".py",
   "mimetype": "text/x-python",
   "name": "python",
   "nbconvert_exporter": "python",
   "pygments_lexer": "ipython3",
   "version": "3.7.6"
  }
 },
 "nbformat": 4,
 "nbformat_minor": 4
}
