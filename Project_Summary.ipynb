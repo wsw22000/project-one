{
 "cells": [
  {
   "cell_type": "markdown",
   "metadata": {},
   "source": [
    "##### *Please run \"Project 1 - Analysis of Variability in Hospital Charges Across the United States.ipynb\" before viewing summary"
   ]
  },
  {
   "cell_type": "markdown",
   "metadata": {},
   "source": [
    "## Analysis of Variability in Hospital Charges Across the United States\n",
    "Bill White, Bosco Sitati, Ji-Heon Kim, Leishla Perez\n"
   ]
  },
  {
   "cell_type": "markdown",
   "metadata": {},
   "source": [
    "The overall aim of this project was to determine if there exists a correlation between the amounts charged by a hospital for a procedure and the median income of the regional area the hospital is located.  To determine this, we asked and answered the following questions:\n",
    "\n",
    "1) What does the median income per zip code distribution across the US look like? \n",
    "\n",
    "2) What are the most common procedures performed by hospitals across the US between 2011 and 2017 and  which 5 of these should we choose to analyze?\n",
    "\n",
    "3) What does the variability of the costs of the 5 procedures chosen look like across the US?\n",
    "\n",
    "4) Is the average of any given year’s hospital charges significantly different from the average hospital charges across all years?\n",
    "\n",
    "5) Is there a correlation between average hospital charges for procedures and regional median income?\n"
   ]
  },
  {
   "cell_type": "markdown",
   "metadata": {},
   "source": [
    "##### After analyzing the data and answering the above questions, we can conclude that there does not exist a correlation between the amounts charged by a hospital for a procedure and the median income of the regional area.\n"
   ]
  },
  {
   "cell_type": "markdown",
   "metadata": {},
   "source": [
    "#### 1. What does the median income per zip code distribution across the US look like? (data_outputs/median_income_histogram.png)\n"
   ]
  },
  {
   "cell_type": "markdown",
   "metadata": {},
   "source": [
    "```The average Median Income is $ 53,143\n",
    "The standard deviation of Median Income is $22,612  \n",
    "Roughly 68% of Median Income is between 30530.412 and 75754.591  \n",
    "Roughly 95% of Median Income is between 7918.323 and 98366.681  \n",
    "Roughly 99.7% of Median Income is between 0 and 120978.77 ```"
   ]
  },
  {
   "cell_type": "markdown",
   "metadata": {},
   "source": [
    "![Median Income Distribution](data_outputs/median_income_histogram.png)"
   ]
  },
  {
   "cell_type": "markdown",
   "metadata": {},
   "source": [
    "#### 2. What are the most common procedures performed by hospitals across the US between 2011 and 2017?  Which 5 of these should we choose to analyze?"
   ]
  },
  {
   "cell_type": "markdown",
   "metadata": {},
   "source": [
    "DRG Definition, Total Discharges  \n",
    "871 - SEPTICEMIA OR SEVERE SEPSIS W/O MV 96+ HOURS W MCC\t597736  \n",
    "470 - MAJOR JOINT REPLACEMENT OR REATTACHMENT OF LOWER EXTREMITY W/O MCC\t510632  \n",
    "291 - HEART FAILURE & SHOCK W MCC\t359442  \n",
    "190 - CHRONIC OBSTRUCTIVE PULMONARY DISEASE W MCC\t215525  \n",
    "189 - PULMONARY EDEMA & RESPIRATORY FAILURE\t165613  \n",
    "872 - SEPTICEMIA OR SEVERE SEPSIS W/O MV >96 HOURS W/O MCC\t157851  \n",
    "392 - ESOPHAGITIS, GASTROENT & MISC DIGEST DISORDERS W/O MCC\t155843  \n",
    "690 - KIDNEY & URINARY TRACT INFECTIONS W/O MCC\t138497  \n",
    "683 - RENAL FAILURE W CC\t134011  \n",
    "378 - G.I. HEMORRHAGE W CC\t131163  \n",
    "682 - RENAL FAILURE W MCC\t109187  \n",
    "065 - INTRACRANIAL HEMORRHAGE OR CEREBRAL INFARCTION W CC OR TPA IN 24 HRS\t108453  \n",
    "603 - CELLULITIS W/O MCC\t106510  \n",
    "292 - HEART FAILURE & SHOCK W CC\t105424  \n",
    "193 - SIMPLE PNEUMONIA & PLEURISY W MCC\t104672  "
   ]
  },
  {
   "cell_type": "markdown",
   "metadata": {},
   "source": [
    "#### Chosen 5:\n",
    "\n",
    "470 - MAJOR JOINT REPLACEMENT OR REATTACHMENT OF LOWER EXTREMITY W/O MCC,  \n",
    "871 - SEPTICEMIA OR SEVERE SEPSIS W/O MV 96+ HOURS W MCC,  \n",
    "392 - ESOPHAGITIS, GASTROENT & MISC DIGEST DISORDERS W/O MCC,  \n",
    "690 - KIDNEY & URINARY TRACT INFECTIONS W/O MCC,  \n",
    "194 - SIMPLE PNEUMONIA & PLEURISY W CC  "
   ]
  },
  {
   "cell_type": "markdown",
   "metadata": {},
   "source": [
    "#### 3. What does the variability of the costs of the 5 procedures chosen look like across the US?\n"
   ]
  },
  {
   "cell_type": "markdown",
   "metadata": {},
   "source": [
    "![Histogram Joint Replacements](data_outputs/major_joint_replacement_counts_histogram.png)"
   ]
  },
  {
   "cell_type": "markdown",
   "metadata": {},
   "source": [
    "![Boxplot Joint Replacements](data_outputs/major_joint_replacement_average_cost_boxplot.png)\n"
   ]
  },
  {
   "cell_type": "markdown",
   "metadata": {},
   "source": [
    "#### 4. Is the average of any given year’s hospital charges significantly different from the average hospital charges across all years?\n",
    "\n",
    "To answer the above, we performed a T-Test on the 2011 average charges for Major Joint Replacements against average charged for the same procedure across all years.  The results showed that the amounts charged in 2011 did not vary significantly from the amounts charged across all 7 years for the same procedure."
   ]
  },
  {
   "cell_type": "markdown",
   "metadata": {},
   "source": [
    "![T-test](data_outputs/ttest_2011_Joint_Replacement.png)"
   ]
  },
  {
   "cell_type": "markdown",
   "metadata": {},
   "source": [
    "#### 5. Is there a correlation between average hospital charges for procedures and regional median income?\n",
    "\n",
    "We looked at scatterplots and performed a linear regression between median income and average procedure costs for each of the 5 procedures across all 7 years combined across the US.\n",
    "\n",
    "Our findings show that there exists no correlation between average hospital charges for procedures and regional median income.\n",
    "\n",
    "All r-values of the linear regression analysis between average hospital charges for procedures and regional median income were less than 0.05.\n"
   ]
  },
  {
   "cell_type": "markdown",
   "metadata": {},
   "source": [
    "![linreg1](data_outputs/median_income_major_joint_replacement_regression.png)"
   ]
  },
  {
   "cell_type": "markdown",
   "metadata": {},
   "source": [
    "![linreg2](data_outputs/median_income_septicemia_regression.png)"
   ]
  },
  {
   "cell_type": "markdown",
   "metadata": {},
   "source": [
    "![linreg3](data_outputs/median_income_major_esophagitis_regression.png)"
   ]
  },
  {
   "cell_type": "markdown",
   "metadata": {},
   "source": [
    "![linreg4](data_outputs/median_income_kidney_and_UTI_regression.png)"
   ]
  },
  {
   "cell_type": "markdown",
   "metadata": {},
   "source": [
    "![linreg5](data_outputs/median_income_simple_pneumonia_regression.png)"
   ]
  },
  {
   "cell_type": "code",
   "execution_count": null,
   "metadata": {},
   "outputs": [],
   "source": []
  }
 ],
 "metadata": {
  "anaconda-cloud": {},
  "kernel_info": {
   "name": "python3"
  },
  "kernelspec": {
   "display_name": "Python 3",
   "language": "python",
   "name": "python3"
  },
  "language_info": {
   "codemirror_mode": {
    "name": "ipython",
    "version": 3
   },
   "file_extension": ".py",
   "mimetype": "text/x-python",
   "name": "python",
   "nbconvert_exporter": "python",
   "pygments_lexer": "ipython3",
   "version": "3.7.6"
  },
  "latex_envs": {
   "LaTeX_envs_menu_present": true,
   "autoclose": false,
   "autocomplete": true,
   "bibliofile": "biblio.bib",
   "cite_by": "apalike",
   "current_citInitial": 1,
   "eqLabelWithNumbers": true,
   "eqNumInitial": 1,
   "hotkeys": {
    "equation": "Ctrl-E",
    "itemize": "Ctrl-I"
   },
   "labels_anchors": false,
   "latex_user_defs": false,
   "report_style_numbering": false,
   "user_envs_cfg": false
  },
  "nteract": {
   "version": "0.8.4"
  }
 },
 "nbformat": 4,
 "nbformat_minor": 4
}
