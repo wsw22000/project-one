{
 "cells": [
  {
   "cell_type": "code",
   "execution_count": null,
   "metadata": {},
   "outputs": [],
   "source": []
  },
  {
   "cell_type": "code",
   "execution_count": 1,
   "metadata": {},
   "outputs": [],
   "source": [
    "import pandas as pd\n",
    "\n",
    "# Set paths to Income data .csv's\n",
    "income_2011= \"data_median_income/income2011.csv\"\n",
    "income_2012= \"data_median_income/income2012.csv\"\n",
    "income_2013= \"data_median_income/income2013.csv\"\n",
    "income_2014= \"data_median_income/income2014.csv\"\n",
    "income_2015= \"data_median_income/income2015.csv\"\n",
    "income_2016= \"data_median_income/income2016.csv\"\n",
    "income_2017= \"data_median_income/income2017.csv\"\n"
   ]
  },
  {
   "cell_type": "code",
   "execution_count": 2,
   "metadata": {},
   "outputs": [],
   "source": [
    "# Read Income Data File and store into DataFrames\n",
    "\n",
    "income_2011_df = pd.read_csv(income_2011, delimiter=',')\n",
    "income_2012_df = pd.read_csv(income_2012, delimiter=',')\n",
    "income_2013_df = pd.read_csv(income_2013, delimiter=',')\n",
    "income_2014_df = pd.read_csv(income_2014, delimiter=',')\n",
    "income_2015_df = pd.read_csv(income_2015, delimiter=',')\n",
    "income_2016_df = pd.read_csv(income_2016, delimiter=',')\n",
    "income_2017_df = pd.read_csv(income_2017, delimiter=',')"
   ]
  },
  {
   "cell_type": "code",
   "execution_count": 3,
   "metadata": {},
   "outputs": [],
   "source": [
    "#Sort DataFrames by Zip Code (lowest to highest)\n",
    "\n",
    "income_2011_df.sort_values(by='id', ascending = True).reset_index(inplace=True, drop=True)\n",
    "income_2012_df.sort_values(by='id', ascending = True).reset_index(inplace=True, drop=True)\n",
    "income_2013_df.sort_values(by='id', ascending = True).reset_index(inplace=True, drop=True)\n",
    "income_2014_df.sort_values(by='id', ascending = True).reset_index(inplace=True, drop=True)\n",
    "income_2015_df.sort_values(by='id', ascending = True).reset_index(inplace=True, drop=True)\n",
    "income_2016_df.sort_values(by='id', ascending = True).reset_index(inplace=True, drop=True)\n",
    "income_2017_df.sort_values(by='id', ascending = True).reset_index(inplace=True, drop=True)\n"
   ]
  },
  {
   "cell_type": "code",
   "execution_count": 4,
   "metadata": {},
   "outputs": [],
   "source": [
    "#Create new dataFrame with just ID, Geographic Area Name, and Median Income columns\n",
    "\n",
    "cleaned_2011 = income_2011_df[['id', 'Geographic Area Name','Median income (dollars)!!Estimate!!Households']]\n",
    "cleaned_2012 = income_2012_df[['id', 'Geographic Area Name','Median income (dollars)!!Estimate!!Households']]\n",
    "cleaned_2013 = income_2013_df[['id', 'Geographic Area Name','Median income (dollars)!!Estimate!!Households']]\n",
    "cleaned_2014 = income_2014_df[['id', 'Geographic Area Name','Median income (dollars)!!Estimate!!Households']]\n",
    "cleaned_2015 = income_2015_df[['id', 'Geographic Area Name','Median income (dollars)!!Estimate!!Households']]\n",
    "cleaned_2016 = income_2016_df[['id', 'Geographic Area Name','Median income (dollars)!!Estimate!!Households']]\n",
    "cleaned_2017 = income_2017_df[['id', 'Geographic Area Name','Estimate!!Median income (dollars)!!HOUSEHOLD INCOME BY RACE AND HISPANIC OR LATINO ORIGIN OF HOUSEHOLDER!!Households']]\n",
    "\n",
    "#Rename Median Income Column\n",
    "\n",
    "cleaned_2011 = cleaned_2011.rename(columns = {\"Median income (dollars)!!Estimate!!Households\":\"Median Income\"})\n",
    "cleaned_2012 = cleaned_2012.rename(columns = {\"Median income (dollars)!!Estimate!!Households\":\"Median Income\"})\n",
    "cleaned_2013 = cleaned_2013.rename(columns = {\"Median income (dollars)!!Estimate!!Households\":\"Median Income\"})\n",
    "cleaned_2014 = cleaned_2014.rename(columns = {\"Median income (dollars)!!Estimate!!Households\":\"Median Income\"})\n",
    "cleaned_2015 = cleaned_2015.rename(columns = {\"Median income (dollars)!!Estimate!!Households\":\"Median Income\"})\n",
    "cleaned_2016 = cleaned_2016.rename(columns = {\"Median income (dollars)!!Estimate!!Households\":\"Median Income\"})\n",
    "cleaned_2017 = cleaned_2017.rename(columns = {\"Estimate!!Median income (dollars)!!HOUSEHOLD INCOME BY RACE AND HISPANIC OR LATINO ORIGIN OF HOUSEHOLDER!!Households\":\"Median Income\"})\n"
   ]
  },
  {
   "cell_type": "code",
   "execution_count": 5,
   "metadata": {},
   "outputs": [],
   "source": [
    "cleaned_2011['Median Income'] = pd.to_numeric(cleaned_2011['Median Income'], errors='coerce')\n",
    "cleaned_2012['Median Income'] = pd.to_numeric(cleaned_2012['Median Income'], errors='coerce')\n",
    "cleaned_2013['Median Income'] = pd.to_numeric(cleaned_2013['Median Income'], errors='coerce')\n",
    "cleaned_2014['Median Income'] = pd.to_numeric(cleaned_2014['Median Income'], errors='coerce')\n",
    "cleaned_2015['Median Income'] = pd.to_numeric(cleaned_2015['Median Income'], errors='coerce')\n",
    "cleaned_2016['Median Income'] = pd.to_numeric(cleaned_2016['Median Income'], errors='coerce')\n",
    "cleaned_2017['Median Income'] = pd.to_numeric(cleaned_2017['Median Income'], errors='coerce')\n",
    "cleaned_2011 = cleaned_2011.dropna()\n",
    "cleaned_2012 = cleaned_2012.dropna()\n",
    "cleaned_2013 = cleaned_2013.dropna()\n",
    "cleaned_2014 = cleaned_2014.dropna()\n",
    "cleaned_2015 = cleaned_2015.dropna()\n",
    "cleaned_2016 = cleaned_2016.dropna()\n",
    "cleaned_2017 = cleaned_2017.dropna()\n",
    "cleaned_2011['Year']=2011\n",
    "cleaned_2012['Year']=2012\n",
    "cleaned_2013['Year']=2013\n",
    "cleaned_2014['Year']=2014\n",
    "cleaned_2015['Year']=2015\n",
    "cleaned_2016['Year']=2016\n",
    "cleaned_2017['Year']=2017\n"
   ]
  },
  {
   "cell_type": "code",
   "execution_count": 6,
   "metadata": {},
   "outputs": [
    {
     "name": "stdout",
     "output_type": "stream",
     "text": [
      "51276.917301651476\n",
      "51729.2115474158\n",
      "51943.436049058255\n",
      "52533.439738701\n",
      "53373.789758454106\n",
      "54630.373649343965\n",
      "56693.98626284828\n"
     ]
    }
   ],
   "source": [
    "# Sanity check to make sure average Median Household Income across all ZCTAs make sense\n",
    "\n",
    "print(cleaned_2011['Median Income'].mean())\n",
    "print(cleaned_2012['Median Income'].mean())\n",
    "print(cleaned_2013['Median Income'].mean())\n",
    "print(cleaned_2014['Median Income'].mean())\n",
    "print(cleaned_2015['Median Income'].mean())\n",
    "print(cleaned_2016['Median Income'].mean())\n",
    "print(cleaned_2017['Median Income'].mean())"
   ]
  },
  {
   "cell_type": "code",
   "execution_count": 7,
   "metadata": {},
   "outputs": [],
   "source": [
    "cleaned_2011.to_csv('data_median_income/final_2011_median_income', index=False)\n",
    "cleaned_2012.to_csv('data_median_income/final_2012_median_income', index=False)\n",
    "cleaned_2013.to_csv('data_median_income/final_2013_median_income', index=False)\n",
    "cleaned_2014.to_csv('data_median_income/final_2014_median_income', index=False)\n",
    "cleaned_2015.to_csv('data_median_income/final_2015_median_income', index=False)\n",
    "cleaned_2016.to_csv('data_median_income/final_2016_median_income', index=False)\n",
    "cleaned_2017.to_csv('data_median_income/final_2017_median_income', index=False)"
   ]
  },
  {
   "cell_type": "code",
   "execution_count": 10,
   "metadata": {},
   "outputs": [
    {
     "data": {
      "text/html": [
       "<div>\n",
       "<style scoped>\n",
       "    .dataframe tbody tr th:only-of-type {\n",
       "        vertical-align: middle;\n",
       "    }\n",
       "\n",
       "    .dataframe tbody tr th {\n",
       "        vertical-align: top;\n",
       "    }\n",
       "\n",
       "    .dataframe thead th {\n",
       "        text-align: right;\n",
       "    }\n",
       "</style>\n",
       "<table border=\"1\" class=\"dataframe\">\n",
       "  <thead>\n",
       "    <tr style=\"text-align: right;\">\n",
       "      <th></th>\n",
       "      <th>id</th>\n",
       "      <th>Geographic Area Name</th>\n",
       "      <th>Median Income</th>\n",
       "      <th>Year</th>\n",
       "    </tr>\n",
       "  </thead>\n",
       "  <tbody>\n",
       "    <tr>\n",
       "      <th>0</th>\n",
       "      <td>8600000US03455</td>\n",
       "      <td>ZCTA5 03455</td>\n",
       "      <td>60458.0</td>\n",
       "      <td>2011</td>\n",
       "    </tr>\n",
       "    <tr>\n",
       "      <th>1</th>\n",
       "      <td>8600000US03456</td>\n",
       "      <td>ZCTA5 03456</td>\n",
       "      <td>56917.0</td>\n",
       "      <td>2011</td>\n",
       "    </tr>\n",
       "    <tr>\n",
       "      <th>2</th>\n",
       "      <td>8600000US03457</td>\n",
       "      <td>ZCTA5 03457</td>\n",
       "      <td>63462.0</td>\n",
       "      <td>2011</td>\n",
       "    </tr>\n",
       "    <tr>\n",
       "      <th>3</th>\n",
       "      <td>8600000US03458</td>\n",
       "      <td>ZCTA5 03458</td>\n",
       "      <td>68659.0</td>\n",
       "      <td>2011</td>\n",
       "    </tr>\n",
       "    <tr>\n",
       "      <th>4</th>\n",
       "      <td>8600000US03461</td>\n",
       "      <td>ZCTA5 03461</td>\n",
       "      <td>65046.0</td>\n",
       "      <td>2011</td>\n",
       "    </tr>\n",
       "    <tr>\n",
       "      <th>...</th>\n",
       "      <td>...</td>\n",
       "      <td>...</td>\n",
       "      <td>...</td>\n",
       "      <td>...</td>\n",
       "    </tr>\n",
       "    <tr>\n",
       "      <th>33115</th>\n",
       "      <td>8600000US99923</td>\n",
       "      <td>ZCTA5 99923</td>\n",
       "      <td>27500.0</td>\n",
       "      <td>2011</td>\n",
       "    </tr>\n",
       "    <tr>\n",
       "      <th>33116</th>\n",
       "      <td>8600000US99925</td>\n",
       "      <td>ZCTA5 99925</td>\n",
       "      <td>43125.0</td>\n",
       "      <td>2011</td>\n",
       "    </tr>\n",
       "    <tr>\n",
       "      <th>33117</th>\n",
       "      <td>8600000US99926</td>\n",
       "      <td>ZCTA5 99926</td>\n",
       "      <td>45216.0</td>\n",
       "      <td>2011</td>\n",
       "    </tr>\n",
       "    <tr>\n",
       "      <th>33118</th>\n",
       "      <td>8600000US99927</td>\n",
       "      <td>ZCTA5 99927</td>\n",
       "      <td>17639.0</td>\n",
       "      <td>2011</td>\n",
       "    </tr>\n",
       "    <tr>\n",
       "      <th>33119</th>\n",
       "      <td>8600000US99929</td>\n",
       "      <td>ZCTA5 99929</td>\n",
       "      <td>50286.0</td>\n",
       "      <td>2011</td>\n",
       "    </tr>\n",
       "  </tbody>\n",
       "</table>\n",
       "<p>32153 rows × 4 columns</p>\n",
       "</div>"
      ],
      "text/plain": [
       "                   id Geographic Area Name  Median Income  Year\n",
       "0      8600000US03455          ZCTA5 03455        60458.0  2011\n",
       "1      8600000US03456          ZCTA5 03456        56917.0  2011\n",
       "2      8600000US03457          ZCTA5 03457        63462.0  2011\n",
       "3      8600000US03458          ZCTA5 03458        68659.0  2011\n",
       "4      8600000US03461          ZCTA5 03461        65046.0  2011\n",
       "...               ...                  ...            ...   ...\n",
       "33115  8600000US99923          ZCTA5 99923        27500.0  2011\n",
       "33116  8600000US99925          ZCTA5 99925        43125.0  2011\n",
       "33117  8600000US99926          ZCTA5 99926        45216.0  2011\n",
       "33118  8600000US99927          ZCTA5 99927        17639.0  2011\n",
       "33119  8600000US99929          ZCTA5 99929        50286.0  2011\n",
       "\n",
       "[32153 rows x 4 columns]"
      ]
     },
     "execution_count": 10,
     "metadata": {},
     "output_type": "execute_result"
    }
   ],
   "source": [
    "cleaned_2011"
   ]
  },
  {
   "cell_type": "code",
   "execution_count": 8,
   "metadata": {},
   "outputs": [
    {
     "name": "stdout",
     "output_type": "stream",
     "text": [
      "2011 Median income: 51276.917301651476\n",
      "2012 Median income: 51729.2115474158\n",
      "2013 Median income: 51943.436049058255\n",
      "2014 Median income: 52533.439738701\n",
      "2015 Median income: 53373.789758454106\n",
      "2016 Median income: 54630.373649343965\n",
      "2017 Median income: 56693.98626284828\n"
     ]
    }
   ],
   "source": [
    "print(f\"2011 Median income: {cleaned_2011['Median Income'].mean()}\")\n",
    "print(f\"2012 Median income: {cleaned_2012['Median Income'].mean()}\")\n",
    "print(f\"2013 Median income: {cleaned_2013['Median Income'].mean()}\")\n",
    "print(f\"2014 Median income: {cleaned_2014['Median Income'].mean()}\")\n",
    "print(f\"2015 Median income: {cleaned_2015['Median Income'].mean()}\")\n",
    "print(f\"2016 Median income: {cleaned_2016['Median Income'].mean()}\")\n",
    "print(f\"2017 Median income: {cleaned_2017['Median Income'].mean()}\")"
   ]
  }
 ],
 "metadata": {
  "anaconda-cloud": {},
  "kernel_info": {
   "name": "python3"
  },
  "kernelspec": {
   "display_name": "Python 3",
   "language": "python",
   "name": "python3"
  },
  "language_info": {
   "codemirror_mode": {
    "name": "ipython",
    "version": 3
   },
   "file_extension": ".py",
   "mimetype": "text/x-python",
   "name": "python",
   "nbconvert_exporter": "python",
   "pygments_lexer": "ipython3",
   "version": "3.7.6"
  },
  "latex_envs": {
   "LaTeX_envs_menu_present": true,
   "autoclose": false,
   "autocomplete": true,
   "bibliofile": "biblio.bib",
   "cite_by": "apalike",
   "current_citInitial": 1,
   "eqLabelWithNumbers": true,
   "eqNumInitial": 1,
   "hotkeys": {
    "equation": "Ctrl-E",
    "itemize": "Ctrl-I"
   },
   "labels_anchors": false,
   "latex_user_defs": false,
   "report_style_numbering": false,
   "user_envs_cfg": false
  },
  "nteract": {
   "version": "0.8.4"
  }
 },
 "nbformat": 4,
 "nbformat_minor": 1
}
