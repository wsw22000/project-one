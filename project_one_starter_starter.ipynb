{
 "cells": [
  {
   "cell_type": "code",
   "execution_count": 2,
   "metadata": {},
   "outputs": [],
   "source": [
    "import pandas as pd\n",
    "\n",
    "# Note: 2011-2013 represent top 100 billed services. 2014-2017 represent all billed services\n",
    "data_2011= \"data_cms_gov/Medicare_Provider_Charge_Inpatient_DRG100_FY2011.csv\"\n",
    "data_2012= \"data_cms_gov/Medicare_Provider_Charge_Inpatient_DRG100_FY2012.csv\"\n",
    "data_2013= \"data_cms_gov/Medicare_Provider_Charge_Inpatient_DRG100_FY2013.csv\"\n",
    "data_2014= \"data_cms_gov/Medicare_Provider_Charge_Inpatient_DRGALL_FY2014.csv\"\n",
    "data_2015= \"data_cms_gov/Medicare_Provider_Charge_Inpatient_DRGALL_FY2015.csv\"\n",
    "data_2016= \"data_cms_gov/Medicare_Provider_Charge_Inpatient_DRGALL_FY2016.csv\"\n",
    "data_2017= \"data_cms_gov/Medicare_Provider_Charge_Inpatient_DRGALL_FY2017.csv\"\n",
    "\n",
    "# Read School and Student Data File and store into Pandas Data Frames\n",
    "data_2011_df = pd.read_csv(data_2011, low_memory=False)\n",
    "data_2012_df = pd.read_csv(data_2012, low_memory=False)\n",
    "data_2013_df = pd.read_csv(data_2013, low_memory=False)\n",
    "data_2014_df = pd.read_csv(data_2014, low_memory=False)\n",
    "data_2015_df = pd.read_csv(data_2015, low_memory=False)\n",
    "data_2016_df = pd.read_csv(data_2016, low_memory=False)\n",
    "data_2017_df = pd.read_csv(data_2017, low_memory=False)"
   ]
  },
  {
   "cell_type": "code",
   "execution_count": 3,
   "metadata": {},
   "outputs": [
    {
     "data": {
      "text/html": [
       "<div>\n",
       "<style scoped>\n",
       "    .dataframe tbody tr th:only-of-type {\n",
       "        vertical-align: middle;\n",
       "    }\n",
       "\n",
       "    .dataframe tbody tr th {\n",
       "        vertical-align: top;\n",
       "    }\n",
       "\n",
       "    .dataframe thead th {\n",
       "        text-align: right;\n",
       "    }\n",
       "</style>\n",
       "<table border=\"1\" class=\"dataframe\">\n",
       "  <thead>\n",
       "    <tr style=\"text-align: right;\">\n",
       "      <th></th>\n",
       "      <th>DRG Definition</th>\n",
       "      <th>Provider Id</th>\n",
       "      <th>Provider Name</th>\n",
       "      <th>Provider Street Address</th>\n",
       "      <th>Provider City</th>\n",
       "      <th>Provider State</th>\n",
       "      <th>Provider Zip Code</th>\n",
       "      <th>Hospital Referral Region (HRR) Description</th>\n",
       "      <th>Total Discharges</th>\n",
       "      <th>Average Covered Charges</th>\n",
       "      <th>Average Total Payments</th>\n",
       "      <th>Average Medicare Payments</th>\n",
       "    </tr>\n",
       "  </thead>\n",
       "  <tbody>\n",
       "    <tr>\n",
       "      <th>0</th>\n",
       "      <td>023 - CRANIOTOMY W MAJOR DEVICE IMPLANT OR ACU...</td>\n",
       "      <td>10001</td>\n",
       "      <td>SOUTHEAST ALABAMA MEDICAL CENTER</td>\n",
       "      <td>1108 ROSS CLARK CIRCLE</td>\n",
       "      <td>DOTHAN</td>\n",
       "      <td>AL</td>\n",
       "      <td>36301</td>\n",
       "      <td>AL - Dothan</td>\n",
       "      <td>28</td>\n",
       "      <td>117117.78570</td>\n",
       "      <td>25823.714290</td>\n",
       "      <td>24057.392860</td>\n",
       "    </tr>\n",
       "    <tr>\n",
       "      <th>1</th>\n",
       "      <td>025 - CRANIOTOMY &amp; ENDOVASCULAR INTRACRANIAL P...</td>\n",
       "      <td>10001</td>\n",
       "      <td>SOUTHEAST ALABAMA MEDICAL CENTER</td>\n",
       "      <td>1108 ROSS CLARK CIRCLE</td>\n",
       "      <td>DOTHAN</td>\n",
       "      <td>AL</td>\n",
       "      <td>36301</td>\n",
       "      <td>AL - Dothan</td>\n",
       "      <td>32</td>\n",
       "      <td>98357.56250</td>\n",
       "      <td>20688.343750</td>\n",
       "      <td>19791.406250</td>\n",
       "    </tr>\n",
       "    <tr>\n",
       "      <th>2</th>\n",
       "      <td>027 - CRANIOTOMY &amp; ENDOVASCULAR INTRACRANIAL P...</td>\n",
       "      <td>10001</td>\n",
       "      <td>SOUTHEAST ALABAMA MEDICAL CENTER</td>\n",
       "      <td>1108 ROSS CLARK CIRCLE</td>\n",
       "      <td>DOTHAN</td>\n",
       "      <td>AL</td>\n",
       "      <td>36301</td>\n",
       "      <td>AL - Dothan</td>\n",
       "      <td>11</td>\n",
       "      <td>69153.54546</td>\n",
       "      <td>11811.181820</td>\n",
       "      <td>8194.363636</td>\n",
       "    </tr>\n",
       "    <tr>\n",
       "      <th>3</th>\n",
       "      <td>037 - EXTRACRANIAL PROCEDURES W MCC</td>\n",
       "      <td>10001</td>\n",
       "      <td>SOUTHEAST ALABAMA MEDICAL CENTER</td>\n",
       "      <td>1108 ROSS CLARK CIRCLE</td>\n",
       "      <td>DOTHAN</td>\n",
       "      <td>AL</td>\n",
       "      <td>36301</td>\n",
       "      <td>AL - Dothan</td>\n",
       "      <td>12</td>\n",
       "      <td>100427.33330</td>\n",
       "      <td>19134.000000</td>\n",
       "      <td>18154.000000</td>\n",
       "    </tr>\n",
       "    <tr>\n",
       "      <th>4</th>\n",
       "      <td>038 - EXTRACRANIAL PROCEDURES W CC</td>\n",
       "      <td>10001</td>\n",
       "      <td>SOUTHEAST ALABAMA MEDICAL CENTER</td>\n",
       "      <td>1108 ROSS CLARK CIRCLE</td>\n",
       "      <td>DOTHAN</td>\n",
       "      <td>AL</td>\n",
       "      <td>36301</td>\n",
       "      <td>AL - Dothan</td>\n",
       "      <td>17</td>\n",
       "      <td>58199.47059</td>\n",
       "      <td>8519.470588</td>\n",
       "      <td>6714.882353</td>\n",
       "    </tr>\n",
       "  </tbody>\n",
       "</table>\n",
       "</div>"
      ],
      "text/plain": [
       "                                      DRG Definition  Provider Id  \\\n",
       "0  023 - CRANIOTOMY W MAJOR DEVICE IMPLANT OR ACU...        10001   \n",
       "1  025 - CRANIOTOMY & ENDOVASCULAR INTRACRANIAL P...        10001   \n",
       "2  027 - CRANIOTOMY & ENDOVASCULAR INTRACRANIAL P...        10001   \n",
       "3                037 - EXTRACRANIAL PROCEDURES W MCC        10001   \n",
       "4                 038 - EXTRACRANIAL PROCEDURES W CC        10001   \n",
       "\n",
       "                      Provider Name Provider Street Address Provider City  \\\n",
       "0  SOUTHEAST ALABAMA MEDICAL CENTER  1108 ROSS CLARK CIRCLE        DOTHAN   \n",
       "1  SOUTHEAST ALABAMA MEDICAL CENTER  1108 ROSS CLARK CIRCLE        DOTHAN   \n",
       "2  SOUTHEAST ALABAMA MEDICAL CENTER  1108 ROSS CLARK CIRCLE        DOTHAN   \n",
       "3  SOUTHEAST ALABAMA MEDICAL CENTER  1108 ROSS CLARK CIRCLE        DOTHAN   \n",
       "4  SOUTHEAST ALABAMA MEDICAL CENTER  1108 ROSS CLARK CIRCLE        DOTHAN   \n",
       "\n",
       "  Provider State  Provider Zip Code  \\\n",
       "0             AL              36301   \n",
       "1             AL              36301   \n",
       "2             AL              36301   \n",
       "3             AL              36301   \n",
       "4             AL              36301   \n",
       "\n",
       "  Hospital Referral Region (HRR) Description  Total Discharges  \\\n",
       "0                                AL - Dothan                28   \n",
       "1                                AL - Dothan                32   \n",
       "2                                AL - Dothan                11   \n",
       "3                                AL - Dothan                12   \n",
       "4                                AL - Dothan                17   \n",
       "\n",
       "   Average Covered Charges  Average Total Payments  Average Medicare Payments  \n",
       "0             117117.78570            25823.714290               24057.392860  \n",
       "1              98357.56250            20688.343750               19791.406250  \n",
       "2              69153.54546            11811.181820                8194.363636  \n",
       "3             100427.33330            19134.000000               18154.000000  \n",
       "4              58199.47059             8519.470588                6714.882353  "
      ]
     },
     "execution_count": 3,
     "metadata": {},
     "output_type": "execute_result"
    }
   ],
   "source": [
    "data_2017_df.head()"
   ]
  },
  {
   "cell_type": "code",
   "execution_count": 16,
   "metadata": {},
   "outputs": [
    {
     "data": {
      "text/html": [
       "<div>\n",
       "<style scoped>\n",
       "    .dataframe tbody tr th:only-of-type {\n",
       "        vertical-align: middle;\n",
       "    }\n",
       "\n",
       "    .dataframe tbody tr th {\n",
       "        vertical-align: top;\n",
       "    }\n",
       "\n",
       "    .dataframe thead th {\n",
       "        text-align: right;\n",
       "    }\n",
       "</style>\n",
       "<table border=\"1\" class=\"dataframe\">\n",
       "  <thead>\n",
       "    <tr style=\"text-align: right;\">\n",
       "      <th></th>\n",
       "      <th>Total Discharges</th>\n",
       "    </tr>\n",
       "    <tr>\n",
       "      <th>DRG Definition</th>\n",
       "      <th></th>\n",
       "    </tr>\n",
       "  </thead>\n",
       "  <tbody>\n",
       "    <tr>\n",
       "      <th>470 - MAJOR JOINT REPLACEMENT OR REATTACHMENT OF LOWER EXTREMITY W/O MCC</th>\n",
       "      <td>427207</td>\n",
       "    </tr>\n",
       "    <tr>\n",
       "      <th>871 - SEPTICEMIA OR SEVERE SEPSIS W/O MV 96+ HOURS W MCC</th>\n",
       "      <td>319072</td>\n",
       "    </tr>\n",
       "    <tr>\n",
       "      <th>392 - ESOPHAGITIS, GASTROENT &amp; MISC DIGEST DISORDERS W/O MCC</th>\n",
       "      <td>244854</td>\n",
       "    </tr>\n",
       "    <tr>\n",
       "      <th>292 - HEART FAILURE &amp; SHOCK W CC</th>\n",
       "      <td>222038</td>\n",
       "    </tr>\n",
       "    <tr>\n",
       "      <th>690 - KIDNEY &amp; URINARY TRACT INFECTIONS W/O MCC</th>\n",
       "      <td>206695</td>\n",
       "    </tr>\n",
       "    <tr>\n",
       "      <th>194 - SIMPLE PNEUMONIA &amp; PLEURISY W CC</th>\n",
       "      <td>198390</td>\n",
       "    </tr>\n",
       "    <tr>\n",
       "      <th>291 - HEART FAILURE &amp; SHOCK W MCC</th>\n",
       "      <td>185599</td>\n",
       "    </tr>\n",
       "    <tr>\n",
       "      <th>641 - MISC DISORDERS OF NUTRITION,METABOLISM,FLUIDS/ELECTROLYTES W/O MCC</th>\n",
       "      <td>153660</td>\n",
       "    </tr>\n",
       "  </tbody>\n",
       "</table>\n",
       "</div>"
      ],
      "text/plain": [
       "                                                    Total Discharges\n",
       "DRG Definition                                                      \n",
       "470 - MAJOR JOINT REPLACEMENT OR REATTACHMENT O...            427207\n",
       "871 - SEPTICEMIA OR SEVERE SEPSIS W/O MV 96+ HO...            319072\n",
       "392 - ESOPHAGITIS, GASTROENT & MISC DIGEST DISO...            244854\n",
       "292 - HEART FAILURE & SHOCK W CC                              222038\n",
       "690 - KIDNEY & URINARY TRACT INFECTIONS W/O MCC               206695\n",
       "194 - SIMPLE PNEUMONIA & PLEURISY W CC                        198390\n",
       "291 - HEART FAILURE & SHOCK W MCC                             185599\n",
       "641 - MISC DISORDERS OF NUTRITION,METABOLISM,FL...            153660"
      ]
     },
     "execution_count": 16,
     "metadata": {},
     "output_type": "execute_result"
    }
   ],
   "source": [
    "# 2011 top procedures performed\n",
    "grouped_2011_df=data_2011_df.groupby(['DRG Definition'])\n",
    "grouped_2011_counts_df=pd.DataFrame(grouped_2011_df[('Total Discharges')].sum())\n",
    "grouped_2011_counts_df.sort_values(\"Total Discharges\", ascending=False).head(8)"
   ]
  },
  {
   "cell_type": "code",
   "execution_count": 17,
   "metadata": {},
   "outputs": [
    {
     "data": {
      "text/html": [
       "<div>\n",
       "<style scoped>\n",
       "    .dataframe tbody tr th:only-of-type {\n",
       "        vertical-align: middle;\n",
       "    }\n",
       "\n",
       "    .dataframe tbody tr th {\n",
       "        vertical-align: top;\n",
       "    }\n",
       "\n",
       "    .dataframe thead th {\n",
       "        text-align: right;\n",
       "    }\n",
       "</style>\n",
       "<table border=\"1\" class=\"dataframe\">\n",
       "  <thead>\n",
       "    <tr style=\"text-align: right;\">\n",
       "      <th></th>\n",
       "      <th>Total Discharges</th>\n",
       "    </tr>\n",
       "    <tr>\n",
       "      <th>DRG Definition</th>\n",
       "      <th></th>\n",
       "    </tr>\n",
       "  </thead>\n",
       "  <tbody>\n",
       "    <tr>\n",
       "      <th>470 - MAJOR JOINT REPLACEMENT OR REATTACHMENT OF LOWER EXTREMITY W/O MCC</th>\n",
       "      <td>430717</td>\n",
       "    </tr>\n",
       "    <tr>\n",
       "      <th>871 - SEPTICEMIA OR SEVERE SEPSIS W/O MV 96+ HOURS W MCC</th>\n",
       "      <td>345343</td>\n",
       "    </tr>\n",
       "    <tr>\n",
       "      <th>392 - ESOPHAGITIS, GASTROENT &amp; MISC DIGEST DISORDERS W/O MCC</th>\n",
       "      <td>215483</td>\n",
       "    </tr>\n",
       "    <tr>\n",
       "      <th>292 - HEART FAILURE &amp; SHOCK W CC</th>\n",
       "      <td>204069</td>\n",
       "    </tr>\n",
       "    <tr>\n",
       "      <th>690 - KIDNEY &amp; URINARY TRACT INFECTIONS W/O MCC</th>\n",
       "      <td>195346</td>\n",
       "    </tr>\n",
       "    <tr>\n",
       "      <th>291 - HEART FAILURE &amp; SHOCK W MCC</th>\n",
       "      <td>182445</td>\n",
       "    </tr>\n",
       "    <tr>\n",
       "      <th>194 - SIMPLE PNEUMONIA &amp; PLEURISY W CC</th>\n",
       "      <td>180262</td>\n",
       "    </tr>\n",
       "    <tr>\n",
       "      <th>683 - RENAL FAILURE W CC</th>\n",
       "      <td>153170</td>\n",
       "    </tr>\n",
       "  </tbody>\n",
       "</table>\n",
       "</div>"
      ],
      "text/plain": [
       "                                                    Total Discharges\n",
       "DRG Definition                                                      \n",
       "470 - MAJOR JOINT REPLACEMENT OR REATTACHMENT O...            430717\n",
       "871 - SEPTICEMIA OR SEVERE SEPSIS W/O MV 96+ HO...            345343\n",
       "392 - ESOPHAGITIS, GASTROENT & MISC DIGEST DISO...            215483\n",
       "292 - HEART FAILURE & SHOCK W CC                              204069\n",
       "690 - KIDNEY & URINARY TRACT INFECTIONS W/O MCC               195346\n",
       "291 - HEART FAILURE & SHOCK W MCC                             182445\n",
       "194 - SIMPLE PNEUMONIA & PLEURISY W CC                        180262\n",
       "683 - RENAL FAILURE W CC                                      153170"
      ]
     },
     "execution_count": 17,
     "metadata": {},
     "output_type": "execute_result"
    }
   ],
   "source": [
    "# 2012 top procedures performed\n",
    "grouped_2012_df=data_2012_df.groupby(['DRG Definition'])\n",
    "grouped_2012_counts_df=pd.DataFrame(grouped_2012_df[('Total Discharges')].sum())\n",
    "grouped_2012_counts_df.sort_values(\"Total Discharges\", ascending=False).head(8)"
   ]
  },
  {
   "cell_type": "code",
   "execution_count": 18,
   "metadata": {},
   "outputs": [
    {
     "data": {
      "text/html": [
       "<div>\n",
       "<style scoped>\n",
       "    .dataframe tbody tr th:only-of-type {\n",
       "        vertical-align: middle;\n",
       "    }\n",
       "\n",
       "    .dataframe tbody tr th {\n",
       "        vertical-align: top;\n",
       "    }\n",
       "\n",
       "    .dataframe thead th {\n",
       "        text-align: right;\n",
       "    }\n",
       "</style>\n",
       "<table border=\"1\" class=\"dataframe\">\n",
       "  <thead>\n",
       "    <tr style=\"text-align: right;\">\n",
       "      <th></th>\n",
       "      <th>Total Discharges</th>\n",
       "    </tr>\n",
       "    <tr>\n",
       "      <th>DRG Definition</th>\n",
       "      <th></th>\n",
       "    </tr>\n",
       "  </thead>\n",
       "  <tbody>\n",
       "    <tr>\n",
       "      <th>470 - MAJOR JOINT REPLACEMENT OR REATTACHMENT OF LOWER EXTREMITY W/O MCC</th>\n",
       "      <td>444816.0</td>\n",
       "    </tr>\n",
       "    <tr>\n",
       "      <th>871 - SEPTICEMIA OR SEVERE SEPSIS W/O MV 96+ HOURS W MCC</th>\n",
       "      <td>396451.0</td>\n",
       "    </tr>\n",
       "    <tr>\n",
       "      <th>392 - ESOPHAGITIS, GASTROENT &amp; MISC DIGEST DISORDERS W/O MCC</th>\n",
       "      <td>197086.0</td>\n",
       "    </tr>\n",
       "    <tr>\n",
       "      <th>292 - HEART FAILURE &amp; SHOCK W CC</th>\n",
       "      <td>196318.0</td>\n",
       "    </tr>\n",
       "    <tr>\n",
       "      <th>291 - HEART FAILURE &amp; SHOCK W MCC</th>\n",
       "      <td>192040.0</td>\n",
       "    </tr>\n",
       "    <tr>\n",
       "      <th>194 - SIMPLE PNEUMONIA &amp; PLEURISY W CC</th>\n",
       "      <td>181006.0</td>\n",
       "    </tr>\n",
       "    <tr>\n",
       "      <th>690 - KIDNEY &amp; URINARY TRACT INFECTIONS W/O MCC</th>\n",
       "      <td>173271.0</td>\n",
       "    </tr>\n",
       "    <tr>\n",
       "      <th>683 - RENAL FAILURE W CC</th>\n",
       "      <td>150966.0</td>\n",
       "    </tr>\n",
       "  </tbody>\n",
       "</table>\n",
       "</div>"
      ],
      "text/plain": [
       "                                                    Total Discharges\n",
       "DRG Definition                                                      \n",
       "470 - MAJOR JOINT REPLACEMENT OR REATTACHMENT O...          444816.0\n",
       "871 - SEPTICEMIA OR SEVERE SEPSIS W/O MV 96+ HO...          396451.0\n",
       "392 - ESOPHAGITIS, GASTROENT & MISC DIGEST DISO...          197086.0\n",
       "292 - HEART FAILURE & SHOCK W CC                            196318.0\n",
       "291 - HEART FAILURE & SHOCK W MCC                           192040.0\n",
       "194 - SIMPLE PNEUMONIA & PLEURISY W CC                      181006.0\n",
       "690 - KIDNEY & URINARY TRACT INFECTIONS W/O MCC             173271.0\n",
       "683 - RENAL FAILURE W CC                                    150966.0"
      ]
     },
     "execution_count": 18,
     "metadata": {},
     "output_type": "execute_result"
    }
   ],
   "source": [
    "# 2013 top procedures performed\n",
    "grouped_2013_df=data_2013_df.groupby(['DRG Definition'])\n",
    "grouped_2013_counts_df=pd.DataFrame(grouped_2013_df[('Total Discharges')].sum())\n",
    "grouped_2013_counts_df.sort_values(\"Total Discharges\", ascending=False).head(8)"
   ]
  },
  {
   "cell_type": "code",
   "execution_count": 19,
   "metadata": {},
   "outputs": [
    {
     "data": {
      "text/html": [
       "<div>\n",
       "<style scoped>\n",
       "    .dataframe tbody tr th:only-of-type {\n",
       "        vertical-align: middle;\n",
       "    }\n",
       "\n",
       "    .dataframe tbody tr th {\n",
       "        vertical-align: top;\n",
       "    }\n",
       "\n",
       "    .dataframe thead th {\n",
       "        text-align: right;\n",
       "    }\n",
       "</style>\n",
       "<table border=\"1\" class=\"dataframe\">\n",
       "  <thead>\n",
       "    <tr style=\"text-align: right;\">\n",
       "      <th></th>\n",
       "      <th>Total Discharges</th>\n",
       "    </tr>\n",
       "    <tr>\n",
       "      <th>DRG Definition</th>\n",
       "      <th></th>\n",
       "    </tr>\n",
       "  </thead>\n",
       "  <tbody>\n",
       "    <tr>\n",
       "      <th>470 - MAJOR JOINT REPLACEMENT OR REATTACHMENT OF LOWER EXTREMITY W/O MCC</th>\n",
       "      <td>458259</td>\n",
       "    </tr>\n",
       "    <tr>\n",
       "      <th>871 - SEPTICEMIA OR SEVERE SEPSIS W/O MV 96+ HOURS W MCC</th>\n",
       "      <td>438597</td>\n",
       "    </tr>\n",
       "    <tr>\n",
       "      <th>291 - HEART FAILURE &amp; SHOCK W MCC</th>\n",
       "      <td>198889</td>\n",
       "    </tr>\n",
       "    <tr>\n",
       "      <th>292 - HEART FAILURE &amp; SHOCK W CC</th>\n",
       "      <td>192918</td>\n",
       "    </tr>\n",
       "    <tr>\n",
       "      <th>392 - ESOPHAGITIS, GASTROENT &amp; MISC DIGEST DISORDERS W/O MCC</th>\n",
       "      <td>190375</td>\n",
       "    </tr>\n",
       "    <tr>\n",
       "      <th>690 - KIDNEY &amp; URINARY TRACT INFECTIONS W/O MCC</th>\n",
       "      <td>159823</td>\n",
       "    </tr>\n",
       "    <tr>\n",
       "      <th>194 - SIMPLE PNEUMONIA &amp; PLEURISY W CC</th>\n",
       "      <td>148808</td>\n",
       "    </tr>\n",
       "    <tr>\n",
       "      <th>683 - RENAL FAILURE W CC</th>\n",
       "      <td>144145</td>\n",
       "    </tr>\n",
       "  </tbody>\n",
       "</table>\n",
       "</div>"
      ],
      "text/plain": [
       "                                                    Total Discharges\n",
       "DRG Definition                                                      \n",
       "470 - MAJOR JOINT REPLACEMENT OR REATTACHMENT O...            458259\n",
       "871 - SEPTICEMIA OR SEVERE SEPSIS W/O MV 96+ HO...            438597\n",
       "291 - HEART FAILURE & SHOCK W MCC                             198889\n",
       "292 - HEART FAILURE & SHOCK W CC                              192918\n",
       "392 - ESOPHAGITIS, GASTROENT & MISC DIGEST DISO...            190375\n",
       "690 - KIDNEY & URINARY TRACT INFECTIONS W/O MCC               159823\n",
       "194 - SIMPLE PNEUMONIA & PLEURISY W CC                        148808\n",
       "683 - RENAL FAILURE W CC                                      144145"
      ]
     },
     "execution_count": 19,
     "metadata": {},
     "output_type": "execute_result"
    }
   ],
   "source": [
    "# 2014 top procedures performed\n",
    "grouped_2014_df=data_2014_df.groupby(['DRG Definition'])\n",
    "grouped_2014_counts_df=pd.DataFrame(grouped_2014_df[('Total Discharges')].sum())\n",
    "grouped_2014_counts_df.sort_values(\"Total Discharges\", ascending=False).head(8)"
   ]
  },
  {
   "cell_type": "code",
   "execution_count": 41,
   "metadata": {},
   "outputs": [
    {
     "data": {
      "text/html": [
       "<div>\n",
       "<style scoped>\n",
       "    .dataframe tbody tr th:only-of-type {\n",
       "        vertical-align: middle;\n",
       "    }\n",
       "\n",
       "    .dataframe tbody tr th {\n",
       "        vertical-align: top;\n",
       "    }\n",
       "\n",
       "    .dataframe thead th {\n",
       "        text-align: right;\n",
       "    }\n",
       "</style>\n",
       "<table border=\"1\" class=\"dataframe\">\n",
       "  <thead>\n",
       "    <tr style=\"text-align: right;\">\n",
       "      <th></th>\n",
       "      <th>Total Discharges</th>\n",
       "    </tr>\n",
       "    <tr>\n",
       "      <th>DRG Definition</th>\n",
       "      <th></th>\n",
       "    </tr>\n",
       "  </thead>\n",
       "  <tbody>\n",
       "    <tr>\n",
       "      <th>871 - SEPTICEMIA OR SEVERE SEPSIS W/O MV 96+ HOURS W MCC</th>\n",
       "      <td>521358</td>\n",
       "    </tr>\n",
       "    <tr>\n",
       "      <th>470 - MAJOR JOINT REPLACEMENT OR REATTACHMENT OF LOWER EXTREMITY W/O MCC</th>\n",
       "      <td>463930</td>\n",
       "    </tr>\n",
       "    <tr>\n",
       "      <th>291 - HEART FAILURE &amp; SHOCK W MCC</th>\n",
       "      <td>221654</td>\n",
       "    </tr>\n",
       "    <tr>\n",
       "      <th>292 - HEART FAILURE &amp; SHOCK W CC</th>\n",
       "      <td>192975</td>\n",
       "    </tr>\n",
       "    <tr>\n",
       "      <th>392 - ESOPHAGITIS, GASTROENT &amp; MISC DIGEST DISORDERS W/O MCC</th>\n",
       "      <td>182443</td>\n",
       "    </tr>\n",
       "    <tr>\n",
       "      <th>690 - KIDNEY &amp; URINARY TRACT INFECTIONS W/O MCC</th>\n",
       "      <td>150680</td>\n",
       "    </tr>\n",
       "    <tr>\n",
       "      <th>872 - SEPTICEMIA OR SEVERE SEPSIS W/O MV &gt;96 HOURS W/O MCC</th>\n",
       "      <td>150151</td>\n",
       "    </tr>\n",
       "    <tr>\n",
       "      <th>194 - SIMPLE PNEUMONIA &amp; PLEURISY W CC</th>\n",
       "      <td>148886</td>\n",
       "    </tr>\n",
       "  </tbody>\n",
       "</table>\n",
       "</div>"
      ],
      "text/plain": [
       "                                                    Total Discharges\n",
       "DRG Definition                                                      \n",
       "871 - SEPTICEMIA OR SEVERE SEPSIS W/O MV 96+ HO...            521358\n",
       "470 - MAJOR JOINT REPLACEMENT OR REATTACHMENT O...            463930\n",
       "291 - HEART FAILURE & SHOCK W MCC                             221654\n",
       "292 - HEART FAILURE & SHOCK W CC                              192975\n",
       "392 - ESOPHAGITIS, GASTROENT & MISC DIGEST DISO...            182443\n",
       "690 - KIDNEY & URINARY TRACT INFECTIONS W/O MCC               150680\n",
       "872 - SEPTICEMIA OR SEVERE SEPSIS W/O MV >96 HO...            150151\n",
       "194 - SIMPLE PNEUMONIA & PLEURISY W CC                        148886"
      ]
     },
     "execution_count": 41,
     "metadata": {},
     "output_type": "execute_result"
    }
   ],
   "source": [
    "# 2015 top procedures performed\n",
    "grouped_2015_df=data_2015_df.groupby(['DRG Definition'])\n",
    "grouped_2015_counts_df=pd.DataFrame(grouped_2015_df[('Total Discharges')].sum())\n",
    "grouped_2015_counts_df.sort_values(\"Total Discharges\", ascending=False).head(8)"
   ]
  },
  {
   "cell_type": "code",
   "execution_count": 54,
   "metadata": {},
   "outputs": [
    {
     "data": {
      "text/html": [
       "<div>\n",
       "<style scoped>\n",
       "    .dataframe tbody tr th:only-of-type {\n",
       "        vertical-align: middle;\n",
       "    }\n",
       "\n",
       "    .dataframe tbody tr th {\n",
       "        vertical-align: top;\n",
       "    }\n",
       "\n",
       "    .dataframe thead th {\n",
       "        text-align: right;\n",
       "    }\n",
       "</style>\n",
       "<table border=\"1\" class=\"dataframe\">\n",
       "  <thead>\n",
       "    <tr style=\"text-align: right;\">\n",
       "      <th></th>\n",
       "      <th>Total Discharges</th>\n",
       "    </tr>\n",
       "    <tr>\n",
       "      <th>DRG Definition</th>\n",
       "      <th></th>\n",
       "    </tr>\n",
       "  </thead>\n",
       "  <tbody>\n",
       "    <tr>\n",
       "      <th>001 - HEART TRANSPLANT OR IMPLANT OF HEART ASSIST SYSTEM W MCC</th>\n",
       "      <td>1326331713112229184716161631361515242021213842...</td>\n",
       "    </tr>\n",
       "    <tr>\n",
       "      <th>002 - HEART TRANSPLANT OR IMPLANT OF HEART ASSIST SYSTEM W/O MCC</th>\n",
       "      <td>121215</td>\n",
       "    </tr>\n",
       "    <tr>\n",
       "      <th>003 - ECMO OR TRACH W MV &gt;96 HRS OR PDX EXC FACE, MOUTH &amp; NECK W MAJ O.R.</th>\n",
       "      <td>1214111412124251312122113291814541513182814201...</td>\n",
       "    </tr>\n",
       "    <tr>\n",
       "      <th>004 - TRACH W MV &gt;96 HRS OR PDX EXC FACE, MOUTH &amp; NECK W/O MAJ O.R.</th>\n",
       "      <td>1212211314171211321115121521141416131214142311...</td>\n",
       "    </tr>\n",
       "    <tr>\n",
       "      <th>005 - LIVER TRANSPLANT W MCC OR INTESTINAL TRANSPLANT</th>\n",
       "      <td>2930111624162616251420161911432018152923361915...</td>\n",
       "    </tr>\n",
       "  </tbody>\n",
       "</table>\n",
       "</div>"
      ],
      "text/plain": [
       "                                                                                     Total Discharges\n",
       "DRG Definition                                                                                       \n",
       "001 - HEART TRANSPLANT OR IMPLANT OF HEART ASSI...  1326331713112229184716161631361515242021213842...\n",
       "002 - HEART TRANSPLANT OR IMPLANT OF HEART ASSI...                                             121215\n",
       "003 - ECMO OR TRACH W MV >96 HRS OR PDX EXC FAC...  1214111412124251312122113291814541513182814201...\n",
       "004 - TRACH W MV >96 HRS OR PDX EXC FACE, MOUTH...  1212211314171211321115121521141416131214142311...\n",
       "005 - LIVER TRANSPLANT W MCC OR INTESTINAL TRAN...  2930111624162616251420161911432018152923361915..."
      ]
     },
     "execution_count": 54,
     "metadata": {},
     "output_type": "execute_result"
    }
   ],
   "source": [
    "# 2016 top procedures performed\n",
    "grouped_2016_df=data_2016_df.groupby(['DRG Definition'])\n",
    "grouped_2016_counts_df=pd.DataFrame(grouped_2016_df[('Total Discharges')].sum())\n",
    "# grouped_2016_counts_df['Total Discharges']=grouped_2016_counts_df['Total Discharges'].astype('int')\n",
    "grouped_2016_counts_df.sort_values(\"Total Discharges\", ascending=False).head(8)\n",
    "grouped_2016_counts_df.head()"
   ]
  },
  {
   "cell_type": "code",
   "execution_count": 47,
   "metadata": {},
   "outputs": [
    {
     "data": {
      "text/html": [
       "<div>\n",
       "<style scoped>\n",
       "    .dataframe tbody tr th:only-of-type {\n",
       "        vertical-align: middle;\n",
       "    }\n",
       "\n",
       "    .dataframe tbody tr th {\n",
       "        vertical-align: top;\n",
       "    }\n",
       "\n",
       "    .dataframe thead th {\n",
       "        text-align: right;\n",
       "    }\n",
       "</style>\n",
       "<table border=\"1\" class=\"dataframe\">\n",
       "  <thead>\n",
       "    <tr style=\"text-align: right;\">\n",
       "      <th></th>\n",
       "      <th>Total Discharges</th>\n",
       "    </tr>\n",
       "    <tr>\n",
       "      <th>DRG Definition</th>\n",
       "      <th></th>\n",
       "    </tr>\n",
       "  </thead>\n",
       "  <tbody>\n",
       "    <tr>\n",
       "      <th>871 - SEPTICEMIA OR SEVERE SEPSIS W/O MV &gt;96 HOURS W MCC</th>\n",
       "      <td>597736</td>\n",
       "    </tr>\n",
       "    <tr>\n",
       "      <th>470 - MAJOR JOINT REPLACEMENT OR REATTACHMENT OF LOWER EXTREMITY W/O MCC</th>\n",
       "      <td>510632</td>\n",
       "    </tr>\n",
       "    <tr>\n",
       "      <th>291 - HEART FAILURE &amp; SHOCK W MCC</th>\n",
       "      <td>359442</td>\n",
       "    </tr>\n",
       "    <tr>\n",
       "      <th>190 - CHRONIC OBSTRUCTIVE PULMONARY DISEASE W MCC</th>\n",
       "      <td>215525</td>\n",
       "    </tr>\n",
       "    <tr>\n",
       "      <th>189 - PULMONARY EDEMA &amp; RESPIRATORY FAILURE</th>\n",
       "      <td>165613</td>\n",
       "    </tr>\n",
       "    <tr>\n",
       "      <th>872 - SEPTICEMIA OR SEVERE SEPSIS W/O MV &gt;96 HOURS W/O MCC</th>\n",
       "      <td>157851</td>\n",
       "    </tr>\n",
       "    <tr>\n",
       "      <th>392 - ESOPHAGITIS, GASTROENT &amp; MISC DIGEST DISORDERS W/O MCC</th>\n",
       "      <td>155843</td>\n",
       "    </tr>\n",
       "    <tr>\n",
       "      <th>690 - KIDNEY &amp; URINARY TRACT INFECTIONS W/O MCC</th>\n",
       "      <td>138497</td>\n",
       "    </tr>\n",
       "    <tr>\n",
       "      <th>683 - RENAL FAILURE W CC</th>\n",
       "      <td>134011</td>\n",
       "    </tr>\n",
       "    <tr>\n",
       "      <th>378 - G.I. HEMORRHAGE W CC</th>\n",
       "      <td>131163</td>\n",
       "    </tr>\n",
       "    <tr>\n",
       "      <th>682 - RENAL FAILURE W MCC</th>\n",
       "      <td>109187</td>\n",
       "    </tr>\n",
       "    <tr>\n",
       "      <th>065 - INTRACRANIAL HEMORRHAGE OR CEREBRAL INFARCTION W CC OR TPA IN 24 HRS</th>\n",
       "      <td>108453</td>\n",
       "    </tr>\n",
       "    <tr>\n",
       "      <th>603 - CELLULITIS W/O MCC</th>\n",
       "      <td>106510</td>\n",
       "    </tr>\n",
       "    <tr>\n",
       "      <th>292 - HEART FAILURE &amp; SHOCK W CC</th>\n",
       "      <td>105424</td>\n",
       "    </tr>\n",
       "    <tr>\n",
       "      <th>193 - SIMPLE PNEUMONIA &amp; PLEURISY W MCC</th>\n",
       "      <td>104672</td>\n",
       "    </tr>\n",
       "  </tbody>\n",
       "</table>\n",
       "</div>"
      ],
      "text/plain": [
       "                                                    Total Discharges\n",
       "DRG Definition                                                      \n",
       "871 - SEPTICEMIA OR SEVERE SEPSIS W/O MV >96 HO...            597736\n",
       "470 - MAJOR JOINT REPLACEMENT OR REATTACHMENT O...            510632\n",
       "291 - HEART FAILURE & SHOCK W MCC                             359442\n",
       "190 - CHRONIC OBSTRUCTIVE PULMONARY DISEASE W MCC             215525\n",
       "189 - PULMONARY EDEMA & RESPIRATORY FAILURE                   165613\n",
       "872 - SEPTICEMIA OR SEVERE SEPSIS W/O MV >96 HO...            157851\n",
       "392 - ESOPHAGITIS, GASTROENT & MISC DIGEST DISO...            155843\n",
       "690 - KIDNEY & URINARY TRACT INFECTIONS W/O MCC               138497\n",
       "683 - RENAL FAILURE W CC                                      134011\n",
       "378 - G.I. HEMORRHAGE W CC                                    131163\n",
       "682 - RENAL FAILURE W MCC                                     109187\n",
       "065 - INTRACRANIAL HEMORRHAGE OR CEREBRAL INFAR...            108453\n",
       "603 - CELLULITIS W/O MCC                                      106510\n",
       "292 - HEART FAILURE & SHOCK W CC                              105424\n",
       "193 - SIMPLE PNEUMONIA & PLEURISY W MCC                       104672"
      ]
     },
     "execution_count": 47,
     "metadata": {},
     "output_type": "execute_result"
    }
   ],
   "source": [
    "# 2017 top procedures performed\n",
    "grouped_2017_df=data_2017_df.groupby(['DRG Definition'])\n",
    "grouped_2017_counts_df=pd.DataFrame(grouped_2017_df[('Total Discharges')].sum())\n",
    "grouped_2017_counts_df.sort_values(\"Total Discharges\", ascending=False).head(15)"
   ]
  },
  {
   "cell_type": "markdown",
   "metadata": {},
   "source": [
    "Determining number of procedures by price point within categories"
   ]
  },
  {
   "cell_type": "code",
   "execution_count": 37,
   "metadata": {},
   "outputs": [
    {
     "data": {
      "text/plain": [
       "223373.0667"
      ]
     },
     "execution_count": 37,
     "metadata": {},
     "output_type": "execute_result"
    }
   ],
   "source": [
    "# determining bins for 2011 DRG470 histogram\n",
    "data_2011_only_DRG470_df = data_2011_df.loc[data_2011_df['DRG Definition'] ==\\\n",
    "                                         \"470 - MAJOR JOINT REPLACEMENT OR REATTACHMENT OF LOWER EXTREMITY W/O MCC\",:]\n",
    "data_2011_only_DRG470_df[\"Average Covered Charges\"].max()"
   ]
  },
  {
   "cell_type": "code",
   "execution_count": 38,
   "metadata": {},
   "outputs": [
    {
     "name": "stderr",
     "output_type": "stream",
     "text": [
      "C:\\Users\\wsw22\\Anaconda3\\envs\\PythonData\\lib\\site-packages\\ipykernel_launcher.py:6: SettingWithCopyWarning: \n",
      "A value is trying to be set on a copy of a slice from a DataFrame.\n",
      "Try using .loc[row_indexer,col_indexer] = value instead\n",
      "\n",
      "See the caveats in the documentation: https://pandas.pydata.org/pandas-docs/stable/user_guide/indexing.html#returning-a-view-versus-a-copy\n",
      "  \n"
     ]
    },
    {
     "data": {
      "text/plain": [
       "DRG 470 Cost Group\n",
       "0 to 25k          135\n",
       "25k to 50k       1446\n",
       "50k to 75k        757\n",
       "75k to 100k       275\n",
       "100k to 125k       94\n",
       "125 to 150k        26\n",
       "150k to 175k       12\n",
       "175k to 200k        2\n",
       "200k to $225K       3\n",
       "Name: DRG Definition, dtype: int64"
      ]
     },
     "execution_count": 38,
     "metadata": {},
     "output_type": "execute_result"
    }
   ],
   "source": [
    "# binning 2011 DRG470 \n",
    "bins_2011_DRG470 = [0,24999,49999,74999,99999,124999, 149999, 174999,199999,224999,]\n",
    "DRG470_2011_group_labels = [\"0 to 25k\",\"25k to 50k\",\"50k to 75k\",\"75k to 100k\",\"100k to 125k\",\\\n",
    "                            \"125 to 150k\",\"150k to 175k\",\"175k to 200k\",\"200k to $225K\"]\n",
    "data_2011_only_DRG470_df[\"DRG 470 Cost Group\"]=pd.cut(data_2011_only_DRG470_df[\"Average Covered Charges\"]\\\n",
    "                                              ,bins_2011_DRG470,labels=DRG470_2011_group_labels)\n",
    "data_2011_only_DRG470_cost_group=data_2011_only_DRG470_df.groupby(\"DRG 470 Cost Group\")\n",
    "data_2011_only_DRG470_cost_group['DRG Definition'].count()"
   ]
  },
  {
   "cell_type": "code",
   "execution_count": 39,
   "metadata": {},
   "outputs": [
    {
     "data": {
      "text/plain": [
       "216438.2857"
      ]
     },
     "execution_count": 39,
     "metadata": {},
     "output_type": "execute_result"
    }
   ],
   "source": [
    "# determining bins for 2011 DRG871 histogram\n",
    "data_2011_only_DRG871_df = data_2011_df.loc[data_2011_df['DRG Definition'] ==\\\n",
    "                                         \"871 - SEPTICEMIA OR SEVERE SEPSIS W/O MV 96+ HOURS W MCC\",:]\n",
    "data_2011_only_DRG871_df[\"Average Covered Charges\"].max()"
   ]
  },
  {
   "cell_type": "code",
   "execution_count": 40,
   "metadata": {},
   "outputs": [
    {
     "name": "stderr",
     "output_type": "stream",
     "text": [
      "C:\\Users\\wsw22\\Anaconda3\\envs\\PythonData\\lib\\site-packages\\ipykernel_launcher.py:6: SettingWithCopyWarning: \n",
      "A value is trying to be set on a copy of a slice from a DataFrame.\n",
      "Try using .loc[row_indexer,col_indexer] = value instead\n",
      "\n",
      "See the caveats in the documentation: https://pandas.pydata.org/pandas-docs/stable/user_guide/indexing.html#returning-a-view-versus-a-copy\n",
      "  \n"
     ]
    },
    {
     "data": {
      "text/plain": [
       "DRG 871 Cost Group\n",
       "0 to 25k          579\n",
       "25k to 50k       1334\n",
       "50k to 75k        532\n",
       "75k to 100k       225\n",
       "100k to 125k       87\n",
       "125 to 150k        35\n",
       "150k to 175k        7\n",
       "175k to 200k        8\n",
       "200k to $225K       5\n",
       "Name: DRG Definition, dtype: int64"
      ]
     },
     "execution_count": 40,
     "metadata": {},
     "output_type": "execute_result"
    }
   ],
   "source": [
    "# binning 2011 DRG871\n",
    "bins_2011_DRG871 = [0,24999,49999,74999,99999,124999, 149999, 174999,199999,224999]\n",
    "DRG871_2011_group_labels = [\"0 to 25k\",\"25k to 50k\",\"50k to 75k\",\"75k to 100k\",\"100k to 125k\",\\\n",
    "                            \"125 to 150k\",\"150k to 175k\",\"175k to 200k\",\"200k to $225K\"]\n",
    "data_2011_only_DRG871_df[\"DRG 871 Cost Group\"]=pd.cut(data_2011_only_DRG871_df[\"Average Covered Charges\"]\\\n",
    "                                              ,bins_2011_DRG871,labels=DRG871_2011_group_labels)\n",
    "data_2011_only_DRG871_cost_group=data_2011_only_DRG871_df.groupby(\"DRG 871 Cost Group\")\n",
    "data_2011_only_DRG871_cost_group['DRG Definition'].count()"
   ]
  },
  {
   "cell_type": "code",
   "execution_count": 41,
   "metadata": {},
   "outputs": [
    {
     "data": {
      "text/plain": [
       "96216.73077000001"
      ]
     },
     "execution_count": 41,
     "metadata": {},
     "output_type": "execute_result"
    }
   ],
   "source": [
    "# determining bins for 2011 DRG392 histogram\n",
    "data_2011_only_DRG392_df = data_2011_df.loc[data_2011_df['DRG Definition'] ==\\\n",
    "                                         \"392 - ESOPHAGITIS, GASTROENT & MISC DIGEST DISORDERS W/O MCC\",:]\n",
    "data_2011_only_DRG392_df[\"Average Covered Charges\"].max()"
   ]
  },
  {
   "cell_type": "code",
   "execution_count": 42,
   "metadata": {},
   "outputs": [
    {
     "name": "stderr",
     "output_type": "stream",
     "text": [
      "C:\\Users\\wsw22\\Anaconda3\\envs\\PythonData\\lib\\site-packages\\ipykernel_launcher.py:6: SettingWithCopyWarning: \n",
      "A value is trying to be set on a copy of a slice from a DataFrame.\n",
      "Try using .loc[row_indexer,col_indexer] = value instead\n",
      "\n",
      "See the caveats in the documentation: https://pandas.pydata.org/pandas-docs/stable/user_guide/indexing.html#returning-a-view-versus-a-copy\n",
      "  \n"
     ]
    },
    {
     "data": {
      "text/plain": [
       "DRG 392 Cost Group\n",
       "0 to 10k        409\n",
       "10k to 20k     1519\n",
       "20k to 30k      639\n",
       "30k to 40k      248\n",
       "40k to 50k       87\n",
       "50 to 60k        27\n",
       "60k to 70k       12\n",
       "70k to 80k        5\n",
       "80k to $90K       3\n",
       "90k to 100k       1\n",
       "Name: DRG Definition, dtype: int64"
      ]
     },
     "execution_count": 42,
     "metadata": {},
     "output_type": "execute_result"
    }
   ],
   "source": [
    "# binning 2011 DRG392\n",
    "bins_2011_DRG392 = [0,9999,19999,29999,39999,49999, 59999, 69999,79999,89999,99999]\n",
    "DRG392_2011_group_labels = [\"0 to 10k\",\"10k to 20k\",\"20k to 30k\",\"30k to 40k\",\"40k to 50k\",\\\n",
    "                            \"50 to 60k\",\"60k to 70k\",\"70k to 80k\",\"80k to $90K\",\"90k to 100k\"]\n",
    "data_2011_only_DRG392_df[\"DRG 392 Cost Group\"]=pd.cut(data_2011_only_DRG392_df[\"Average Covered Charges\"]\\\n",
    "                                              ,bins_2011_DRG392,labels=DRG392_2011_group_labels)\n",
    "data_2011_only_DRG392_cost_group=data_2011_only_DRG392_df.groupby(\"DRG 392 Cost Group\")\n",
    "data_2011_only_DRG392_cost_group['DRG Definition'].count()"
   ]
  },
  {
   "cell_type": "code",
   "execution_count": 43,
   "metadata": {},
   "outputs": [
    {
     "data": {
      "text/plain": [
       "91695.0"
      ]
     },
     "execution_count": 43,
     "metadata": {},
     "output_type": "execute_result"
    }
   ],
   "source": [
    "# determining bins for 2011 DRG690 histogram\n",
    "data_2011_only_DRG690_df = data_2011_df.loc[data_2011_df['DRG Definition'] ==\\\n",
    "                                         \"690 - KIDNEY & URINARY TRACT INFECTIONS W/O MCC\",:]\n",
    "data_2011_only_DRG690_df[\"Average Covered Charges\"].max()"
   ]
  },
  {
   "cell_type": "code",
   "execution_count": 46,
   "metadata": {},
   "outputs": [
    {
     "name": "stderr",
     "output_type": "stream",
     "text": [
      "C:\\Users\\wsw22\\Anaconda3\\envs\\PythonData\\lib\\site-packages\\ipykernel_launcher.py:6: SettingWithCopyWarning: \n",
      "A value is trying to be set on a copy of a slice from a DataFrame.\n",
      "Try using .loc[row_indexer,col_indexer] = value instead\n",
      "\n",
      "See the caveats in the documentation: https://pandas.pydata.org/pandas-docs/stable/user_guide/indexing.html#returning-a-view-versus-a-copy\n",
      "  \n"
     ]
    },
    {
     "data": {
      "text/plain": [
       "DRG 690 Cost Group\n",
       "0 to 10k        490\n",
       "10k to 20k     1590\n",
       "20k to 30k      552\n",
       "30k to 40k      221\n",
       "40k to 50k       89\n",
       "50 to 60k        27\n",
       "60k to 70k        7\n",
       "70k to 80k        9\n",
       "80k to $90K       3\n",
       "90k to 100k       1\n",
       "Name: DRG Definition, dtype: int64"
      ]
     },
     "execution_count": 46,
     "metadata": {},
     "output_type": "execute_result"
    }
   ],
   "source": [
    "# binning 2011 DRG690\n",
    "bins_2011_DRG690 = [0,9999,19999,29999,39999,49999, 59999, 69999,79999,89999,99999]\n",
    "DRG690_2011_group_labels = [\"0 to 10k\",\"10k to 20k\",\"20k to 30k\",\"30k to 40k\",\"40k to 50k\",\\\n",
    "                            \"50 to 60k\",\"60k to 70k\",\"70k to 80k\",\"80k to $90K\",\"90k to 100k\"]\n",
    "data_2011_only_DRG690_df[\"DRG 690 Cost Group\"]=pd.cut(data_2011_only_DRG690_df[\"Average Covered Charges\"]\\\n",
    "                                              ,bins_2011_DRG690,labels=DRG690_2011_group_labels)\n",
    "data_2011_only_DRG690_cost_group=data_2011_only_DRG690_df.groupby(\"DRG 690 Cost Group\")\n",
    "data_2011_only_DRG690_cost_group['DRG Definition'].count()"
   ]
  },
  {
   "cell_type": "code",
   "execution_count": 57,
   "metadata": {},
   "outputs": [
    {
     "data": {
      "text/plain": [
       "124050.6835"
      ]
     },
     "execution_count": 57,
     "metadata": {},
     "output_type": "execute_result"
    }
   ],
   "source": [
    "# determining bins for 2011 DRG194 histogram\n",
    "data_2011_only_DRG194_df = data_2011_df.loc[data_2011_df['DRG Definition'] ==\\\n",
    "                                         \"194 - SIMPLE PNEUMONIA & PLEURISY W CC\",:]\n",
    "data_2011_only_DRG194_df[\"Average Covered Charges\"].max()"
   ]
  },
  {
   "cell_type": "code",
   "execution_count": 63,
   "metadata": {},
   "outputs": [
    {
     "name": "stderr",
     "output_type": "stream",
     "text": [
      "C:\\Users\\wsw22\\Anaconda3\\envs\\PythonData\\lib\\site-packages\\ipykernel_launcher.py:6: SettingWithCopyWarning: \n",
      "A value is trying to be set on a copy of a slice from a DataFrame.\n",
      "Try using .loc[row_indexer,col_indexer] = value instead\n",
      "\n",
      "See the caveats in the documentation: https://pandas.pydata.org/pandas-docs/stable/user_guide/indexing.html#returning-a-view-versus-a-copy\n",
      "  \n"
     ]
    },
    {
     "data": {
      "text/plain": [
       "DRG 194 Cost Group\n",
       "0 to 10k         165\n",
       "10k to 20k      1285\n",
       "20k to 30k       855\n",
       "30k to 40k       346\n",
       "40k to 50k       187\n",
       "50 to 60k         95\n",
       "60k to 70k        45\n",
       "70k to 80k        22\n",
       "80k to $90K       10\n",
       "90k to 100k        6\n",
       "100k to 110k       4\n",
       "110k to 120k       1\n",
       "Name: DRG Definition, dtype: int64"
      ]
     },
     "execution_count": 63,
     "metadata": {},
     "output_type": "execute_result"
    }
   ],
   "source": [
    "# binning 2011 DRG194\n",
    "bins_2011_DRG194 = [0,9999,19999,29999,39999,49999, 59999, 69999,79999,89999,99999,109999,119999]\n",
    "DRG194_2011_group_labels = [\"0 to 10k\",\"10k to 20k\",\"20k to 30k\",\"30k to 40k\",\"40k to 50k\",\\\n",
    "                            \"50 to 60k\",\"60k to 70k\",\"70k to 80k\",\"80k to $90K\",\"90k to 100k\",\"100k to 110k\",\"110k to 120k\"]\n",
    "data_2011_only_DRG194_df[\"DRG 194 Cost Group\"]=pd.cut(data_2011_only_DRG194_df[\"Average Covered Charges\"]\\\n",
    "                                              ,bins_2011_DRG194,labels=DRG194_2011_group_labels)\n",
    "data_2011_only_DRG194_cost_group=data_2011_only_DRG194_df.groupby(\"DRG 194 Cost Group\")\n",
    "data_2011_only_DRG194_cost_group['DRG Definition'].count()"
   ]
  },
  {
   "cell_type": "code",
   "execution_count": 62,
   "metadata": {},
   "outputs": [
    {
     "data": {
      "text/plain": [
       "91222.2"
      ]
     },
     "execution_count": 62,
     "metadata": {},
     "output_type": "execute_result"
    }
   ],
   "source": [
    "# determining bins for 2011 DRG641 histogram\n",
    "data_2011_only_DRG641_df = data_2011_df.loc[data_2011_df['DRG Definition'] ==\\\n",
    "                                         \"641 - MISC DISORDERS OF NUTRITION,METABOLISM,FLUIDS/ELECTROLYTES W/O MCC\",:]\n",
    "data_2011_only_DRG641_df[\"Average Covered Charges\"].max()"
   ]
  },
  {
   "cell_type": "code",
   "execution_count": 65,
   "metadata": {},
   "outputs": [
    {
     "name": "stderr",
     "output_type": "stream",
     "text": [
      "C:\\Users\\wsw22\\Anaconda3\\envs\\PythonData\\lib\\site-packages\\ipykernel_launcher.py:6: SettingWithCopyWarning: \n",
      "A value is trying to be set on a copy of a slice from a DataFrame.\n",
      "Try using .loc[row_indexer,col_indexer] = value instead\n",
      "\n",
      "See the caveats in the documentation: https://pandas.pydata.org/pandas-docs/stable/user_guide/indexing.html#returning-a-view-versus-a-copy\n",
      "  \n"
     ]
    },
    {
     "data": {
      "text/plain": [
       "DRG 641 Cost Group\n",
       "0 to 10k        659\n",
       "10k to 20k     1517\n",
       "20k to 30k      448\n",
       "30k to 40k      190\n",
       "40k to 50k       52\n",
       "50 to 60k        23\n",
       "60k to 70k        5\n",
       "70k to 80k        4\n",
       "80k to $90K       0\n",
       "90k to 100k       1\n",
       "Name: DRG Definition, dtype: int64"
      ]
     },
     "execution_count": 65,
     "metadata": {},
     "output_type": "execute_result"
    }
   ],
   "source": [
    "# binning 2011 DRG641\n",
    "bins_2011_DRG641 = [0,9999,19999,29999,39999,49999, 59999, 69999,79999,89999,99999]\n",
    "DRG641_2011_group_labels = [\"0 to 10k\",\"10k to 20k\",\"20k to 30k\",\"30k to 40k\",\"40k to 50k\",\\\n",
    "                            \"50 to 60k\",\"60k to 70k\",\"70k to 80k\",\"80k to $90K\",\"90k to 100k\"]\n",
    "data_2011_only_DRG641_df[\"DRG 641 Cost Group\"]=pd.cut(data_2011_only_DRG641_df[\"Average Covered Charges\"]\\\n",
    "                                              ,bins_2011_DRG641,labels=DRG641_2011_group_labels)\n",
    "data_2011_only_DRG641_cost_group=data_2011_only_DRG641_df.groupby(\"DRG 641 Cost Group\")\n",
    "data_2011_only_DRG641_cost_group['DRG Definition'].count()"
   ]
  },
  {
   "cell_type": "code",
   "execution_count": null,
   "metadata": {},
   "outputs": [],
   "source": [
    "income_2011 = \"data_median_income/final_2011_median_income.csv\"\n",
    "income_2012 = \"data_median_income/final_2012_median_income.csv\"\n",
    "income_2013 = \"data_median_income/final_2013_median_income.csv\"\n",
    "income_2014 = \"data_median_income/final_2014_median_income.csv\"\n",
    "income_2015 = \"data_median_income/final_2015_median_income.csv\"\n",
    "income_2016 = \"data_median_income/final_2016_median_income.csv\"\n",
    "income_2017 = \"data_median_income/final_2017_median_income.csv\"\n",
    "\n",
    "income_2011_df = pd.read_csv(income_2011, low_memory=False)\n",
    "income_2012_df = pd.read_csv(income_2012, low_memory=False)\n",
    "income_2013_df = pd.read_csv(income_2013, low_memory=False)\n",
    "income_2014_df = pd.read_csv(income_2014, low_memory=False)\n",
    "income_2015_df = pd.read_csv(income_2015, low_memory=False)\n",
    "income_2016_df = pd.read_csv(income_2016, low_memory=False)\n",
    "income_2017_df = pd.read_csv(income_2017, low_memory=False)\n"
   ]
  },
  {
   "cell_type": "code",
   "execution_count": null,
   "metadata": {},
   "outputs": [],
   "source": [
    "#add year\n",
    "data_2011_year_df = data_2011_df['Payment Year'] = 2011\n",
    "data_2012_year_df = data_2012_df['Payment Year'] = 2012\n",
    "data_2013_year_df = data_2013_df['Payment Year'] = 2013\n",
    "data_2014_year_df = data_2014_df['Payment Year'] = 2014\n",
    "data_2015_year_df = data_2015_df['Payment Year'] = 2015\n",
    "data_2016_year_df = data_2016_df['Payment Year'] = 2016\n",
    "data_2017_year_df = data_2017_df['Payment Year'] = 2017\n",
    "print(data_2017_year_df)"
   ]
  },
  {
   "cell_type": "code",
   "execution_count": null,
   "metadata": {},
   "outputs": [],
   "source": [
    "data_2011_df.head()"
   ]
  },
  {
   "cell_type": "code",
   "execution_count": null,
   "metadata": {},
   "outputs": [],
   "source": [
    "#add zip\n",
    "data_2011_year_df = data_2011_df['3 Digit Zip Code'] = \"\"\n",
    "data_2012_year_df = data_2012_df['3 Digit Zip Code'] = \"\"\n",
    "data_2013_year_df = data_2013_df['3 Digit Zip Code'] = \"\"\n",
    "data_2014_year_df = data_2014_df['3 Digit Zip Code'] = \"\"\n",
    "data_2015_year_df = data_2015_df['3 Digit Zip Code'] = \"\"\n",
    "data_2016_year_df = data_2016_df['3 Digit Zip Code'] = \"\"\n",
    "data_2017_year_df = data_2017_df['3 Digit Zip Code'] = \"\"\n"
   ]
  },
  {
   "cell_type": "code",
   "execution_count": null,
   "metadata": {},
   "outputs": [],
   "source": [
    "data_2011_df.head()"
   ]
  },
  {
   "cell_type": "code",
   "execution_count": null,
   "metadata": {},
   "outputs": [],
   "source": [
    "import pandas as pd\n",
    "# result = pd.merge(left, right, on=['key1', 'key2'])\n",
    "# result = pd.merge(left, right, on='key')\n",
    "\n",
    "# frames = [df1, df2, df3]\n",
    "# result = pd.concat(frames)\n",
    "\n",
    "#merge all data frames\n",
    "#start with non-empty array\n",
    "final_data_df = data_2011_year_df\n",
    "frames = [data_2011_df, data_2012_df,data_2013_df,data_2014_df,data_2015_df,data_2016_df,data_2017_df]\n",
    "final_data_df = pd.concat(frames)\n",
    "\n",
    "all_income_df = income_2011_df\n",
    "income_frames = [income_2011_df, income_2012_df, income_2013_df, income_2014_df, income_2015_df, income_2016_df, income_2017_df]\n",
    "all_income_df = pd.concat(income_frames)\n",
    "\n",
    "\n",
    "\n",
    "#result = df1.append([df2, df3])\n",
    "\n",
    "#final_data_df = data_2011_df.append([data_2012_df,data_2013_df,data_2014_df,data_2015_df,data_2016_df,data_2017_df])\n",
    "\n",
    "all_income_df\n",
    "#df.name.unique()\n"
   ]
  },
  {
   "cell_type": "code",
   "execution_count": null,
   "metadata": {},
   "outputs": [],
   "source": [
    "# cleaup up floats\n",
    "# final_data_df['Provider Id'] = final_data_df['Provider Id'].astype(str).replace('\\.0', '', regex=True)\n",
    "# final_data_df['Provider Zip Code'] = final_data_df['Provider Zip Code'].astype(str).replace('\\.0', '', regex=True)\n",
    "\n",
    "# print (final_data_df)"
   ]
  },
  {
   "cell_type": "code",
   "execution_count": null,
   "metadata": {},
   "outputs": [],
   "source": [
    "# #3 digit zipcode\n",
    "# #convert column to string\n",
    "# final_data_df['3 Digit Zip Code'] = final_data_df['3 Digit Zip Code'].apply(str)\n",
    "\n",
    "# n = 0\n",
    "# for i, row in final_data_df.iterrows():\n",
    "#     df.iloc[n,-1]= df.iloc[n,6][:3]\n",
    "#     n +=1"
   ]
  },
  {
   "cell_type": "code",
   "execution_count": null,
   "metadata": {},
   "outputs": [],
   "source": [
    "final_data_df.head()"
   ]
  },
  {
   "cell_type": "code",
   "execution_count": null,
   "metadata": {},
   "outputs": [],
   "source": [
    "#cleaned_2011 = cleaned_2011.rename(columns = {\"Geographic Area Name\":\"Zip Code\", \"Median income (dollars)!!Estimate!!Households\":\"Median Income\"})\n",
    "\n",
    "all_income_df = all_income_df.rename(columns = {\"Zip Code\":\"Provider Zip Code\", \"Year\":\"Payment Year\"})\n"
   ]
  },
  {
   "cell_type": "code",
   "execution_count": null,
   "metadata": {},
   "outputs": [],
   "source": [
    "pd.merge(final_data_df, all_income_df, on=[\"Provider Zip Code\", \"Payment Year\"])"
   ]
  },
  {
   "cell_type": "code",
   "execution_count": null,
   "metadata": {},
   "outputs": [],
   "source": []
  }
 ],
 "metadata": {
  "anaconda-cloud": {},
  "kernel_info": {
   "name": "python3"
  },
  "kernelspec": {
   "display_name": "Python 3",
   "language": "python",
   "name": "python3"
  },
  "language_info": {
   "codemirror_mode": {
    "name": "ipython",
    "version": 3
   },
   "file_extension": ".py",
   "mimetype": "text/x-python",
   "name": "python",
   "nbconvert_exporter": "python",
   "pygments_lexer": "ipython3",
   "version": "3.6.10"
  },
  "latex_envs": {
   "LaTeX_envs_menu_present": true,
   "autoclose": false,
   "autocomplete": true,
   "bibliofile": "biblio.bib",
   "cite_by": "apalike",
   "current_citInitial": 1,
   "eqLabelWithNumbers": true,
   "eqNumInitial": 1,
   "hotkeys": {
    "equation": "Ctrl-E",
    "itemize": "Ctrl-I"
   },
   "labels_anchors": false,
   "latex_user_defs": false,
   "report_style_numbering": false,
   "user_envs_cfg": false
  },
  "nteract": {
   "version": "0.8.4"
  }
 },
 "nbformat": 4,
 "nbformat_minor": 4
}
